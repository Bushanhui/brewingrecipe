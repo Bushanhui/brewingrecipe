{
 "cells": [
  {
   "cell_type": "code",
   "execution_count": 1,
   "metadata": {},
   "outputs": [
    {
     "name": "stdout",
     "output_type": "stream",
     "text": [
      "기존 SSL_CERT_FILE: None\n",
      "certifi CA 경로로 SSL_CERT_FILE 설정: c:\\Users\\jjw37\\neo4j-rag\\neo4j-graphrag\\.venv\\Lib\\site-packages\\certifi\\cacert.pem\n"
     ]
    }
   ],
   "source": [
    "import os\n",
    "import certifi\n",
    "\n",
    "# SSL_CERT_FILE 환경 변수가 설정되어 있지 않거나,\n",
    "# 설정된 경로에 파일이 존재하지 않는 경우, certifi의 CA 번들 경로로 설정\n",
    "# 또는 현재 설정된 SSL_CERT_FILE이 certifi의 경로와 다른 경우에도 certifi로 강제\n",
    "current_ssl_cert_file = os.environ.get('SSL_CERT_FILE')\n",
    "certifi_path = certifi.where()\n",
    "\n",
    "if not current_ssl_cert_file or current_ssl_cert_file != certifi_path:\n",
    "    print(f\"기존 SSL_CERT_FILE: {current_ssl_cert_file}\")\n",
    "    print(f\"certifi CA 경로로 SSL_CERT_FILE 설정: {certifi_path}\")\n",
    "    os.environ['SSL_CERT_FILE'] = certifi_path\n",
    "else:\n",
    "    print(f\"SSL_CERT_FILE이 이미 certifi 경로로 설정됨: {current_ssl_cert_file}\")"
   ]
  },
  {
   "cell_type": "code",
   "execution_count": 2,
   "metadata": {},
   "outputs": [
    {
     "data": {
      "text/plain": [
       "True"
      ]
     },
     "execution_count": 2,
     "metadata": {},
     "output_type": "execute_result"
    }
   ],
   "source": [
    "import os\n",
    "from dotenv import load_dotenv\n",
    "\n",
    "load_dotenv()"
   ]
  },
  {
   "cell_type": "code",
   "execution_count": 3,
   "metadata": {},
   "outputs": [],
   "source": [
    "from langchain_neo4j import Neo4jGraph\n",
    "\n",
    "graph = Neo4jGraph( \n",
    "    url=os.getenv(\"NEO4J_URI\"), \n",
    "    username=os.getenv(\"NEO4J_USERNAME\"), \n",
    "    password=os.getenv(\"NEO4J_PASSWORD\"),\n",
    "    database=os.getenv(\"NEO4J_DATABASE\"),\n",
    "    enhanced_schema=True\n",
    ")"
   ]
  },
  {
   "cell_type": "markdown",
   "metadata": {},
   "source": [
    "### 데이터베이스 생성"
   ]
  },
  {
   "cell_type": "code",
   "execution_count": 4,
   "metadata": {},
   "outputs": [
    {
     "name": "stdout",
     "output_type": "stream",
     "text": [
      "데이터베이스가 초기화되었습니다.\n"
     ]
    }
   ],
   "source": [
    "def reset_database(graph):\n",
    "    \"\"\"\n",
    "    데이터베이스 초기화하기\n",
    "    \"\"\"\n",
    "    # 모든 노드와 관계 삭제\n",
    "    graph.query(\"MATCH (n) DETACH DELETE n\")\n",
    "    \n",
    "    # 모든 제약조건 삭제\n",
    "    constraints = graph.query(\"SHOW CONSTRAINTS\")\n",
    "    for constraint in constraints:\n",
    "        constraint_name = constraint.get(\"name\")\n",
    "        if constraint_name:\n",
    "            graph.query(f\"DROP CONSTRAINT {constraint_name}\")\n",
    "    \n",
    "    # 모든 인덱스 삭제\n",
    "    indexes = graph.query(\"SHOW INDEXES\")\n",
    "    for index in indexes:\n",
    "        index_name = index.get(\"name\")\n",
    "        index_type = index.get(\"type\")\n",
    "        if index_name and index_type != \"CONSTRAINT\":\n",
    "            graph.query(f\"DROP INDEX {index_name}\")\n",
    "    \n",
    "    print(\"데이터베이스가 초기화되었습니다.\")\n",
    "\n",
    "# 데이터베이스 초기화\n",
    "reset_database(graph)"
   ]
  },
  {
   "cell_type": "code",
   "execution_count": 5,
   "metadata": {},
   "outputs": [
    {
     "data": {
      "text/plain": [
       "[]"
      ]
     },
     "execution_count": 5,
     "metadata": {},
     "output_type": "execute_result"
    }
   ],
   "source": [
    "graph.query(\"MATCH (n) RETURN n LIMIT 5\")"
   ]
  },
  {
   "cell_type": "code",
   "execution_count": 6,
   "metadata": {},
   "outputs": [
    {
     "name": "stdout",
     "output_type": "stream",
     "text": [
      "제약조건 생성 중...\n",
      "✓ category_name_unique 제약조건 생성 완료\n",
      "✓ subcategory_name_unique 제약조건 생성 완료\n",
      "✓ flavor_name_unique 제약조건 생성 완료\n",
      "✓ subflavor_name_unique 제약조건 생성 완료\n",
      "\n",
      "인덱스 생성 중...\n",
      "✓ category_name_index 인덱스 생성 완료\n",
      "✓ subcategory_name_index 인덱스 생성 완료\n",
      "✓ flavor_name_index 인덱스 생성 완료\n",
      "✓ subflavor_name_index 인덱스 생성 완료\n",
      "\n",
      "제약조건 및 인덱스 생성이 완료되었습니다.\n"
     ]
    }
   ],
   "source": [
    "# 제약조건 및 인덱스 생성\n",
    "def create_constraints_and_indexes(graph):\n",
    "    \"\"\"\n",
    "    필요한 제약조건과 인덱스를 생성합니다.\n",
    "    \"\"\"\n",
    "    \n",
    "    # 제약조건 생성 (중복 방지 및 데이터 무결성)\n",
    "    constraints = [\n",
    "        \"CREATE CONSTRAINT category_name_unique IF NOT EXISTS FOR (c:Category) REQUIRE c.name IS UNIQUE\",\n",
    "        \"CREATE CONSTRAINT subcategory_name_unique IF NOT EXISTS FOR (sc:SubCategory) REQUIRE sc.name IS UNIQUE\", \n",
    "        \"CREATE CONSTRAINT flavor_name_unique IF NOT EXISTS FOR (f:Flavor) REQUIRE f.name IS UNIQUE\",\n",
    "        \"CREATE CONSTRAINT subflavor_name_unique IF NOT EXISTS FOR (sf:SubFlavor) REQUIRE sf.name IS UNIQUE\"\n",
    "    ]\n",
    "    \n",
    "    # 인덱스 생성 (쿼리 성능 향상)\n",
    "    indexes = [\n",
    "        \"CREATE INDEX category_name_index IF NOT EXISTS FOR (c:Category) ON (c.name)\",\n",
    "        \"CREATE INDEX subcategory_name_index IF NOT EXISTS FOR (sc:SubCategory) ON (sc.name)\",\n",
    "        \"CREATE INDEX flavor_name_index IF NOT EXISTS FOR (f:Flavor) ON (f.name)\",\n",
    "        \"CREATE INDEX subflavor_name_index IF NOT EXISTS FOR (sf:SubFlavor) ON (sf.name)\"\n",
    "    ]\n",
    "    \n",
    "    print(\"제약조건 생성 중...\")\n",
    "    for constraint in constraints:\n",
    "        try:\n",
    "            graph.query(constraint)\n",
    "            print(f\"✓ {constraint.split()[2]} 제약조건 생성 완료\")\n",
    "        except Exception as e:\n",
    "            print(f\"✗ 제약조건 생성 실패: {e}\")\n",
    "    \n",
    "    print(\"\\n인덱스 생성 중...\")\n",
    "    for index in indexes:\n",
    "        try:\n",
    "            graph.query(index)\n",
    "            print(f\"✓ {index.split()[2]} 인덱스 생성 완료\")\n",
    "        except Exception as e:\n",
    "            print(f\"✗ 인덱스 생성 실패: {e}\")\n",
    "    \n",
    "    print(\"\\n제약조건 및 인덱스 생성이 완료되었습니다.\")\n",
    "\n",
    "# 제약조건 및 인덱스 생성 실행\n",
    "create_constraints_and_indexes(graph)\n"
   ]
  },
  {
   "cell_type": "code",
   "execution_count": 7,
   "metadata": {},
   "outputs": [
    {
     "data": {
      "text/plain": [
       "[]"
      ]
     },
     "execution_count": 7,
     "metadata": {},
     "output_type": "execute_result"
    }
   ],
   "source": [
    "allnode_query = \"\"\"\n",
    "MATCH (n)\n",
    "WHERE n:Category OR n:SubCategory OR n:Flavor OR n:SubFlavor\n",
    "SET n:AllNode\n",
    "\"\"\"\n",
    "\n",
    "graph.query(allnode_query)"
   ]
  },
  {
   "cell_type": "code",
   "execution_count": 8,
   "metadata": {},
   "outputs": [
    {
     "data": {
      "text/plain": [
       "[]"
      ]
     },
     "execution_count": 8,
     "metadata": {},
     "output_type": "execute_result"
    }
   ],
   "source": [
    "cypher_query = \"\"\"\n",
    "LOAD CSV WITH HEADERS FROM 'https://raw.githubusercontent.com/Bushanhui/brewingrecipe/refs/heads/main/ccc_flavor_graph_updated_250629.csv' AS row\n",
    "\n",
    "// 공통 노드 생성\n",
    "MERGE (c:Category {name: row.Category})\n",
    "MERGE (sc:SubCategory {name: row.`Sub-category`})\n",
    "MERGE (f:Flavor {name: row.Flavor})\n",
    "\n",
    "// 공통 관계 연결\n",
    "MERGE (c)-[:INCLUDES]->(sc)\n",
    "MERGE (sc)-[:INCLUDES]->(f)\n",
    "\n",
    "// 조건: Sub-flavor가 존재할 경우에만 노드 및 관계 생성\n",
    "WITH row, f\n",
    "WHERE row.`Sub-flavor` IS NOT NULL AND trim(row.`Sub-flavor`) <> ''\n",
    "MERGE (sf:SubFlavor {name: row.`Sub-flavor`})\n",
    "MERGE (f)-[:INCLUDES]->(sf)\n",
    "\"\"\"\n",
    "\n",
    "graph.query(cypher_query)"
   ]
  },
  {
   "cell_type": "code",
   "execution_count": 9,
   "metadata": {},
   "outputs": [
    {
     "data": {
      "text/plain": [
       "[{'name': 'neo4j',\n",
       "  'type': 'standard',\n",
       "  'aliases': [],\n",
       "  'access': 'read-write',\n",
       "  'address': 'localhost:7687',\n",
       "  'role': 'primary',\n",
       "  'writer': True,\n",
       "  'requestedStatus': 'online',\n",
       "  'currentStatus': 'online',\n",
       "  'statusMessage': '',\n",
       "  'default': True,\n",
       "  'home': True,\n",
       "  'constituents': []},\n",
       " {'name': 'system',\n",
       "  'type': 'system',\n",
       "  'aliases': [],\n",
       "  'access': 'read-write',\n",
       "  'address': 'localhost:7687',\n",
       "  'role': 'primary',\n",
       "  'writer': True,\n",
       "  'requestedStatus': 'online',\n",
       "  'currentStatus': 'online',\n",
       "  'statusMessage': '',\n",
       "  'default': False,\n",
       "  'home': False,\n",
       "  'constituents': []}]"
      ]
     },
     "execution_count": 9,
     "metadata": {},
     "output_type": "execute_result"
    }
   ],
   "source": [
    "graph.query(\"SHOW DATABASES\")"
   ]
  },
  {
   "cell_type": "code",
   "execution_count": 10,
   "metadata": {},
   "outputs": [
    {
     "name": "stdout",
     "output_type": "stream",
     "text": [
      "=== 생성된 제약조건 ===\n",
      "- category_name_unique: ['Category'] (['name'])\n",
      "- flavor_name_unique: ['Flavor'] (['name'])\n",
      "- subcategory_name_unique: ['SubCategory'] (['name'])\n",
      "- subflavor_name_unique: ['SubFlavor'] (['name'])\n",
      "\n",
      "=== 생성된 인덱스 ===\n",
      "- category_name_unique: ['Category'] (['name'])\n",
      "- flavor_name_unique: ['Flavor'] (['name'])\n",
      "- subcategory_name_unique: ['SubCategory'] (['name'])\n",
      "- subflavor_name_unique: ['SubFlavor'] (['name'])\n",
      "\n",
      "=== 데이터 확인 ===\n",
      "카테고리: fruit -> 서브카테고리: tropical fruit -> 맛: tropical juice\n",
      "카테고리: fruit -> 서브카테고리: tropical fruit -> 맛: lychee juice\n",
      "카테고리: fruit -> 서브카테고리: tropical fruit -> 맛: tropical candy\n",
      "카테고리: fruit -> 서브카테고리: tropical fruit -> 맛: banana\n",
      "카테고리: fruit -> 서브카테고리: tropical fruit -> 맛: green papaya\n"
     ]
    }
   ],
   "source": [
    "# 생성된 제약조건과 인덱스 확인\n",
    "print(\"=== 생성된 제약조건 ===\")\n",
    "constraints = graph.query(\"SHOW CONSTRAINTS\")\n",
    "for constraint in constraints:\n",
    "    print(f\"- {constraint['name']}: {constraint['labelsOrTypes']} ({constraint['properties']})\")\n",
    "\n",
    "print(\"\\n=== 생성된 인덱스 ===\")\n",
    "indexes = graph.query(\"SHOW INDEXES\")\n",
    "for index in indexes:\n",
    "    if index['type'] != 'CONSTRAINT':\n",
    "        print(f\"- {index['name']}: {index['labelsOrTypes']} ({index['properties']})\")\n",
    "\n",
    "print(\"\\n=== 데이터 확인 ===\")\n",
    "result = graph.query(\"\"\"\n",
    "MATCH (c:Category)-[:INCLUDES]->(sc:SubCategory)-[:INCLUDES]->(f:Flavor)\n",
    "RETURN c.name as category, sc.name as subcategory, f.name as flavor\n",
    "LIMIT 5\n",
    "\"\"\")\n",
    "for row in result:\n",
    "    print(f\"카테고리: {row['category']} -> 서브카테고리: {row['subcategory']} -> 맛: {row['flavor']}\")"
   ]
  },
  {
   "cell_type": "code",
   "execution_count": 11,
   "metadata": {},
   "outputs": [
    {
     "data": {
      "text/plain": [
       "[]"
      ]
     },
     "execution_count": 11,
     "metadata": {},
     "output_type": "execute_result"
    }
   ],
   "source": [
    "fulltext_index_query = \"\"\"\n",
    "CREATE FULLTEXT INDEX flavorFulltextIndex\n",
    "IF NOT EXISTS\n",
    "FOR (n:Flavor | SubFlavor | SubCategory | Category)\n",
    "ON EACH [n.name]\n",
    "\"\"\"\n",
    "\n",
    "graph.query(fulltext_index_query)"
   ]
  },
  {
   "cell_type": "code",
   "execution_count": 12,
   "metadata": {},
   "outputs": [
    {
     "data": {
      "text/plain": [
       "[{'id': 9,\n",
       "  'name': 'flavorFulltextIndex',\n",
       "  'state': 'ONLINE',\n",
       "  'populationPercent': 100.0,\n",
       "  'type': 'FULLTEXT',\n",
       "  'entityType': 'NODE',\n",
       "  'labelsOrTypes': ['Flavor', 'SubFlavor', 'SubCategory', 'Category'],\n",
       "  'properties': ['name'],\n",
       "  'indexProvider': 'fulltext-1.0',\n",
       "  'owningConstraint': None,\n",
       "  'lastRead': None,\n",
       "  'readCount': None}]"
      ]
     },
     "execution_count": 12,
     "metadata": {},
     "output_type": "execute_result"
    }
   ],
   "source": [
    "graph.query(\"\"\"SHOW FULLTEXT INDEXES\"\"\")"
   ]
  },
  {
   "cell_type": "markdown",
   "metadata": {},
   "source": [
    "### 검색"
   ]
  },
  {
   "cell_type": "code",
   "execution_count": 13,
   "metadata": {},
   "outputs": [
    {
     "data": {
      "text/plain": [
       "[{'flavor': 'lemon', 'SearchRelevance': 1.8783544301986694},\n",
       " {'flavor': 'lemon jest', 'SearchRelevance': 1.4283926486968994},\n",
       " {'flavor': 'yellow lemon', 'SearchRelevance': 1.4283926486968994},\n",
       " {'flavor': 'lemon rosso', 'SearchRelevance': 1.4283926486968994},\n",
       " {'flavor': 'lemon peel', 'SearchRelevance': 1.4283926486968994},\n",
       " {'flavor': 'lemon zest', 'SearchRelevance': 1.4283926486968994},\n",
       " {'flavor': 'lemon candy', 'SearchRelevance': 1.4283926486968994},\n",
       " {'flavor': 'lemon juice', 'SearchRelevance': 1.4283926486968994},\n",
       " {'flavor': 'lemon balm', 'SearchRelevance': 1.4283926486968994},\n",
       " {'flavor': 'candid lemon peel', 'SearchRelevance': 1.1523466110229492}]"
      ]
     },
     "execution_count": 13,
     "metadata": {},
     "output_type": "execute_result"
    }
   ],
   "source": [
    "search_query = \"\"\"\n",
    "CALL db.index.fulltext.queryNodes(\"flavorFulltextIndex\", $search_term)\n",
    "YIELD node, score\n",
    "RETURN node.name AS flavor, score AS SearchRelevance\n",
    "ORDER BY SearchRelevance DESC\n",
    "LIMIT 10\n",
    "\"\"\"\n",
    "\n",
    "graph.query(search_query, params={\"search_term\": \"lemon\"})"
   ]
  },
  {
   "cell_type": "code",
   "execution_count": 17,
   "metadata": {},
   "outputs": [
    {
     "name": "stdout",
     "output_type": "stream",
     "text": [
      "berry - 1.7959753274917603\n",
      "red berry - 1.3631441593170166\n",
      "mixed berry - 1.3631441593170166\n"
     ]
    }
   ],
   "source": [
    "fuzzy_search_query = \"\"\"\n",
    "CALL db.index.fulltext.queryNodes(\"flavorFulltextIndex\", $search_term)\n",
    "YIELD node, score\n",
    "RETURN node.name AS flavor, score AS SearchRelevance\n",
    "ORDER BY SearchRelevance DESC\n",
    "LIMIT 10\n",
    "\"\"\"\n",
    "\n",
    "fuzzy_result = graph.query(fuzzy_search_query, params={\"search_term\": \"bery~0.7\"})\n",
    "\n",
    "for result in fuzzy_result:\n",
    "    print(f'{result[\"flavor\"]} - {result[\"SearchRelevance\"]}')"
   ]
  },
  {
   "cell_type": "code",
   "execution_count": 18,
   "metadata": {},
   "outputs": [
    {
     "name": "stdout",
     "output_type": "stream",
     "text": [
      "blueberry jam - 1.0\n",
      "strawberry jam - 1.0\n",
      "raspberry jam - 1.0\n",
      "red berry - 1.0\n",
      "mixed berry - 1.0\n",
      "blackberry - 1.0\n",
      "blueberry - 1.0\n",
      "strawberry - 1.0\n",
      "raspberry - 1.0\n",
      "blueberry chocolate - 1.0\n"
     ]
    }
   ],
   "source": [
    "wildcard_search_query = \"\"\"\n",
    "CALL db.index.fulltext.queryNodes(\"flavorFulltextIndex\", $search_term)\n",
    "YIELD node, score\n",
    "RETURN node.name AS flavor, score AS SearchRelevance\n",
    "ORDER BY SearchRelevance DESC\n",
    "LIMIT 10\n",
    "\"\"\"\n",
    "\n",
    "wildcard_result = graph.query(wildcard_search_query, params={\"search_term\": \"*berry*\"})\n",
    "\n",
    "for result in wildcard_result:\n",
    "    print(f'{result[\"flavor\"]} - {result[\"SearchRelevance\"]}')"
   ]
  },
  {
   "cell_type": "code",
   "execution_count": 20,
   "metadata": {},
   "outputs": [
    {
     "name": "stdout",
     "output_type": "stream",
     "text": [
      "citrus fruit - 3.0276856422424316\n"
     ]
    }
   ],
   "source": [
    "phrase_search_query = \"\"\"\n",
    "CALL db.index.fulltext.queryNodes(\"flavorFulltextIndex\", $search_term)\n",
    "YIELD node, score\n",
    "RETURN node.name AS flavor, score AS SearchRelevance\n",
    "ORDER BY SearchRelevance DESC\n",
    "LIMIT 10\n",
    "\"\"\"\n",
    "\n",
    "phrase_result = graph.query(phrase_search_query, params={\"search_term\": \"\\\"citrus fruit\\\"\"})\n",
    "\n",
    "for result in phrase_result:\n",
    "    print(f'{result[\"flavor\"]} - {result[\"SearchRelevance\"]}')"
   ]
  },
  {
   "cell_type": "code",
   "execution_count": 7,
   "metadata": {},
   "outputs": [],
   "source": [
    "from langchain_huggingface import HuggingFaceEmbeddings"
   ]
  },
  {
   "cell_type": "code",
   "execution_count": 8,
   "metadata": {},
   "outputs": [
    {
     "name": "stderr",
     "output_type": "stream",
     "text": [
      "c:\\Users\\jjw37\\neo4j-rag\\neo4j-graphrag\\.venv\\Lib\\site-packages\\tqdm\\auto.py:21: TqdmWarning: IProgress not found. Please update jupyter and ipywidgets. See https://ipywidgets.readthedocs.io/en/stable/user_install.html\n",
      "  from .autonotebook import tqdm as notebook_tqdm\n"
     ]
    }
   ],
   "source": [
    "embeddings = HuggingFaceEmbeddings(\n",
    "    model_name = \"BAAI/bge-m3\",\n",
    "    cache_folder = \"data/hf_embedding_cache/bge-m3\",\n",
    "    model_kwargs = {\"device\": \"cuda\"},\n",
    "    encode_kwargs = {\"query_instruction\": \"\"},\n",
    ")"
   ]
  },
  {
   "cell_type": "code",
   "execution_count": 31,
   "metadata": {},
   "outputs": [
    {
     "data": {
      "text/plain": [
       "[]"
      ]
     },
     "execution_count": 31,
     "metadata": {},
     "output_type": "execute_result"
    }
   ],
   "source": [
    "vector_index_query = \"\"\"\n",
    "CREATE VECTOR INDEX all_node_index IF NOT EXISTS\n",
    "FOR (n:AllNode)\n",
    "ON (n.content_embedding)\n",
    "OPTIONS {\n",
    "    indexConfig: {\n",
    "      `vector.dimensions`: 1024,\n",
    "      `vector.similarity_function`: 'cosine'\n",
    "    }\n",
    "}\n",
    "\"\"\"\n",
    "graph.query(vector_index_query)"
   ]
  },
  {
   "cell_type": "code",
   "execution_count": 27,
   "metadata": {},
   "outputs": [
    {
     "data": {
      "text/plain": [
       "[]"
      ]
     },
     "execution_count": 27,
     "metadata": {},
     "output_type": "execute_result"
    }
   ],
   "source": [
    "vector_index_query = \"\"\"\n",
    "CREATE VECTOR INDEX category_index IF NOT EXISTS\n",
    "FOR (n:Category)\n",
    "ON (n.content_embedding)\n",
    "OPTIONS {\n",
    "    indexConfig: {\n",
    "      `vector.dimensions`: 1024,\n",
    "      `vector.similarity_function`: 'cosine'\n",
    "    }\n",
    "}\n",
    "\"\"\"\n",
    "\n",
    "graph.query(vector_index_query)\n",
    "\n",
    "vector_index_query = \"\"\"\n",
    "CREATE VECTOR INDEX subcategory_index IF NOT EXISTS\n",
    "FOR (n:SubCategory)\n",
    "ON (n.content_embedding)\n",
    "OPTIONS {\n",
    "    indexConfig: {\n",
    "      `vector.dimensions`: 1024,\n",
    "      `vector.similarity_function`: 'cosine'\n",
    "    }\n",
    "}\n",
    "\"\"\"\n",
    "\n",
    "graph.query(vector_index_query)\n",
    "\n",
    "vector_index_query = \"\"\"\n",
    "CREATE VECTOR INDEX flavor_index IF NOT EXISTS\n",
    "FOR (n:Flavor)\n",
    "ON (n.content_embedding)\n",
    "OPTIONS {\n",
    "    indexConfig: {\n",
    "      `vector.dimensions`: 1024,\n",
    "      `vector.similarity_function`: 'cosine'\n",
    "    }\n",
    "}\n",
    "\"\"\"\n",
    "\n",
    "graph.query(vector_index_query)\n",
    "\n",
    "vector_index_query = \"\"\"\n",
    "CREATE VECTOR INDEX subflavor_index IF NOT EXISTS\n",
    "FOR (n:SubFlavor)\n",
    "ON (n.content_embedding)\n",
    "OPTIONS {\n",
    "    indexConfig: {\n",
    "      `vector.dimensions`: 1024,\n",
    "      `vector.similarity_function`: 'cosine'\n",
    "    }\n",
    "}\n",
    "\"\"\"\n",
    "\n",
    "graph.query(vector_index_query)"
   ]
  },
  {
   "cell_type": "code",
   "execution_count": null,
   "metadata": {},
   "outputs": [],
   "source": []
  },
  {
   "cell_type": "code",
   "execution_count": 9,
   "metadata": {},
   "outputs": [
    {
     "name": "stdout",
     "output_type": "stream",
     "text": [
      "Index Name: category_index\n",
      "Index Type: VECTOR\n",
      "Properties: ['content_embedding']\n",
      "----------------------------------------\n",
      "Index Name: flavor_index\n",
      "Index Type: VECTOR\n",
      "Properties: ['content_embedding']\n",
      "----------------------------------------\n",
      "Index Name: subcategory_index\n",
      "Index Type: VECTOR\n",
      "Properties: ['content_embedding']\n",
      "----------------------------------------\n",
      "Index Name: subflavor_index\n",
      "Index Type: VECTOR\n",
      "Properties: ['content_embedding']\n",
      "----------------------------------------\n"
     ]
    }
   ],
   "source": [
    "check_vector_index_query=\"\"\"\n",
    "SHOW VECTOR INDEXES\n",
    "\"\"\"\n",
    "\n",
    "vector_indexes = graph.query(check_vector_index_query)\n",
    "for index in vector_indexes:\n",
    "    print(f\"Index Name: {index['name']}\")\n",
    "    print(f\"Index Type: {index['type']}\")\n",
    "    print(f\"Properties: {index['properties']}\")\n",
    "    print(\"-\"*40)"
   ]
  },
  {
   "cell_type": "code",
   "execution_count": 11,
   "metadata": {},
   "outputs": [],
   "source": [
    "labels = [\"Flavor\", \"SubFlavor\", \"SubCategory\", \"Category\"]\n",
    "\n",
    "for label in labels:\n",
    "    node_query = f\"\"\"\n",
    "    MATCH (n:{label})\n",
    "    WHERE n.name IS NOT NULL\n",
    "    RETURN n.name AS name\n",
    "    \"\"\"\n",
    "\n",
    "    nodes = graph.query(node_query)\n",
    "\n",
    "    for node in nodes:\n",
    "        name = node[\"name\"]\n",
    "        embedding = embeddings.embed_documents([name])[0]\n",
    "\n",
    "        update_query = f\"\"\"\n",
    "        MATCH (n:{label} {{name: $name}})\n",
    "        SET n.content_embedding = $embedding\n",
    "        RETURN count(n) as updated\n",
    "        \"\"\"\n",
    "\n",
    "        graph.query(update_query, params={\"name\": name, \"embedding\": embedding})"
   ]
  },
  {
   "cell_type": "code",
   "execution_count": 10,
   "metadata": {},
   "outputs": [
    {
     "data": {
      "text/plain": [
       "[]"
      ]
     },
     "execution_count": 10,
     "metadata": {},
     "output_type": "execute_result"
    }
   ],
   "source": [
    "# remove_query = \"\"\"\n",
    "# MATCH (n)\n",
    "# REMOVE n.content_embedding\n",
    "# \"\"\"\n",
    "\n",
    "# graph.query(remove_query)"
   ]
  },
  {
   "cell_type": "code",
   "execution_count": 9,
   "metadata": {},
   "outputs": [],
   "source": [
    "def semantic_search(search_text, k=5):\n",
    "    query_embedding = embeddings.embed_query(search_text)\n",
    "\n",
    "    vector_search_query = \"\"\"\n",
    "    CALL db.index.vector.queryNodes(\n",
    "        'flavor_index',\n",
    "        $top_k,\n",
    "        $query_embedding\n",
    "    ) YIELD node, score\n",
    "    RETURN node.name AS name, score\n",
    "    \"\"\"\n",
    "\n",
    "    results = graph.query(\n",
    "        vector_search_query,\n",
    "        params={\n",
    "            \"top_k\": k,\n",
    "            \"query_embedding\": query_embedding\n",
    "        }\n",
    "    )\n",
    "\n",
    "    return results    "
   ]
  },
  {
   "cell_type": "code",
   "execution_count": 10,
   "metadata": {},
   "outputs": [
    {
     "name": "stdout",
     "output_type": "stream",
     "text": [
      "Name: peach, Score: 0.9992799758911133\n",
      "Name: pear, Score: 0.8749494552612305\n",
      "Name: pecan, Score: 0.8692240715026855\n",
      "Name: papaya, Score: 0.8316278457641602\n",
      "Name: pineapple, Score: 0.8314447402954102\n"
     ]
    }
   ],
   "source": [
    "search_text = \"peach\"\n",
    "\n",
    "results = semantic_search(search_text)\n",
    "\n",
    "for result in results:\n",
    "    print(f\"Name: {result['name']}, Score: {result['score']}\")"
   ]
  },
  {
   "cell_type": "code",
   "execution_count": 17,
   "metadata": {},
   "outputs": [
    {
     "name": "stdout",
     "output_type": "stream",
     "text": [
      "Name: fruit candy, Score: 0.8967852592468262\n",
      "Name: fruit cocktail, Score: 0.8638811111450195\n",
      "Name: fruit tea, Score: 0.8463926315307617\n",
      "Name: pickled fruit, Score: 0.8454952239990234\n",
      "Name: passion fruit, Score: 0.840181827545166\n"
     ]
    }
   ],
   "source": [
    "search_text = \"sweet and fruity\"\n",
    "\n",
    "results = semantic_search(search_text)\n",
    "\n",
    "for result in results:\n",
    "    print(f\"Name: {result['name']}, Score: {result['score']}\")"
   ]
  },
  {
   "cell_type": "markdown",
   "metadata": {},
   "source": [
    "#### 각 노드의 속성에 이름 외에도 '보편성', '빈도' 같이 검색 결과의 랭킹의 기준이 될 수 있는 속성을 더하는 것도 가능할 것 같음"
   ]
  },
  {
   "cell_type": "code",
   "execution_count": 18,
   "metadata": {},
   "outputs": [
    {
     "name": "stdout",
     "output_type": "stream",
     "text": [
      "Name: fruit candy, Score: 0.8656268119812012\n",
      "Name: tropical candy, Score: 0.8228607177734375\n",
      "Name: fruit cocktail, Score: 0.8198614120483398\n",
      "Name: orange candy, Score: 0.8150873184204102\n",
      "Name: dried fruit, Score: 0.815086841583252\n"
     ]
    }
   ],
   "source": [
    "search_text = \"달콤한 과일향\"\n",
    "\n",
    "results = semantic_search(search_text)\n",
    "\n",
    "for result in results:\n",
    "    print(f\"Name: {result['name']}, Score: {result['score']}\")"
   ]
  },
  {
   "cell_type": "code",
   "execution_count": 21,
   "metadata": {},
   "outputs": [
    {
     "name": "stdout",
     "output_type": "stream",
     "text": [
      "Node properties:\n",
      "- **Category**\n",
      "  - `name`: STRING Example: \"beverage\"\n",
      "- **SubCategory**\n",
      "  - `name`: STRING Example: \"beverage\"\n",
      "- **Flavor**\n",
      "  - `name`: STRING Example: \"champagne sparkling\"\n",
      "- **SubFlavor**\n",
      "  - `name`: STRING Example: \"rosewater\"\n",
      "Relationship properties:\n",
      "\n",
      "The relationships:\n",
      "(:Category)-[:INCLUDES]->(:SubCategory)\n",
      "(:SubCategory)-[:INCLUDES]->(:Flavor)\n",
      "(:Flavor)-[:INCLUDES]->(:SubFlavor)\n"
     ]
    }
   ],
   "source": [
    "graph.refresh_schema()\n",
    "print(graph.schema)"
   ]
  },
  {
   "cell_type": "code",
   "execution_count": 11,
   "metadata": {},
   "outputs": [],
   "source": [
    "from langchain_openai import ChatOpenAI\n",
    "from langchain_neo4j import GraphCypherQAChain"
   ]
  },
  {
   "cell_type": "code",
   "execution_count": 12,
   "metadata": {},
   "outputs": [],
   "source": [
    "llm = ChatOpenAI(model=\"gpt-4o-mini\", temperature=0)"
   ]
  },
  {
   "cell_type": "code",
   "execution_count": 16,
   "metadata": {},
   "outputs": [],
   "source": [
    "cypher_chain = GraphCypherQAChain.from_llm(\n",
    "    llm = llm,\n",
    "    graph = graph,\n",
    "    allow_dangerous_requests=True,\n",
    "    verbose=True\n",
    ")"
   ]
  },
  {
   "cell_type": "code",
   "execution_count": 17,
   "metadata": {},
   "outputs": [
    {
     "name": "stdout",
     "output_type": "stream",
     "text": [
      "\n",
      "\n",
      "\u001b[1m> Entering new GraphCypherQAChain chain...\u001b[0m\n",
      "Generated Cypher:\n",
      "\u001b[32;1m\u001b[1;3mcypher\n",
      "MATCH (c:Category)-[:INCLUDES]->(sc:SubCategory)-[:INCLUDES]->(f:Flavor)\n",
      "WHERE f.name CONTAINS \"berry\"\n",
      "RETURN f.name\n",
      "\u001b[0m\n",
      "Full Context:\n",
      "\u001b[32;1m\u001b[1;3m[{'f.name': 'blackberry'}, {'f.name': 'blueberry'}, {'f.name': 'blueberry chocolate'}, {'f.name': 'cranberry'}, {'f.name': 'mixed berry'}, {'f.name': 'raspberry'}, {'f.name': 'red berry'}, {'f.name': 'strawberry'}]\u001b[0m\n",
      "\n",
      "\u001b[1m> Finished chain.\u001b[0m\n",
      "{'query': 'What is the name of the flavor that is most similar to \"berry\"?', 'result': 'The flavor that is most similar to \"berry\" is mixed berry.'}\n"
     ]
    }
   ],
   "source": [
    "answer = cypher_chain.invoke({'query': 'What is the name of the flavor that is most similar to \"berry\"?'})\n",
    "print(answer)"
   ]
  },
  {
   "cell_type": "code",
   "execution_count": 23,
   "metadata": {},
   "outputs": [
    {
     "name": "stdout",
     "output_type": "stream",
     "text": [
      "\n",
      "\n",
      "\u001b[1m> Entering new GraphCypherQAChain chain...\u001b[0m\n",
      "Generated Cypher:\n",
      "\u001b[32;1m\u001b[1;3mMATCH (start:Flavor {name: 'peach'})-[*..2]-(connected) RETURN connected.name\u001b[0m\n",
      "Full Context:\n",
      "\u001b[32;1m\u001b[1;3m[{'connected.name': 'nectarine'}, {'connected.name': 'peach juice'}, {'connected.name': 'peach iced tea'}, {'connected.name': 'white peach'}, {'connected.name': 'apricot'}, {'connected.name': 'apricot jam'}, {'connected.name': 'peach tea'}, {'connected.name': 'yellow peach'}, {'connected.name': 'peach jam'}, {'connected.name': 'stone fruit'}]\u001b[0m\n",
      "\n",
      "\u001b[1m> Finished chain.\u001b[0m\n",
      "{'query': \"MATCH (start:Flavor {name: 'peach'})-[*..2]-(connected) RETURN connected.name 쿼리를 실행해줘\", 'result': 'The flavors connected to peach are nectarine, peach juice, peach iced tea, white peach, apricot, apricot jam, peach tea, yellow peach, peach jam, and stone fruit.'}\n"
     ]
    }
   ],
   "source": [
    "answer = cypher_chain.invoke({'query': \"MATCH (start:Flavor {name: 'peach'})-[*..2]-(connected) RETURN connected.name 쿼리를 실행해줘\"})\n",
    "print(answer)"
   ]
  },
  {
   "cell_type": "code",
   "execution_count": 26,
   "metadata": {},
   "outputs": [
    {
     "name": "stdout",
     "output_type": "stream",
     "text": [
      "\n",
      "\n",
      "\u001b[1m> Entering new GraphCypherQAChain chain...\u001b[0m\n",
      "Generated Cypher:\n",
      "\u001b[32;1m\u001b[1;3mcypher\n",
      "MATCH (n {name: 'peach'})-[:INCLUDES*1..2]->(m) RETURN m\n",
      "\u001b[0m\n",
      "Full Context:\n",
      "\u001b[32;1m\u001b[1;3m[{'m': {'name': 'nectarine', 'content_embedding': [0.006853054743260145, 0.0031263341661542654, -0.01122612040489912, 0.003333860542625189, -0.013913421891629696, 0.016365746036171913, -0.01979779452085495, 0.022879457101225853, 0.0033096179831773043, 0.03535079210996628, 0.03102763369679451, -0.018273908644914627, -0.0321488194167614, -0.028299503028392792, 0.02405344322323799, -0.03561544045805931, -0.012940572574734688, -0.002464959630742669, -0.02256644144654274, -0.05747599899768829, 0.019302330911159515, -0.02987484820187092, 0.004578710068017244, 0.019193941727280617, 0.0074603501707315445, 0.06500763446092606, 0.003169317962601781, 0.012827758677303791, 0.0089299650862813, 0.005058636888861656, -0.009925137273967266, -0.012590286321938038, -0.040746189653873444, -0.06101135164499283, 0.008091248571872711, 0.0069241574965417385, 0.024898841977119446, -0.008696076460182667, -0.044347260147333145, 0.026814071461558342, 0.04395909979939461, -0.000929901550989598, 0.01785646192729473, 0.008029521442949772, 0.013311086222529411, -0.033456962555646896, 0.02323712408542633, -0.02202599123120308, -0.03658802807331085, -0.017670582979917526, -0.0023538940586149693, -0.007170190569013357, 0.05218729376792908, -0.05488155782222748, -0.03031686134636402, 0.029980450868606567, -0.013152075931429863, 0.03140520304441452, -0.06714508682489395, -0.011702277697622776, -0.014325282536447048, -0.01649073138833046, 0.017614785581827164, 0.0019000500906258821, -0.019824035465717316, 0.05927843600511551, -0.0111745810136199, -0.0038845669478178024, 0.0218447707593441, -0.03362848982214928, -0.006938455626368523, 0.024194393306970596, 0.03458195924758911, -0.03268754854798317, -0.07385826110839844, -0.012052052654325962, 0.001918832422234118, -0.01281070988625288, 0.053869523108005524, -0.03011009283363819, 0.07611605525016785, 0.04286348819732666, -0.00124730181414634, -0.0030261140782386065, -0.002377553377300501, 0.03574163466691971, -0.004992878995835781, 0.01941957324743271, 0.031734611839056015, -0.061014920473098755, 0.01701287180185318, -0.0021150149405002594, -0.0030040699057281017, -0.03662235662341118, -0.011688162572681904, -0.01408090628683567, -0.0053651416674256325, 0.01656392775475979, 0.004350301343947649, -0.005854127928614616, -0.030383532866835594, -0.019734535366296768, -0.00970128271728754, 0.00680773239582777, 0.029858116060495377, -0.05367739871144295, -0.04897730425000191, -0.004397249314934015, 0.010845177806913853, 0.006950449664145708, 0.058015644550323486, -0.015202675946056843, 0.0068448325619101524, 0.005250116344541311, -0.013497782871127129, 0.01694449782371521, -0.012662513181567192, -0.02210370823740959, 0.009954557754099369, -0.04991013556718826, 0.010187849402427673, -0.0011610895162448287, 0.008023533970117569, -0.012685279361903667, -0.01670544594526291, -0.007560056168586016, 0.05689013749361038, 0.020253613591194153, -0.10058707743883133, -0.022195512428879738, 0.028981324285268784, 0.007019117474555969, -0.0425194576382637, 0.0208917073905468, 0.053201641887426376, -0.00403574900701642, 0.04049321264028549, 0.01042602863162756, 0.02966342307627201, -0.05862614884972572, -0.015314338728785515, 0.01992740109562874, 0.02693987637758255, -0.03879843279719353, 0.015902088955044746, -0.007860078476369381, 0.004140880890190601, -0.02616972103714943, 0.010732889175415039, -0.05142193287611008, 0.045486029237508774, 0.03218602389097214, 0.01564817875623703, 0.047881804406642914, -0.016968058422207832, 0.006841615773737431, -0.019506489858031273, 0.024143636226654053, 0.0005923318094573915, 0.009611069224774837, 0.024363387376070023, -0.018107740208506584, -0.026791291311383247, -0.021565819159150124, -0.0012092660181224346, 0.014152461662888527, 0.03043459728360176, 0.007956687361001968, -0.030107546597719193, -0.008067247457802296, 0.020980974659323692, -0.007289042230695486, 0.015917804092168808, -0.015682987868785858, 0.02642109990119934, -0.0020528531167656183, 0.04304325208067894, -0.009376682341098785, -0.018342357128858566, -0.028924748301506042, 0.0102505162358284, -0.023830149322748184, -0.009282585233449936, -0.030689598992466927, -0.006427446845918894, 0.016593381762504578, 0.006364023312926292, -0.02009463496506214, -0.0065665533766150475, 0.048899561166763306, -0.04487662389874458, 0.004017141181975603, -0.02317045070230961, -0.0016020629554986954, -0.0030610475223511457, -0.022741181775927544, 0.024276522919535637, -0.0646383985877037, 0.02544703148305416, -0.02715490572154522, -0.03174952045083046, 0.020636599510908127, 0.0044906483963131905, 0.03021181933581829, -0.01203810516744852, -0.016123006120324135, -0.03616660460829735, 0.010149733163416386, -0.015898220241069794, -0.023205773904919624, -0.02209538221359253, -0.031977057456970215, 0.04859209433197975, 0.010140817612409592, -0.04804251343011856, -0.025182100012898445, -0.0222494974732399, 0.023118460550904274, 0.012158936820924282, 0.01562744565308094, 0.03154442086815834, 0.007989461533725262, 0.02078346535563469, 0.002844508970156312, 0.025413932278752327, 0.04478324204683304, -0.027280716225504875, 0.03739546239376068, 0.01240718923509121, 0.014231870882213116, 0.00815898273140192, 0.042569320648908615, -0.009833340533077717, -0.03252775967121124, 0.008368994109332561, 0.004479206632822752, -0.029709281399846077, -0.0029132061172276735, 0.02639520913362503, -0.028440555557608604, -0.011257844045758247, 0.00360686588101089, 0.028029611334204674, -0.019426779821515083, -0.013445500284433365, -0.017519867047667503, -0.006369245238602161, -0.05188848450779915, 0.020510906353592873, 0.0367731899023056, 0.04126998782157898, 0.03879951685667038, -0.030099239200353622, 0.06642480194568634, 0.008048207499086857, 0.03036312758922577, 0.013742560520768166, -0.004460645839571953, 0.04561726003885269, -0.011520064435899258, -0.0053807576186954975, 0.036717504262924194, 0.07035216689109802, 0.013396934606134892, -0.017053622752428055, 0.014558730646967888, 0.018480220809578896, 0.03237152844667435, -0.01598593220114708, 0.03484368696808815, -0.028401637449860573, -0.030061492696404457, 0.03455248102545738, 0.002125226194038987, 0.0014639281434938312, -0.0040605016984045506, 0.00127320212777704, -0.039617978036403656, 0.048494257032871246, -0.02035916969180107, 0.0001344438933301717, 0.0067992620170116425, -0.0230223648250103, -0.022324835881590843, 0.05257459357380867, 0.019853459671139717, 0.02239043265581131, -0.0004648753092624247, 0.0056950985454022884, -0.00699615990743041, -0.02731902338564396, 0.05335639789700508, 0.029632754623889923, 0.0351293720304966, -0.008080045692622662, 0.010842320509254932, -0.0011467380682006478, -0.13606120645999908, -0.04275662079453468, 0.010045294649899006, 0.04685182869434357, -0.01575157232582569, -0.005090769845992327, -0.04412287473678589, -0.017194688320159912, -0.03629113361239433, -0.04900207743048668, -0.005454354919493198, -0.049639131873846054, -0.03680676221847534, -0.011525857262313366, 0.006686394102871418, -0.012380363419651985, -0.044254615902900696, 0.005387403536587954, -0.007682743947952986, -0.022812318056821823, -0.01880267634987831, -0.04879806190729141, 0.021349500864744186, -0.011000268161296844, 0.003654272761195898, -0.05699697509407997, -0.0017668395303189754, -0.042466290295124054, -0.039066653698682785, -0.027965527027845383, -0.04475541040301323, -0.03248151019215584, 0.002345605054870248, 0.015139579772949219, -0.009028551168739796, 0.019684942439198494, -0.020789070054888725, 0.018160171806812286, -0.00349364778958261, -0.0003684679395519197, -0.023700835183262825, 0.04786292463541031, -0.020712612196803093, 0.0076021235436201096, -0.009299310855567455, 0.010153606534004211, 0.02767123654484749, 0.05361778289079666, -0.069167360663414, -0.02685108594596386, -0.03455384448170662, 0.03278355300426483, -0.00791881326586008, 0.013458073139190674, -0.023417333140969276, -0.008450014516711235, -0.01927434839308262, -0.006324913818389177, 0.006853997241705656, 0.04167376086115837, -0.016890371218323708, -0.030730245634913445, 0.004605785012245178, -0.03179430961608887, -0.001477598212659359, -0.01124721858650446, 0.07472044974565506, -0.0005958269466646016, 0.03734614700078964, -0.005471466574817896, 0.01662895828485489, 0.03907592222094536, 0.004584058187901974, -0.004104293882846832, 0.016984691843390465, 0.0390297956764698, -0.04438645392656326, 0.007052069064229727, -0.03945322707295418, -0.09780536592006683, 0.00821654126048088, 0.034964144229888916, 0.019118359312415123, 0.07814454287290573, -0.01688256487250328, -0.039200473576784134, 0.029131809249520302, 0.011730913072824478, 0.006199212279170752, 0.2381044328212738, -0.0046402704901993275, 0.05780547857284546, -0.011823151260614395, -0.002208160934969783, -0.02486846223473549, 0.040997035801410675, 0.03841983154416084, 0.020750490948557854, -0.021327633410692215, -0.013989347964525223, 0.00961209274828434, 0.024485066533088684, -0.03832235559821129, -0.002794914646074176, 0.04345953091979027, 0.025233695283532143, -0.030189180746674538, 0.07707441598176956, -0.015426551923155785, -0.03952013701200485, 0.019156550988554955, -0.04929738864302635, 0.03383254259824753, -0.013386236503720284, -0.010202648118138313, -0.040323320776224136, 0.04415024071931839, -0.026190713047981262, 0.000786947610322386, -0.0387134924530983, 0.012814931571483612, 0.040307968854904175, -0.019789086654782295, 0.01291927695274353, 0.005121978931128979, -0.006220423616468906, -0.02557935006916523, -0.03932737559080124, -0.017998123541474342, -0.04409884288907051, -0.012990705668926239, -0.007109453901648521, -0.04048891365528107, 0.05463080853223801, 0.012196695432066917, 0.012933127582073212, -0.01852281391620636, 0.01194021850824356, -0.006127543747425079, -0.03359826281666756, 0.005771588534116745, -0.035245947539806366, 0.03174683451652527, -0.005955766886472702, -0.07347376644611359, -0.020266197621822357, -0.009409233927726746, -0.0107668936252594, 0.05872582271695137, 0.01580938510596752, -0.018731920048594475, -0.03545360267162323, -0.0035070960875600576, -0.025707386434078217, 0.0703854113817215, -0.007308018859475851, -0.04057912901043892, 0.002960960380733013, 0.03410850092768669, 0.0030344780534505844, 0.05071556940674782, -0.016364283859729767, 0.024349814280867577, -0.010727117769420147, 0.011675369925796986, -0.01979915425181389, 0.1166757121682167, -0.006570150144398212, 0.007268353831022978, -0.008911527693271637, -0.020111238583922386, 0.004406715743243694, -0.013162803836166859, -0.01313326321542263, -0.010196838527917862, 0.04064285382628441, -0.07134789228439331, 0.018262404948472977, -0.007613304071128368, 0.007620667107403278, -0.0023696264252066612, -0.030182408168911934, -0.0061904084868729115, -0.040206559002399445, -0.041830092668533325, 0.032074324786663055, -0.0003217619960196316, -0.022937515750527382, 0.030361445620656013, -0.06169673427939415, -0.01625240221619606, -0.0046573239378631115, -0.03631427884101868, 0.06796823441982269, 0.0018826352898031473, -0.022602802142500877, 0.005673605483025312, 0.011530162766575813, 0.030379539355635643, -0.013735592365264893, -0.01282186433672905, -0.06646177917718887, -0.0037624938413500786, 0.046232063323259354, -0.015545283444225788, 0.00831600558012724, 0.010647558607161045, 0.010918764397501945, 0.0663461685180664, 0.017350852489471436, 0.016016708686947823, -0.024254141375422478, 0.0034223836846649647, 0.009406608529388905, 0.0049763023853302, -0.023231735453009605, -0.009128988720476627, -0.03424852341413498, 0.03913668543100357, 0.02160060964524746, -0.022556247189641, -0.03437710925936699, 0.0691579207777977, 0.05071913078427315, 0.04827854409813881, -0.042035069316625595, 0.005976535379886627, -0.008637657389044762, 0.03131717070937157, 0.02392880991101265, 0.04065538942813873, 0.00748021574690938, 0.0045368182472884655, 0.03619584068655968, -0.013896534219384193, -0.02048610709607601, 0.05742362514138222, 0.007071672007441521, -0.01764591783285141, -0.028578251600265503, 0.013071561232209206, 0.014905905351042747, -0.025488395243883133, -0.0070431651547551155, -0.031355202198028564, 0.01620040275156498, -0.005137843079864979, -0.012596883811056614, 0.0037771540228277445, 0.0015156305162236094, 0.015325349755585194, 0.06387616693973541, 0.05603666976094246, 0.02826453559100628, 0.009666753932833672, -0.04455239325761795, 0.01007889024913311, -0.015035590156912804, -0.014852710999548435, 0.0002616015262901783, 0.010591044090688229, -0.0046135918237268925, 0.013695665635168552, 0.008326277136802673, 0.024418046697974205, -0.0070996773429214954, 0.02197699435055256, -0.0190535020083189, -0.004964170046150684, 0.0028703075367957354, -0.05295940488576889, 0.030334830284118652, -0.04315747693181038, 0.05525365099310875, 0.030726781114935875, -0.021024372428655624, -0.01894923858344555, 0.03245124593377113, -0.04353969171643257, 0.05141201987862587, 0.021074004471302032, -0.024736082181334496, -0.023946451023221016, 0.022844739258289337, 0.019797515124082565, 0.03568314388394356, 0.021934419870376587, 0.031108587980270386, -0.019153166562318802, -0.018283240497112274, 0.01309498492628336, -0.024343106895685196, -0.00988389179110527, -0.004745196085423231, -0.03010091371834278, -0.011854827404022217, 0.027803687378764153, -0.024684663861989975, -0.019596131518483162, -0.014211033470928669, 0.027566323056817055, 0.001973169855773449, -0.013279172591865063, -0.001975503284484148, -0.014808125793933868, -0.05215925723314285, -0.009458632208406925, 0.02349964529275894, -0.04735780507326126, 0.05503503233194351, -0.01751263067126274, 0.0066536725498735905, -0.06604722142219543, -0.020495321601629257, 0.01667739823460579, -0.012850083410739899, -0.03023892268538475, 0.02623104862868786, 0.02898823283612728, 0.00977050606161356, 0.022497519850730896, 0.026857098564505577, 0.08187142014503479, 0.004040245898067951, -0.04096710681915283, -0.015511808916926384, 0.027962008491158485, -0.014914127066731453, -0.003482603933662176, -0.031136170029640198, 0.042469970881938934, -0.013861256651580334, 0.07080505043268204, -0.021602928638458252, 0.01742084138095379, 0.0047257449477910995, 0.0155283622443676, 0.02238650806248188, -0.013285798951983452, 0.04308324307203293, -0.021981513127684593, 0.010584668256342411, -0.018701957538723946, 0.03638612851500511, 0.0023688755463808775, -0.004983983468264341, -0.030697902664542198, -0.04370450973510742, -0.04788006842136383, -0.03791891783475876, 0.06358633935451508, 0.0204554945230484, -0.02443215809762478, -0.0443994477391243, 0.010254113003611565, 0.021937860175967216, 0.006745873484760523, -0.02389451488852501, -0.009810864925384521, 0.010529444552958012, -0.008493119850754738, -0.01151048019528389, -0.025163663551211357, 0.04344548285007477, -0.021550046280026436, 0.01128877978771925, 0.04177870601415634, 0.012769022025167942, 0.04402870684862137, 0.004157174378633499, -0.027768880128860474, 0.0024711331352591515, -0.005962459836155176, 0.0020930180326104164, 0.03119192272424698, -0.008162309415638447, 0.017227185890078545, -0.023546243086457253, -0.048381414264440536, -0.0770292729139328, -0.05182467773556709, -0.008671327494084835, -0.014583250507712364, 0.0062844702042639256, 0.026065301150083542, -0.01029296312481165, 0.02069036290049553, -0.0019199810922145844, -0.030351750552654266, -0.035291966050863266, 0.027154063805937767, -0.026160191744565964, -0.025368886068463326, 8.899212843971327e-05, 0.00919373519718647, 0.033553533256053925, -0.024685107171535492, 0.0014504347927868366, -0.015416039153933525, 0.010494700632989407, -0.035920582711696625, -0.013829631730914116, -0.02819424867630005, -0.022454483434557915, -0.008620504289865494, 0.026798678562045097, -0.02414354868233204, 0.007097779307514429, -0.02201719954609871, 0.005531416740268469, 0.040607042610645294, -0.05689927190542221, -0.028108684346079826, -0.05333990231156349, 0.028757212683558464, 0.015680527314543724, 0.06403713673353195, 0.014722635969519615, -0.0029026269912719727, -0.02576817013323307, -0.0053011649288237095, -0.040207430720329285, -0.03001243993639946, -0.0048823049291968346, 0.00891371350735426, -0.00992786604911089, -0.027004651725292206, 0.024385694414377213, -0.009216711856424809, 0.004189634695649147, 0.07050308585166931, 0.021511811763048172, -0.027941137552261353, 0.036938585340976715, -0.04827657714486122, 0.04127251356840134, 0.027693552896380424, 0.004126112908124924, -0.021748945116996765, 0.03146187961101532, 0.029073461890220642, -0.023070722818374634, -0.04990806803107262, -2.639284502947703e-05, 0.012886324897408485, -0.02893112413585186, 0.014443627558648586, 0.012872989289462566, 0.0642002522945404, -0.0401541031897068, 0.015336040407419205, -0.02933076210319996, 0.026894649490714073, 0.03603938966989517, 0.02695930004119873, 0.005800464656203985, 0.0018024429446086287, -0.06911987066268921, -0.02222919650375843, 0.015657728537917137, -0.007547502405941486, -0.01921217143535614, 0.03855401650071144, -0.03449350968003273, -0.006336477119475603, 0.023407215252518654, -0.06476647406816483, 0.024484029039740562, 0.005225109867751598, 0.009556204080581665, 0.0403963178396225, -0.06712116301059723, -0.05303597077727318, -0.0014378014020621777, -0.03380253538489342, -0.027152279391884804, 0.023656627163290977, 0.03453769162297249, 0.021227115765213966, -0.015565560199320316, -0.013661067001521587, -0.056778017431497574, 0.013950697146356106, -0.14331963658332825, -0.009637214243412018, 0.021139508113265038, 0.013770924881100655, -0.019215095788240433, 0.011964364908635616, 0.009248270653188229, 0.003865809179842472, -0.0026081569958478212, -0.02452804334461689, -0.005821948871016502, -0.029258988797664642, 2.6183286536252126e-05, -0.0157916322350502, 0.009995633736252785, 0.005543992854654789, -0.02170584537088871, -0.023463049903512, 0.027647828683257103, 0.027429919689893723, 0.0005679327878169715, -0.0030565557535737753, 0.0020822896622121334, 0.014025265350937843, 0.040093038231134415, 0.0062737478874623775, -0.0019145658006891608, 0.026137590408325195, -0.01222824864089489, -0.04482804611325264, 0.030558111146092415, -0.00960222166031599, 0.03651556000113487, 0.016590148210525513, -0.040579166263341904, 0.024244720116257668, 0.0018499039579182863, -0.01530099380761385, -0.04240695387125015, -0.004708751104772091, -0.008301448076963425, 0.023247307166457176, -0.04382361099123955, 0.009073028340935707, 0.037621140480041504, 0.016129793599247932, -0.025897447019815445, -0.009250197559595108, -0.03712115436792374, -0.0023155082017183304, 0.022254250943660736, 0.06130174919962883, 0.00015567652008030564, 0.03235631436109543, -0.004699369426816702, -0.004523512441664934, 0.004363232292234898, 0.012832611799240112, -0.03028816170990467, 0.013375489972531796, -0.03960323706269264, -0.036308035254478455, -0.01636235974729061, -0.02353360503911972, -0.008275900036096573, 0.03129478916525841, -0.03149624168872833, 0.008668341673910618, 0.05153040215373039, 0.0316220298409462, -0.05233844369649887, 0.0003820154524873942, 0.07602176815271378, -0.04648544266819954, -0.00024300657969433814, 0.00826285034418106, -0.011339200660586357, -0.00340995192527771, 0.01463867537677288, -0.007328739855438471, -0.0003046062192879617, 0.0362120047211647, 0.028523948043584824, 0.032753534615039825, -0.005031719338148832, 0.04578056558966637, -0.02270202711224556, -1.2328303455433343e-05, -0.022305449470877647, 0.01731812208890915, -0.022686075419187546, -0.042932815849781036, 0.013856951147317886, -0.0155926663428545, -0.09991687536239624, 0.019330915063619614, -0.030477484688162804, -0.01900855079293251, -0.05856793746352196, -0.03195907175540924, -0.10116174072027206, -0.002294017933309078, 0.00017530059267301112, -0.06362755596637726, -0.01617567054927349, 0.037511080503463745, -0.0023136173840612173, 0.0029515183996409178, 0.008502166718244553, 0.025887321680784225, 0.006836559157818556, 0.022430896759033203, -0.04682533070445061, -0.0020847171545028687, -0.03276051580905914, -0.003425752278417349, -0.02037070319056511, -0.04332336410880089, -0.05225146561861038, -0.0002688146778382361, -0.012407566420733929, 0.11939508467912674, 0.030761046335101128, -0.04997279495000839, 0.0405576154589653, 0.015144997276365757, 0.02270265854895115, 0.011064635589718819, 0.012955807149410248, 0.049584612250328064, -0.035901378840208054, 0.0011732600396499038, -0.0402192696928978, -0.004138103220611811, 0.03161810711026192, -0.007699059788137674, 0.0005582809681072831, 0.039924003183841705, -0.029177209362387657, -0.0348161906003952, -0.022176343947649002, 0.012914076447486877, -0.046513766050338745, 0.005623143631964922, -0.038470372557640076, 0.008883479051291943, 0.043160006403923035, -0.012385362759232521, 0.009563637897372246, -0.014974746853113174, -0.010243183933198452, 0.007598303724080324, 0.018171122297644615, -0.06076065078377724, -0.03197129815816879, 0.051321037113666534, -0.004920181352645159, -0.02704167738556862, 0.003914559260010719, 0.009256147779524326, 0.01849794201552868, -0.06146034970879555, 0.015456143766641617, 0.031081678345799446, 0.0155176455155015, 0.012941474094986916, 0.04956355690956116, -0.014436314813792706, 0.020723287016153336, 0.007077883463352919, -0.041219912469387054, 0.02902645617723465, -0.006548134610056877, 0.020357606932520866, -0.002485412172973156, 0.013170631602406502, -0.010064586997032166, -0.018891960382461548, 0.010806364007294178, -0.04358449950814247, 0.028361232951283455, -0.018867580220103264, 0.03053922951221466, 0.06044190749526024, 0.07735127955675125, 0.03584038093686104, -0.019165363162755966, -0.011418886482715607, 0.021484674885869026, -0.009919507429003716, -0.027906786650419235, 0.010048417374491692, -0.005052427761256695, -0.06927464157342911, 0.014980757609009743, 0.047370292246341705, -0.020573677495121956, 0.06300290673971176, 0.03731055185198784, 0.009453440085053444, -0.01223233062773943, 0.028313620015978813, 0.004722394049167633, -0.02285795472562313, -0.018962914124131203, 0.021735552698373795, -0.06517365574836731, -0.008513993583619595, 0.021889468654990196, 0.017478348687291145, -0.0323554128408432, -0.020870674401521683, -0.008349323645234108, -0.023527314886450768, 0.04046133533120155, -0.03790343925356865, 0.011142298579216003, -0.02586771547794342, 0.01645653322339058, 0.02257048338651657, 0.018473230302333832, 0.034678973257541656, -0.004188644699752331, -0.017733773216605186, 0.01531193871051073, -0.005202820058912039, -0.05366801470518112, 0.023894812911748886, -0.045918844640254974, 0.04924989119172096, -0.029956290498375893, -0.01249894592911005, -0.04148583114147186, 0.019982974976301193, -0.01676490716636181, 0.010674179531633854, 0.0050048124976456165, 0.005496295168995857, 0.004192851949483156, 0.010675761848688126, 0.0015554965939372778, 0.016340704634785652, -0.04765179753303528, 0.01591886579990387]}}, {'m': {'name': 'peach juice', 'content_embedding': [-0.035955920815467834, 0.007137182634323835, -0.049902427941560745, 0.010476968251168728, -0.009308396838605404, -0.016770781949162483, 0.04453139752149582, 0.00970680732280016, 0.002315630204975605, -0.010081568732857704, -0.006565047428011894, -0.01835610531270504, -0.014053191989660263, -0.015948645770549774, 0.035732168704271317, -0.020074596628546715, -0.03519391641020775, 0.013496256433427334, -0.014461279846727848, -0.01953483559191227, 0.01957550272345543, -0.0594913475215435, -0.0077378759160637856, 0.029214290902018547, 0.027320748195052147, 0.038556236773729324, -0.03629158437252045, -0.031728196889162064, -0.013828829862177372, -0.022502604871988297, 0.046024248003959656, 0.001893982756882906, 0.017769161611795425, -0.059243880212306976, -0.01877770759165287, -0.04883747920393944, 0.005650138948112726, -0.047716982662677765, -0.043321896344423294, -0.024561019614338875, 0.025302430614829063, 0.012162653729319572, -0.006498837843537331, -0.016869790852069855, -0.0286241602152586, -0.03262992948293686, 0.04083622246980667, 0.006353937089443207, -0.025034885853528976, -0.0037397865671664476, 0.0007815947756171227, 0.041844259947538376, 0.08997751772403717, -0.013852781616151333, 0.013496399857103825, 0.034237224608659744, 0.029273560270667076, -0.009313950315117836, -0.08132094144821167, 0.002236051019281149, -0.044407885521650314, -0.015608061105012894, -0.01597210019826889, 0.0042440821416676044, 0.011386100202798843, 0.11167927831411362, -0.027402294799685478, 0.012447539716959, -0.01090201735496521, 0.006261815316975117, -0.013819774612784386, 0.033636827021837234, -0.0056974985636770725, 0.002053696196526289, -0.04308854788541794, 0.024343324825167656, 0.04001568630337715, -0.002125524217262864, 0.02723480761051178, -0.0023751603439450264, 0.06590605527162552, -0.019428787752985954, 0.012523584999144077, 0.020874174311757088, -0.03683134540915489, 0.016613680869340897, -0.02214040979743004, 0.03910360857844353, -0.0003589223197195679, -0.01977495290338993, 0.015375377610325813, -0.033530913293361664, 0.013931053690612316, -0.07288812100887299, -0.03926355391740799, -0.0019442207412794232, -0.019375652074813843, -0.026210842654109, 0.06315562129020691, -0.0080732936039567, -0.000902876490727067, 0.003316652262583375, -0.0730319693684578, -0.030990250408649445, 0.06964806467294693, -0.012930143624544144, 0.024785548448562622, 0.01712397113442421, 0.04603390023112297, 0.001387620810419321, 0.05908876657485962, -0.017870772629976273, -0.024223487824201584, 0.0513710118830204, 0.019315188750624657, 0.01941606216132641, -0.02171553112566471, -0.0155857028439641, 0.03985832631587982, -0.03244837000966072, -0.036702707409858704, 0.023576771840453148, -0.004144527483731508, -0.003945049364119768, 0.0008003815310075879, 0.000845993694383651, 0.0002668843080755323, 0.018500635400414467, -0.003671870566904545, 0.023141296580433846, -0.026955587789416313, 0.008807364851236343, -0.05312825366854668, -0.024045206606388092, 0.01335058081895113, 0.003235231153666973, -0.014317143708467484, -0.03175100311636925, -0.008515138179063797, -0.0077043077908456326, -0.007664952892810106, 0.031885404139757156, 0.028731942176818848, -0.018836554139852524, 0.0018502527382224798, -0.07650196552276611, 0.027493979781866074, -0.008731723763048649, 0.005295294802635908, -0.035449519753456116, 0.020094403997063637, -0.007564738392829895, 0.04237901791930199, -0.018636463209986687, -0.014578967355191708, -0.03752607852220535, 0.030664537101984024, 0.01805456355214119, 0.04798958823084831, -0.03579980507493019, 0.013488449156284332, -0.005316329188644886, 0.00020342310017440468, -0.02073463797569275, 0.02341354265809059, -0.02603214420378208, 0.026982901617884636, 0.014745857566595078, -0.023673811927437782, -0.012816240079700947, 0.014857417903840542, -0.009130069054663181, -0.030606118962168694, -0.007515783421695232, 0.036594510078430176, -0.011762533336877823, -0.008799832314252853, -0.012817041017115116, -0.04463745653629303, -0.04009804502129555, -0.014803594909608364, 0.007137523032724857, -0.0028129590209573507, -0.06658194214105606, -0.014257818460464478, -0.009480362758040428, 0.005701628513634205, 0.058175668120384216, 0.015488157980144024, 0.036022841930389404, -0.02605319954454899, -0.006538011599332094, 0.003727610921487212, 0.016183700412511826, 0.03441087156534195, -0.017744485288858414, -0.014711803756654263, 0.0031181261874735355, -0.000684774131514132, -0.00017291643598582596, 0.0031831383239477873, 0.052816953510046005, -0.02527034468948841, 0.017875835299491882, 0.003627043915912509, -0.002693647751584649, -0.002158788964152336, -0.0363411046564579, 0.021097084507346153, -0.005048801656812429, 0.040348879992961884, -0.03913222253322601, -0.00559248635545373, 0.009168404154479504, -0.022532474249601364, 0.004631033167243004, 0.06330990046262741, 0.004111260641366243, 0.02103993482887745, 0.02668706141412258, 0.019348252564668655, -0.0006101573235355318, 0.02902841567993164, 0.00529003469273448, 0.04178434610366821, 0.008056203834712505, -0.005480969324707985, 0.036378223448991776, -0.040308378636837006, -0.026457423344254494, -0.022453423589468002, 0.04463144764304161, 0.010715377517044544, -0.01580554060637951, 0.005559190642088652, 0.045358806848526, 0.0123843839392066, 0.012791270390152931, 0.01141347922384739, 0.0060472795739769936, 0.041410040110349655, -0.023306068032979965, 0.03634607046842575, 0.03877276927232742, -0.013768852688372135, -0.02830595150589943, 0.05750802531838417, 0.002469058847054839, 0.0327022522687912, 0.01534276269376278, 0.015847347676753998, 0.02095535397529602, -0.06180403754115105, -0.011373842135071754, 0.027542700991034508, 0.005344804842025042, 0.02948729693889618, 0.005452756769955158, 0.025386814028024673, 0.007165776565670967, 0.021681923419237137, 0.0020078972447663546, 0.012315959669649601, 0.010532360523939133, -0.015789896249771118, -0.02843319997191429, -0.03152061626315117, 0.043778594583272934, -0.004631658084690571, 0.030659615993499756, -0.03794817626476288, -0.0025945056695491076, 0.007749834097921848, -0.02813354693353176, -0.058881811797618866, -0.0002685768704395741, -0.007613750174641609, -0.021528558805584908, 0.011075157672166824, -0.004526746924966574, -0.02499784342944622, -0.017600759863853455, 0.02324286289513111, -0.024510936811566353, 0.0148560656234622, -0.0237111933529377, -0.007068474777042866, -0.004338240250945091, -0.04857490211725235, -0.0039522950537502766, -0.023977715522050858, 0.0017486755969002843, 0.0673171803355217, 0.02030942402780056, -0.011602879501879215, 0.030823921784758568, -0.0031257416121661663, -0.14894092082977295, -0.016155069693922997, -0.030572377145290375, -0.00537610100582242, 0.02915160171687603, 0.000577036349568516, -0.05731751769781113, 0.007420383859425783, -0.03231842815876007, -0.007663885597139597, 0.011272743344306946, -0.05054861679673195, -0.044119276106357574, 0.010032080113887787, -0.010209550149738789, 0.021779734641313553, -0.029937539249658585, -0.015872396528720856, 0.038173478096723557, -0.06296589970588684, -0.0052676722407341, -0.005034544505178928, 0.05588609352707863, -0.03248882293701172, -0.005151898600161076, 0.020935747772455215, -0.01246452797204256, -0.029111254960298538, -0.054391246289014816, -0.018666332587599754, -0.0013912908034399152, -0.006176585331559181, 0.0031931011471897364, 0.05759529769420624, 0.033243577927351, -0.0017937220400199294, 0.0014443733962252736, -0.035167958587408066, 0.028497710824012756, -0.004348158836364746, -0.011760921217501163, 0.015031114220619202, -0.03550785034894943, -0.01418750174343586, 0.040424443781375885, 0.009853901341557503, -0.02725081704556942, 0.038212623447179794, 0.008244222961366177, 0.009932482615113258, 0.039842553436756134, -0.016396312043070793, 0.01931833103299141, -0.046481870114803314, -0.03053557686507702, -0.0014592664083465934, -0.0212313961237669, 0.03109048679471016, 0.014010767452418804, -0.007073197513818741, -0.04491763561964035, 0.02295486070215702, 0.0499461330473423, 0.04517456889152527, 0.001767442561686039, -0.012731330469250679, -0.024325117468833923, -0.005414936691522598, 0.0029296129941940308, -0.017693327739834785, 0.034714121371507645, 0.0005091804778203368, -0.027411704882979393, -0.02065509930253029, 0.0067170970141887665, 0.018813230097293854, 0.013151325285434723, -0.018515540286898613, 0.0077454387210309505, -0.1303795874118805, -0.005876198876649141, 0.003720715409144759, 0.014686625450849533, 0.024243036285042763, -0.017134977504611015, -0.04518430680036545, 0.0483209528028965, 0.04254459589719772, 0.016982119530439377, 0.2521675229072571, 0.010893541388213634, 0.016766570508480072, -0.004006772767752409, 0.034167494624853134, -0.003277592360973358, -0.04605190083384514, -0.023148968815803528, -0.029197540134191513, -0.01601049304008484, -0.008193876594305038, 0.008390791714191437, 0.010709460824728012, -0.05450375750660896, -0.01500018686056137, 0.040566712617874146, -0.020671837031841278, -0.01603618450462818, 0.040032099932432175, -0.03199132904410362, -0.020285142585635185, 0.0037663537077605724, 0.0030603765044361353, -0.011368044652044773, 0.018477799370884895, -0.030467387288808823, 0.013962788507342339, 0.06073608621954918, -0.010734040290117264, 0.038644853979349136, -8.817321941023692e-05, -0.025939660146832466, 0.027211740612983704, 0.009427525103092194, 0.002003537258133292, -0.025369174778461456, 0.0005358105408959091, -0.015606334432959557, -0.015128877945244312, 0.00738618616014719, 0.024627219885587692, -0.04735792055726051, 0.03160024806857109, 0.002778938738629222, -0.010609417222440243, -0.04773661866784096, -0.03562875837087631, -0.04241689667105675, -0.03425111249089241, -0.034946005791425705, -0.0021416302770376205, 0.008053682744503021, -0.020165374502539635, -0.005076542962342501, 0.015570122748613358, -0.028802186250686646, -0.02686864323914051, -0.034822676330804825, 0.0175941102206707, 0.06009908765554428, -0.002571253338828683, 0.018111642450094223, -0.03844212740659714, 0.02475873753428459, -0.03703859820961952, 0.05686734616756439, -0.018583495169878006, 0.01965719647705555, -0.0485202856361866, 0.0005708670942112803, 0.0028942411299794912, -0.018206674605607986, -0.010528401471674442, -0.018628282472491264, 0.020098071545362473, -0.004831645637750626, -0.03162666782736778, 0.06904025375843048, 0.01662600412964821, 0.050645582377910614, -0.02280185930430889, -0.018668295815587044, -0.03101624734699726, 0.001256604795344174, -0.007961190305650234, 0.010810844600200653, 0.05752435699105263, -0.05187651515007019, 0.010465547442436218, -0.04713284969329834, -0.01819656603038311, 0.0220488253980875, -0.019540950655937195, 0.016268465667963028, 0.013073182664811611, -0.018593689426779747, 0.04678720235824585, 0.018578188493847847, 0.008742587640881538, -0.013919820077717304, -0.051179930567741394, 0.016906915232539177, 0.0022446915972977877, -0.02184482477605343, 0.05730602517724037, 0.004921929445117712, -0.02483506314456463, -0.0008852395112626255, -0.05108155310153961, 0.010538727976381779, 0.0176545400172472, 0.010433615185320377, 0.039522264152765274, -0.03080594167113304, 0.014199461787939072, 0.03700314834713936, 0.019188135862350464, 0.05778612941503525, 0.031919077038764954, 0.0696781650185585, 0.017351340502500534, 0.0256502628326416, 0.006409660913050175, -0.011105706915259361, 0.023869290947914124, -0.034628093242645264, -0.02497001551091671, -0.054505933076143265, -0.030287044122815132, 0.04554542526602745, -0.02922634594142437, 0.001504202140495181, 0.010398456826806068, 0.022631999105215073, 0.07768275588750839, -0.028571717441082, 0.07384439557790756, -0.013464773073792458, -0.009994160383939743, 0.041260868310928345, -0.027815818786621094, -0.023655902594327927, -0.004553670063614845, -0.03116251714527607, 0.007738141342997551, 0.028667405247688293, -0.031336355954408646, -0.012555417604744434, 0.02826574631035328, 0.015587679110467434, 0.05814604461193085, 0.050585098564624786, -0.026535730808973312, -0.04095164313912392, -0.05189688876271248, -0.04644828662276268, -5.2767656598007306e-05, -0.03307916224002838, -0.019658919423818588, 0.0050107394345104694, 0.0032907319255173206, -0.017608849331736565, 0.004674323834478855, 0.061213620007038116, 0.0157888513058424, 0.02668815851211548, -0.005921100731939077, 0.01983341947197914, 0.04477093741297722, -0.021947508677840233, 0.020862115547060966, 0.01464078575372696, -0.04481298476457596, 0.025991981849074364, -0.040335703641176224, 0.007349795196205378, -0.02841096930205822, 0.032724764198064804, 0.0026646757032722235, -0.027357475832104683, 0.024046912789344788, -0.0232867281883955, 0.07167425006628036, 0.014721459709107876, 0.05864863842725754, 0.044094182550907135, -0.018815558403730392, -0.0320245623588562, 0.04250781983137131, 0.00110325263813138, -0.018297111615538597, 0.03837146237492561, 0.038958556950092316, -0.0020310613326728344, 0.024526206776499748, -0.0019631427712738514, 0.018029773607850075, 0.03545261546969414, 0.022697048261761665, -0.01722279004752636, 0.004583266563713551, -0.03464445471763611, -0.017324110493063927, -0.0043970742262899876, -0.010313745588064194, 0.014555656351149082, -0.06748844683170319, 0.0007556466734968126, -0.06763683259487152, 0.01752747967839241, -0.049635693430900574, -0.015961822122335434, 0.028359515592455864, -0.03295963630080223, -0.016836419701576233, -0.025237562134861946, 0.03854230418801308, 0.04057327285408974, 0.017669936642050743, -4.446309321792796e-05, 0.007128634490072727, 0.022495359182357788, 0.041106048971414566, -0.010286690667271614, 0.01891065202653408, 0.04721810296177864, 0.02986088953912258, -0.004714618436992168, 0.01369027141481638, 0.004914872348308563, 0.006031940691173077, -0.03362063318490982, -0.03880985453724861, -0.012589793652296066, 0.0013411827385425568, 0.015738630667328835, 0.018575461581349373, 0.001697594067081809, -0.02588403783738613, -0.031939130276441574, -0.027081795036792755, 0.024155892431735992, -0.036183156073093414, 0.06360981613397598, -0.007635762915015221, -0.0011112471111118793, 0.017474018037319183, 0.027733540162444115, 0.018763462081551552, 0.006193381268531084, 0.030718311667442322, 0.008098972961306572, -0.01983485370874405, -0.013597887009382248, 0.02760482206940651, 0.02719898894429207, 0.01250437181442976, -0.009904002770781517, -0.02925274521112442, 0.01973002776503563, -0.014670681208372116, 0.02604900673031807, 0.024110207334160805, -0.02829296514391899, 0.018834300339221954, 0.014319942332804203, 0.06931348145008087, -0.03795162960886955, -0.019106218591332436, -0.013860846869647503, -0.04794751852750778, -0.011029116809368134, 0.010146373882889748, 0.0010026844684034586, 0.0992509126663208, -0.01604382134974003, -0.04775680601596832, 0.05795390158891678, 0.003980967681854963, 0.032759737223386765, 0.015129638835787773, 0.031907837837934494, -0.018549740314483643, 0.060466427356004715, -0.025419870391488075, -0.009021640755236149, -0.007227625697851181, 0.034902263432741165, 0.001823729951865971, -0.00621372414752841, -0.07783383131027222, -0.02969679981470108, -0.05249326303601265, 0.00042638162267394364, -0.037191446870565414, -0.005256075412034988, -0.019490543752908707, 0.036343082785606384, -0.02706247754395008, 0.00926222838461399, -0.03554382920265198, -0.0039033452048897743, -0.01447256002575159, 0.02725733444094658, -0.0080881267786026, 0.041186340153217316, 0.027529755607247353, -0.04906224459409714, 0.012375290505588055, -0.01470474898815155, 0.029341796413064003, -0.011550537310540676, 0.019200550392270088, -0.011239489540457726, 0.04325352981686592, 0.026783885434269905, 0.05404523387551308, -0.016140462830662727, 0.03242829814553261, 0.009530987590551376, 0.0007980786031112075, -0.013551975600421429, 0.017966916784644127, -0.006645905319601297, -0.029172809794545174, -0.011911725625395775, 0.025798151269555092, 0.010641670785844326, -0.0013962679076939821, 0.009950170293450356, -0.012660832144320011, -0.04809406399726868, -0.05406125262379646, -0.06079194322228432, 0.05358494818210602, 0.011594513431191444, 0.040447842329740524, -0.019076235592365265, 0.011292874813079834, -0.03898061066865921, -0.06515280157327652, 0.07017531991004944, 0.016177130863070488, -0.009858920238912106, 0.005250848364084959, 0.010121062397956848, -0.008626521565020084, 0.01712445542216301, -0.012349742464721203, -0.004658708348870277, 0.04581896588206291, 0.04177476093173027, -0.02071222849190235, -0.01824449561536312, 0.01748105138540268, 0.007393684703856707, -0.023450171574950218, 0.0002236636501038447, -0.001567346160300076, 0.02383936382830143, -0.04614141583442688, 0.12189223617315292, -0.0722934752702713, 0.0034891499672085047, 0.012190897949039936, 0.0013473298167809844, 0.061721790581941605, -0.0071487221866846085, 0.00018129886302631348, -0.0035193294752389193, -0.040115781128406525, -0.005309706088155508, 0.005327243357896805, 0.02913845330476761, -0.02321842685341835, 0.0369512178003788, 0.005082477815449238, -0.03180954232811928, 0.04556801915168762, -0.043178822845220566, 0.0291996281594038, -0.001799848978407681, -0.03389333188533783, -0.00028282133280299604, -0.004831764381378889, -0.03264400735497475, -0.013326894491910934, 0.010934192687273026, 0.05128668248653412, -0.012384905479848385, -0.03924280032515526, -0.014061658643186092, -0.034943047910928726, -0.003478942671790719, -0.11571798473596573, 0.018241671845316887, 0.0020561479032039642, 0.0009742477559484541, -0.013274013996124268, -0.02531319484114647, -0.024956513196229935, -0.003000308061018586, 0.014152470044791698, -0.03045528382062912, 0.018812270835042, -0.007748615927994251, -0.0009467549389228225, -0.03368430584669113, -0.0405639223754406, 0.02185630612075329, 0.02002161554992199, -0.007866823114454746, 0.05071093514561653, 0.003946381621062756, -0.0003136988671030849, -0.0026526926085352898, -0.04477737098932266, -0.006210561376065016, -0.015625469386577606, -0.019320709630846977, 0.010321216657757759, 0.008203239180147648, -0.029107142239809036, -0.010258817113935947, 0.026822861284017563, -0.011850741691887379, 0.016144342720508575, -0.002419896889477968, 0.05292467400431633, 0.006859908811748028, -0.03507005795836449, 0.005703648552298546, 0.029768643900752068, -0.057352084666490555, 0.07055944949388504, 0.04130270704627037, -0.04004752263426781, -0.03879871964454651, 0.022655826061964035, 0.025099873542785645, -0.00548475980758667, 0.028740908950567245, -0.051365792751312256, 0.0012450829381123185, -0.006172980647534132, 0.005608305335044861, 0.05048588663339615, 0.012062439695000648, -0.014604861848056316, 0.06572448462247849, -0.03775569051504135, -0.013526313938200474, -0.0014604576863348484, 0.049817945808172226, -0.013642597943544388, 0.03514980524778366, -0.029995474964380264, -0.037050262093544006, 0.0036211111582815647, -0.018637146800756454, -0.061451252549886703, 0.034641366451978683, 0.03722330182790756, -0.006074739620089531, -0.011684868484735489, 0.010912355035543442, 0.024198364466428757, -0.05799026042222977, 0.0005589417414739728, 0.012976380065083504, 0.02637442760169506, -0.00146230380050838, 0.011104144155979156, -0.01209134329110384, 0.03842746838927269, -0.010583019815385342, -0.027560941874980927, -0.032590024173259735, -0.010738464072346687, 0.002687885658815503, -0.02956400066614151, 0.012024995870888233, -0.04345480352640152, -0.03323885053396225, -0.027039868757128716, -0.03446575999259949, -0.02921128459274769, -0.014139065518975258, -0.026889797300100327, -0.005596705712378025, 0.008405320346355438, -0.04305605962872505, 0.0019410238601267338, -0.003973680082708597, -0.0061648194678127766, -0.04894643276929855, 0.025420892983675003, -0.020435070618987083, -0.04955850914120674, 0.02200130559504032, 0.01914198324084282, -0.018652798607945442, -0.010477207601070404, 0.0412290133535862, -0.04474572464823723, -0.001904766308143735, -0.04729302600026131, 0.02223777398467064, -0.07605114579200745, -0.011613703332841396, 0.004891098942607641, 0.03263609856367111, 0.04951547831296921, 0.028739361092448235, -0.011637324467301369, -0.013290859758853912, 0.07358130812644958, -0.04812241345643997, 0.015109241008758545, -0.021516872569918633, 0.04815835505723953, 0.00015916163101792336, -0.04218514263629913, 0.0038835247978568077, 0.00485913036391139, -0.04322047159075737, 0.046109672635793686, 0.03250616043806076, 0.0063081844709813595, 1.5111592119865236e-06, -0.041246771812438965, 0.043182533234357834, -0.025690803304314613, -0.027072301134467125, -0.04571935534477234, 0.004588976036757231, -0.03302011266350746, 0.011261998675763607, -0.03576837480068207, 0.014721221290528774, 0.03413866460323334, -0.032433003187179565, -0.021554643288254738, -0.0028210857417434454, -0.0158414077013731, -0.02374090626835823, 0.02782086282968521, 0.016604816541075706, -0.02346954122185707, -0.004430069588124752, 0.0303279347717762, 0.005210480652749538, 0.0286514014005661, 0.004592124838382006, 0.007714604493230581, -0.00363789196126163, -0.011497998610138893, 0.01601151004433632, 0.010342960245907307, -0.010058376006782055, -0.015991486608982086, -0.033895984292030334, -0.036161452531814575, 0.0024768016301095486, -0.02677902579307556, 0.03220124915242195, -0.008410369977355003, -0.008584766648709774, 0.009869856759905815, -0.01643490232527256, 0.0077665806747972965, -0.05595998093485832, -0.017684312537312508, -0.04205416515469551, 0.018517974764108658, 0.007977340370416641, 0.008506635203957558, 0.009512800723314285, 0.04583928734064102, 0.04590144008398056, -0.0123798418790102, -0.028023088350892067, -0.028218042105436325, -0.0030652706045657396, 0.0025675841607153416, 0.016143109649419785, 0.023372173309326172, -0.017228826880455017, 0.002934702206403017, 0.010839181020855904, 0.028188493102788925, 0.002017989521846175, -0.017335068434476852, 0.009047070518136024, -0.013559038750827312, -0.014580879360437393, -0.015980008989572525, -0.05073549598455429, -0.02140243537724018, -0.038871023803949356, -0.04768529534339905, -0.03498498722910881, -0.001433159806765616, 0.00860221404582262, -0.024079622700810432, -0.019241929054260254, -0.029762273654341698, -0.004266191273927689, -0.01111143920570612, -0.019996648654341698, -0.00842580758035183, -0.02742479369044304, -0.013562025502324104, 0.010947692207992077, -0.019609889015555382, 0.01301824301481247, 0.010194051079452038, 0.023310795426368713, 0.007988286204636097, -0.04888744652271271, -0.0330791100859642, 0.05339815467596054, 0.02512880228459835, -0.0025833838153630495, -0.013427275232970715, 0.00474353414028883, -0.026904787868261337, 0.02871703915297985, 0.0036191486287862062, -0.029231645166873932, 0.05952368304133415, 0.018603971228003502, 0.031971078366041183, 0.04052257165312767, -0.05161233991384506, -0.01725783571600914, -0.07907425612211227, 0.015993069857358932]}}, {'m': {'name': 'peach iced tea', 'content_embedding': [-0.010664982721209526, 0.006539879832416773, -0.02682637609541416, 0.007792815566062927, 0.013648132793605328, -0.020420294255018234, 0.035027630627155304, -0.0322737917304039, 0.007811300922185183, 0.0014181920560076833, -0.005465290043503046, -0.028825702145695686, -0.012239448726177216, -0.016307812184095383, 0.033451080322265625, -0.02161242626607418, -0.035134147852659225, 0.02215220220386982, 0.00588360708206892, -0.03846683353185654, 0.0363176167011261, -0.020996542647480965, -0.038221243768930435, -0.0003210465656593442, 0.01948048360645771, 0.03909096494317055, -0.018817458301782608, -0.01575060747563839, 0.004077201243489981, -0.00530408276244998, 0.03836490213871002, -0.005656605586409569, 0.02576133795082569, -0.06617563962936401, -0.021652478724718094, -0.021059995517134666, 0.006722413469105959, -0.0626639574766159, -0.043030235916376114, 0.0050780512392520905, 0.02279108203947544, 0.0038946636486798525, 0.003399761626496911, 0.02170637622475624, -0.026712844148278236, -0.04037490859627724, 0.02746071107685566, 0.0026858202181756496, -0.006482432130724192, 0.00913402158766985, 0.007361906580626965, 0.024522388353943825, 0.02874239906668663, -0.012250790372490883, 0.0019558940548449755, 0.022546442225575447, 0.0012061294401064515, 0.027833694592118263, -0.07163470983505249, 0.00106332718860358, -0.044581346213817596, -0.0007076424662955105, 0.031369540840387344, -0.022451123222708702, -0.015331009402871132, 0.10204000771045685, -0.03687766566872597, 0.00947873480618, -0.005270516499876976, -0.018105050548911095, -0.030304793268442154, 0.07366812229156494, -0.01568789593875408, -0.004764669109135866, -0.04507672041654587, 0.0577402226626873, -0.0018461960135027766, 0.040514979511499405, 0.024613330140709877, -0.01570226438343525, 0.05848991870880127, -0.014977246522903442, 0.00595374358817935, 0.03136197105050087, -0.02834649756550789, 0.020251406356692314, -0.02773243561387062, 0.06191841512918472, 0.026510892435908318, -0.028908679261803627, -0.005426554009318352, -0.0355650931596756, 0.0047254739329218864, -0.10917700827121735, -0.031214486807584763, -0.012744746170938015, -0.014713402837514877, 0.0029856690671294928, 0.042390380054712296, -0.0061011542566120625, 0.019498033449053764, 0.0017838259227573872, -0.06302741169929504, -0.030963122844696045, 0.08630833029747009, -0.01176383625715971, 0.03458571434020996, 0.027305467054247856, 0.019219765439629555, 0.022185157984495163, 0.051992665976285934, -0.012508767656981945, -0.02901359461247921, 0.05741582065820694, 0.01549244299530983, 0.027210189029574394, -0.0006329172174446285, -0.008456402458250523, 0.027916712686419487, -0.009932723827660084, 0.009768011048436165, 0.02753552794456482, -0.011218058876693249, -0.014084378257393837, 0.023598432540893555, 0.01799558475613594, -0.014505984261631966, -0.007925890386104584, 0.011367146857082844, 0.01920679584145546, 0.000899912032764405, -0.005723689682781696, -0.04145045578479767, -0.02926691062748432, 0.017702734097838402, -0.007240787614136934, -0.02051597647368908, -0.04249032586812973, -0.008235481567680836, -0.03175362944602966, 0.020905092358589172, 0.059222713112831116, 0.013158856891095638, -0.07916907966136932, 0.005838922690600157, -0.07525905966758728, 0.05061589926481247, -0.033196821808815, -0.03222949430346489, -0.007176496088504791, 0.020006489008665085, -0.012759634293615818, 0.02737436071038246, 0.017803678289055824, 0.008610419929027557, -0.024354375898838043, 0.02405567094683647, 0.05790099501609802, 0.032454051077365875, -0.029802273958921432, -0.036331623792648315, 0.009441463276743889, 0.00450369156897068, -0.04162544012069702, 0.022655103355646133, 0.004551691468805075, 0.026615450158715248, -0.0001048929916578345, -0.025103187188506126, 0.011941858567297459, 0.0010230711195617914, 0.004530512262135744, -0.04046165943145752, 0.008053219877183437, 0.04792777821421623, -0.007265649735927582, 0.009092960506677628, -0.005500681698322296, -0.046384718269109726, -0.024515055119991302, -0.011700918897986412, 0.007749421522021294, 0.005848164204508066, -0.03696540370583534, -0.024702945724129677, -0.010045015253126621, -0.0006673721363767982, 0.045673150569200516, 0.011267522349953651, 0.03718167170882225, -0.036236174404621124, 0.002791556529700756, 0.0033901960123330355, 0.017743295058608055, 0.04222716763615608, -0.032027456909418106, -0.04251730442047119, -0.057560354471206665, 0.012751957401633263, -0.02827978879213333, -0.01818106323480606, 0.03924047574400902, -0.012419571168720722, 0.006785146426409483, 0.03404529392719269, 0.015817368403077126, 0.021762117743492126, -0.03450837358832359, 0.028263883665204048, -0.0182825718075037, 0.02810250222682953, -0.008998430334031582, -0.0005514556542038918, -0.0037352931685745716, -0.021510489284992218, 0.03560305014252663, 0.06375966966152191, -0.007864072918891907, 0.03657025471329689, 0.013430492021143436, -0.0033387253060936928, 0.010663352906703949, 0.014227618463337421, 0.02715984731912613, 0.03973286226391792, 0.035110458731651306, 0.026977648958563805, 0.04980619624257088, -0.031301967799663544, -0.014892837032675743, -0.011461715213954449, 0.03178730607032776, -0.019218437373638153, -0.013499762862920761, 0.014447351917624474, 0.05382645130157471, 0.01733146235346794, 0.01243723463267088, 0.02556292526423931, 0.004524264484643936, 0.017247427254915237, 0.005783814936876297, 0.02077695168554783, 0.04047541320323944, -0.008320504799485207, -0.03701076656579971, 0.049410130828619, 0.029083261266350746, 0.0026076752692461014, 0.029224738478660583, 0.04911595210433006, -0.011095871217548847, -0.061769939959049225, 0.01969298906624317, 0.021584993228316307, 0.0093650221824646, 0.030854491516947746, -0.0022196173667907715, 0.03270164504647255, 0.02001327835023403, 0.024881280958652496, -0.005643849261105061, -0.0004178558592684567, 0.02184821106493473, -0.033832501620054245, -0.04370240122079849, -0.04026567190885544, 0.00733273895457387, 0.026580747216939926, 0.01939660683274269, -0.0482015535235405, -0.009848137386143208, -0.00763620063662529, -0.009767947718501091, -0.04251142218708992, 0.009227012284100056, -0.028249718248844147, 0.01026215124875307, 0.013916285708546638, 0.0035994055215269327, 0.00265078735537827, -0.019947415217757225, 0.013075715862214565, -0.0067778523080050945, 0.004646074492484331, -0.009488314390182495, -0.01212337613105774, 0.004223280120640993, -0.027203477919101715, -0.00803705770522356, -0.03131183609366417, -0.022637834772467613, 0.06945230811834335, 0.026412205770611763, -0.010013180784881115, 0.004611981101334095, -0.02424490824341774, -0.13423137366771698, -0.02183961682021618, -0.04389584809541702, -0.005852473899722099, 0.04135304316878319, 0.004648961592465639, -0.06875817477703094, -0.02118651010096073, -0.03611139953136444, -0.017609866335988045, 0.020818043500185013, -0.052346713840961456, -0.03194836527109146, 0.01456501055508852, -0.005528036504983902, 0.011040684767067432, -0.033002983778715134, -0.014194180257618427, 0.027288511395454407, -0.06795661151409149, -0.008576805703341961, -0.011468866840004921, 0.10627778619527817, -0.0233419481664896, -0.020434826612472534, 0.016552448272705078, 0.01821155473589897, -0.057074643671512604, -0.02951359562575817, -0.03367747738957405, 0.007565434090793133, -0.011087263934314251, 0.0007707529002800584, 0.04047699645161629, 0.026471508666872978, -0.009014262817800045, 0.024638287723064423, -0.0380438007414341, 0.015893591567873955, 0.01074695773422718, -0.008758140727877617, 0.012300838716328144, -0.0382324755191803, 0.0028525483794510365, 0.0011625527404248714, 0.02281627058982849, -0.01765049435198307, 0.03437461704015732, -0.014804551377892494, 0.009167654439806938, 0.058865465223789215, 0.01357326190918684, 0.001196263823658228, -0.026053261011838913, -0.028494570404291153, -0.0173509418964386, -0.0030517131090164185, 0.047101132571697235, 0.005953717976808548, -0.02111634612083435, -0.024096092209219933, 0.0016650360776111484, 0.00457627372816205, 0.014334071427583694, 0.023951131850481033, -0.019390055909752846, -0.005459981504827738, 0.023086771368980408, -0.016793426126241684, -0.021228907629847527, 0.014835288748145103, 0.023714233189821243, 0.0033204713836312294, -0.04050419107079506, 0.010321988724172115, 0.05024373531341553, -0.012323317117989063, -0.019383873790502548, 0.0027533071115612984, -0.13661645352840424, -0.010957825928926468, 0.011417091824114323, 0.01487755961716175, -0.020683610811829567, -0.003717722138389945, -0.05193648859858513, 0.032757919281721115, 0.016448279842734337, 0.0266041811555624, 0.23158153891563416, 0.030764061957597733, 0.017031265422701836, -0.0237457063049078, 0.008332878351211548, 0.005485032685101032, -0.04271702840924263, -0.0444633774459362, -0.03713690862059593, -0.020116323605179787, -0.01979861967265606, -0.013993089087307453, 0.015050322748720646, -0.012733690440654755, -0.025249317288398743, 0.02864934131503105, -0.0040853810496628284, -0.032671380788087845, 0.05273130536079407, -0.02504783123731613, -0.019053004682064056, 0.011549266055226326, -0.008514129556715488, -0.00044437265023589134, -0.011209726333618164, -0.003634342458099127, 0.04075181484222412, 0.06302644312381744, -0.0069290995597839355, -0.005490738898515701, 0.025432728230953217, 0.006990527734160423, 0.008991135284304619, 0.026166291907429695, 0.034230735152959824, -0.006051009055227041, -0.01214897632598877, -0.02202482707798481, -0.011824371293187141, -0.026196172460913658, 0.017746545374393463, -0.021749019622802734, 0.04606766626238823, -0.012203319929540157, -0.0008432234171777964, -0.03289095312356949, -0.02377544902265072, -0.01371543388813734, -0.02761377952992916, -0.012834707275032997, 0.015838874503970146, 0.030024534091353416, 0.0039225611835718155, 0.003372887149453163, 0.03793015331029892, -0.05266761779785156, -0.051746390759944916, -0.0601889006793499, 0.02760479599237442, 0.06440341472625732, -0.03421924635767937, 0.011987664736807346, -0.018938427790999413, 0.0063729844987392426, -0.014587746933102608, 0.05806143581867218, -0.0024518005084246397, 0.029759522527456284, -0.052891191095113754, 0.013156132772564888, 0.0015741541283205152, -0.0005874186754226685, -0.03650972992181778, -0.025393158197402954, 0.024213135242462158, -0.026406848803162575, -0.0071618519723415375, 0.07296635210514069, 0.01542224083095789, 0.06294329464435577, -0.01719311624765396, -0.044674478471279144, -0.05468573048710823, -0.0196011271327734, -0.008129176683723927, 0.023817194625735283, 0.07030203938484192, -0.04504960775375366, -0.018623167648911476, -0.032728660851716995, -0.0076750232838094234, 0.040564291179180145, -0.021734775975346565, 0.015125825069844723, -0.007709316443651915, -0.039986904710531235, 0.043888870626688004, 0.02006176859140396, -0.01650220900774002, 0.00613797502592206, -0.037588730454444885, 0.010594435036182404, 0.017893744632601738, -0.01433041412383318, 0.07651489973068237, 0.010621648281812668, -0.008995920419692993, -0.029456699267029762, -0.060281623154878616, 0.022775445133447647, 0.016626281663775444, 0.0056199003010988235, 0.036456916481256485, -0.032272227108478546, 0.01470949873328209, 0.014036023057997227, 0.004422417376190424, 0.06451769918203354, 0.025568941608071327, 0.04685961827635765, 0.014558575116097927, 0.04673083871603012, 0.028128480538725853, -0.03439720720052719, 0.01510703656822443, -0.021273396909236908, -0.029103023931384087, -0.06474973261356354, -0.01179897878319025, 0.037569377571344376, 0.00032729358645156026, -0.002907116897404194, 0.015119645744562149, -0.014998489059507847, 0.06316136568784714, -0.0424468107521534, 0.05497624725103378, -0.0078075057826936245, 0.0008161389851011336, 0.06162279471755028, -0.01925702579319477, -0.02835458144545555, -0.017522135749459267, -0.007070745341479778, 0.014762692153453827, 0.013387719169259071, -0.05260036885738373, -0.007419380359351635, -0.004792216699570417, -0.013473523780703545, 0.0198084507137537, 0.03120930679142475, -0.04241533949971199, -0.026558158919215202, -0.03504475578665733, -0.019171835854649544, -0.018793456256389618, -0.055303238332271576, 0.008012714795768261, 0.0006781273987144232, 0.0012657531769946218, 0.008806235156953335, -0.011223413981497288, 0.0624503530561924, 0.009901958517730236, 0.04269041121006012, -0.039093777537345886, 0.018397411331534386, 0.032188497483730316, -0.07047277688980103, 0.002789280144497752, 0.03194344416260719, -0.03809281811118126, 0.028065700083971024, -0.033389389514923096, -0.025029528886079788, 0.007386041339486837, 0.014385572634637356, 0.03419328108429909, -0.04963785409927368, 0.01990594156086445, -0.01375788077712059, 0.05940116196870804, 0.023747138679027557, 0.07701103389263153, 0.03514934331178665, -0.025111179798841476, -0.03703700751066208, 0.04267964884638786, -0.021325716748833656, -0.03316308185458183, 0.03176290914416313, -0.005542149301618338, 0.005823959596455097, -0.015450270846486092, 0.03062700852751732, 0.036870747804641724, 0.0204986073076725, 0.02299433760344982, -0.023195631802082062, 0.009032262489199638, -0.05076882988214493, -0.018567999824881554, 0.005347047932446003, 0.01584290899336338, 0.01078629121184349, -0.06385919451713562, 0.02048715576529503, -0.037119701504707336, 0.003285412909463048, -0.037933267652988434, 0.01436801627278328, -0.007360558956861496, -0.04365932568907738, -0.013661473989486694, -0.04564787074923515, 0.00997992791235447, 0.04946666210889816, -0.01427460927516222, -0.00893995352089405, 0.029904283583164215, 0.005983543116599321, 0.01767311431467533, -0.028557617217302322, 0.034918710589408875, 0.02726229839026928, 0.012277806177735329, -0.004682602826505899, 0.02401910535991192, -0.005718591623008251, 0.005723366513848305, -0.03931057080626488, -0.022053437307476997, 0.0011982436990365386, -0.01613868772983551, -0.008480583317577839, -0.0038956296630203724, 0.008633182384073734, -0.033816516399383545, -0.0098262969404459, -0.013782969675958157, 0.0024691233411431313, 0.0009525708155706525, 0.06255678087472916, 0.0009011706570163369, -0.012145969085395336, -0.028788048774003983, 0.01767398603260517, 0.011413611471652985, -0.003750594099983573, 0.022159084677696228, 0.019041096791625023, 0.01684865914285183, -0.013954699039459229, 0.043562233448028564, 0.016024164855480194, 0.003365569980815053, -0.020104771479964256, -0.055787406861782074, 0.017309041693806648, -0.008122660219669342, 0.04190918803215027, 0.002560599707067013, -0.0006548702949658036, 0.015312579460442066, 0.0329996719956398, 0.07652721554040909, -0.019422635436058044, -0.0346628800034523, -0.033000025898218155, -0.017744628712534904, -0.033184077590703964, -0.0006768763996660709, -0.006119034718722105, 0.06630542874336243, 0.03394339233636856, -0.03278658911585808, 0.03672915697097778, -0.03241472691297531, 0.033655937761068344, -0.03267570212483406, 0.06365405023097992, -0.010424314998090267, 0.03394686058163643, -0.05144913122057915, 0.025539616122841835, -0.04367445781826973, 0.04915444552898407, 0.009812125004827976, -0.001244899583980441, -0.028082165867090225, -0.032810840755701065, -0.06925969570875168, -0.019607914611697197, -0.01257394626736641, -0.006114869378507137, -0.001864340272732079, 0.029790470376610756, -0.01836557500064373, -0.01299538929015398, -0.021044349297881126, 0.024268636479973793, -0.034334223717451096, 0.010320255532860756, -0.006380113307386637, 0.030877163633704185, 0.03548935800790787, -0.04434312880039215, 0.019599363207817078, -0.019119109958410263, 0.02750103548169136, -0.004839917179197073, 0.01859099604189396, 0.0036090449430048466, 0.030026370659470558, 0.034110210835933685, 0.016213063150644302, -0.021731706336140633, 0.04560023546218872, -0.019043205305933952, -0.017402533441781998, -0.010060247965157032, 0.01973426528275013, -0.02538774535059929, -0.002540638204663992, -0.011153719387948513, 0.01250677090138197, 0.006697099190205336, -0.009534940123558044, 0.016377009451389313, -0.032149624079465866, -0.03733206167817116, -0.03530849888920784, -0.037941377609968185, 0.03225850313901901, 0.0511191226541996, 0.04628089442849159, -0.02774827927350998, -0.008597370237112045, -0.043586570769548416, -0.039473433047533035, 0.0598384328186512, 0.04180069640278816, -0.0033045094460248947, 0.01837141439318657, -0.0037641737144440413, -0.009003163315355778, 0.0021419373806566, -0.019614331424236298, -0.013648517429828644, 0.028766782954335213, 0.0029524858109652996, -0.029690686613321304, -0.045073501765728, 0.008412249386310577, -0.03660622239112854, -0.043106257915496826, 0.016335565596818924, 0.006465890910476446, 0.023410551249980927, -0.0255828108638525, 0.07714742422103882, -0.05817599967122078, -0.010779901407659054, 0.005779598839581013, -0.0023638824932277203, 0.04870907589793205, 0.013737729750573635, 0.016745852306485176, 0.031831931322813034, -0.057928383350372314, 0.00977267511188984, 0.0057693105190992355, 0.043437469750642776, -0.02647642232477665, 0.02147917076945305, 0.0033586930949240923, -0.030434826388955116, 0.011264354921877384, -0.028228426352143288, 0.010487653315067291, 0.028286663815379143, -0.009688292630016804, -0.0034435323905199766, 0.0268219206482172, -0.04295128956437111, -0.040425848215818405, -0.0039051962085068226, 0.015467080287635326, -0.02988980896770954, -0.021693479269742966, -0.0011390924919396639, -0.06387700885534286, 0.010930582880973816, -0.1259191483259201, 0.05446186661720276, 0.005847705528140068, -0.01900230161845684, 0.01044846884906292, -0.0044833095744252205, -0.05372763052582741, -0.01655104197561741, 0.005818776320666075, -0.029446184635162354, -0.009944124147295952, -0.001160963554866612, 0.03703193739056587, -0.0057190414518117905, -0.011864625848829746, 0.022923024371266365, 0.029377702623605728, -0.020878130570054054, 0.042485568672418594, 0.020923417061567307, 0.0021570485550910234, 0.01993885263800621, -0.032721780240535736, -0.0012603242648765445, -0.025738054886460304, -0.023115644231438637, 0.014379206113517284, 0.04206809774041176, -0.02662387490272522, -0.024046551436185837, 0.006591267883777618, -0.008658346720039845, 0.034946661442518234, 0.012142729014158249, 0.05021589621901512, -0.01697646453976631, -0.02132747694849968, 0.010935988277196884, 0.010208585299551487, -0.034992024302482605, 0.04506959766149521, 0.020922066643834114, -0.043812863528728485, -0.039367660880088806, 0.009939620271325111, 0.028727170079946518, -0.0014555949019268155, 0.01424575224518776, -0.06837281584739685, -0.006674488540738821, -0.008853143081068993, -0.0008382723317481577, 0.020703056827187538, 0.023464689031243324, 0.0003172890574205667, 0.042283106595277786, -0.0790976732969284, 0.018562430515885353, -0.0023425063118338585, 0.010412272065877914, -0.007827378809452057, 0.00871236901730299, -0.0028632853645831347, -0.040996942669153214, 0.040248505771160126, -0.01228948775678873, -0.03516501933336258, 0.03407490998506546, 0.01275292132049799, 0.017981482669711113, 0.00275114132091403, 0.0056397560983896255, 0.008680679835379124, -0.032824162393808365, -0.007164417766034603, -0.0044739446602761745, 0.03903397545218468, -0.0066018435172736645, -0.0015217791078612208, -0.005679161753505468, 0.02774197608232498, -0.03441662713885307, -0.02150479517877102, -0.04835045337677002, -0.03653208538889885, 0.029005534946918488, -0.03477925434708595, 0.027886763215065002, -0.04628410562872887, -0.03860767185688019, -0.02118191309273243, -0.03735386207699776, -0.003952866420149803, -0.011478191241621971, -0.02374396286904812, -0.010148498229682446, 0.004547652788460255, -0.04904676973819733, 0.008192069828510284, 0.011129690334200859, -0.020188117399811745, -0.01491647306829691, -0.009537328034639359, -0.021000904962420464, -0.06755445152521133, 0.046440426260232925, 0.03207632899284363, -0.040953379124403, -0.01516744028776884, 0.028724901378154755, -0.061010319739580154, -0.0008543714066036046, -0.0731395035982132, -0.001769504277035594, -0.07951267063617706, -0.01693340577185154, 0.0003457189304754138, 0.03229968994855881, 0.04521884769201279, 0.00426230113953352, -0.03662398084998131, -0.003910975530743599, 0.05061428248882294, -0.05155469849705696, 0.017504500225186348, 0.019324548542499542, 0.05374080315232277, 0.015463710762560368, -0.0050324262119829655, 0.04237932339310646, 0.008141298778355122, -0.0187815073877573, 0.03802468627691269, 0.04971788823604584, 0.0008439741795882583, -0.008316479623317719, -0.00786504615098238, 0.04485246539115906, 0.0013952379813417792, -0.05050043389201164, -0.04887669160962105, 0.0001695558603387326, -0.03445682302117348, 0.0035115163773298264, -0.06178859621286392, 0.02530371956527233, 0.030656687915325165, -0.025397568941116333, -0.012022214010357857, -0.006201474461704493, 0.0042989058420062065, -0.027769874781370163, 0.013458671048283577, -0.00496108690276742, -0.02939426526427269, 0.0035442670341581106, 0.036101944744586945, 0.005235807970166206, -0.006135514471679926, 0.02328566275537014, 0.04570677876472473, -0.02505630999803543, 0.003478000871837139, 0.04045382887125015, -0.02905014343559742, -0.008477281779050827, -0.008206185884773731, -0.032890770584344864, -0.02064356580376625, -0.001996776321902871, -0.03682323545217514, 0.014751844108104706, -0.014103042893111706, 0.03498324751853943, 0.027962826192378998, -0.013927871361374855, 0.023351071402430534, -0.02565242536365986, -0.02121651917695999, -0.015670211985707283, 0.022847577929496765, -0.0018935707630589604, -0.008155569434165955, 0.031200703233480453, 0.04174648970365524, 0.04705530032515526, 0.0018615558510646224, -0.004807185381650925, -0.021683812141418457, -0.0007120775408111513, 0.01755971647799015, 0.01140902191400528, 0.018690356984734535, -0.019084829837083817, 0.0649617537856102, -0.005604109726846218, 0.010500837117433548, 0.024017781019210815, -0.031682513654232025, 0.004770652856677771, -0.02572968602180481, -0.01132547203451395, -0.00980316661298275, -0.031648509204387665, -0.04103276506066322, -0.026162782683968544, -0.03259182348847389, -0.013927195221185684, -0.03678867965936661, 0.015988867729902267, -0.014674716629087925, -0.02403487078845501, -0.0193535927683115, -0.013675510883331299, 0.00622438034042716, -0.030128033831715584, -0.009775442071259022, -0.03935208171606064, -0.02249572053551674, 0.02490944229066372, -0.024408379569649696, 0.049257759004831314, -0.00048416166100651026, 0.018163200467824936, -0.010219136252999306, -0.037089649587869644, -0.010726789943873882, 0.05891522392630577, 0.029880370944738388, -0.002465193858370185, 0.032459601759910583, -0.014232156798243523, -0.023562055081129074, -0.021724894642829895, -0.00911478791385889, -0.013195584528148174, 0.03421032801270485, 0.008395902812480927, 0.013552356511354446, 0.03750874847173691, -0.028417186811566353, -0.024900473654270172, -0.07353832572698593, 0.035227131098508835]}}, {'m': {'name': 'white peach', 'content_embedding': [-0.03291734680533409, 0.0028692036867141724, -0.05103277042508125, -0.014486939646303654, -0.01803307794034481, 0.020606230944395065, 0.02132227271795273, 0.015722300857305527, 0.012322749011218548, 0.03302903473377228, 0.0091317817568779, 0.03081437386572361, 0.013488518074154854, -0.01677161641418934, 0.04045190289616585, -0.037830762565135956, -0.050109926611185074, 0.030044162645936012, -0.010183107107877731, -0.02736743353307247, -0.0013301941798999906, -0.013919802382588387, -0.029832644388079643, 0.0001860395714174956, 0.012661706656217575, 0.0064890724606812, -0.0063687884248793125, -0.023886118084192276, -0.020901519805192947, -0.0022225563880056143, -0.0001705808681435883, -0.0231073759496212, 0.011931587010622025, -0.07403191179037094, -0.02342860773205757, -0.03541256859898567, -0.018763484433293343, -0.016867773607373238, -0.058947138488292694, -0.02201450988650322, 0.0320875309407711, -0.02198074758052826, -0.004304591100662947, -0.009186658076941967, -0.06683006882667542, -0.05069869011640549, 0.01176598109304905, 0.011780211701989174, -0.027392860502004623, -0.03310639411211014, 0.0036645669024437666, 0.01764841191470623, 0.06364163756370544, -0.018206866458058357, -0.023533619940280914, 0.047180354595184326, 0.009571874514222145, 0.03303549066185951, -0.07737729698419571, -0.0028789765201509, -0.03445753455162048, 0.008352694101631641, 0.017038369551301003, -0.0063664051704108715, -0.0009058175492100418, 0.08764807879924774, -0.021166367456316948, -0.006961696781218052, 0.023411229252815247, -0.011001582257449627, -0.0017100463155657053, 0.018284941092133522, -0.0127501105889678, 0.012967433780431747, -0.05110609531402588, 0.04330319166183472, 0.03282765671610832, 0.01249076146632433, 0.052826639264822006, 0.010182439349591732, 0.08894825726747513, -0.018285835161805153, -0.0027875900268554688, -0.0016404461348429322, -0.027162829414010048, 0.03229401260614395, -0.026208927854895592, 0.03691704943776131, -0.020726308226585388, -0.022785790264606476, 0.006067086011171341, -0.0366704985499382, 0.049919307231903076, -0.09299062192440033, -0.05643134191632271, 0.00041461779619567096, -0.03130628168582916, 0.0029668842907994986, 0.05568547174334526, 0.053561899811029434, 0.0141271548345685, 0.06023336946964264, -0.048325132578611374, -0.03875717148184776, 0.09730967879295349, 0.013006975874304771, 0.013173576444387436, -0.00023804724332876503, 0.026039356365799904, 0.02274959906935692, 0.06401003152132034, -0.0366036593914032, -0.03750330209732056, 0.05496589466929436, 0.009150885045528412, -0.009380606934428215, -0.026999590918421745, 0.0003847308689728379, 0.0260932557284832, 0.004889186937361956, -0.009312054142355919, -0.0035962234251201153, -0.0049797180108726025, 0.017679473385214806, -0.008095080964267254, -0.01560760848224163, -0.013667983934283257, 0.0244784876704216, -0.03919457271695137, 0.049376778304576874, 0.012893988750874996, 0.008553139865398407, -0.04347946122288704, 0.0024420369882136583, 0.037310946732759476, -0.013414821587502956, -0.018719376996159554, -0.04016865789890289, -0.0307211484760046, -0.03645315021276474, 0.02060655504465103, 0.04271288961172104, -0.022372279316186905, -0.011176114901900291, 0.008887035772204399, -0.044475287199020386, 0.005220536608248949, -0.0406060554087162, 0.03514973819255829, 0.021370943635702133, 0.029636820778250694, -0.0039047528989613056, -0.0013838656013831496, 0.014709275215864182, 0.06180189177393913, -0.06005004793405533, 0.03895512595772743, 0.04766567051410675, 0.022121626883745193, -0.04831521213054657, -0.013273035176098347, -0.038148459047079086, -0.00697037810459733, -0.012962287291884422, 0.007524778135120869, -0.0025843100156635046, 0.05022712051868439, 0.016462553292512894, -0.015141231939196587, 0.007248227950185537, 0.001293337089009583, -0.0077935270965099335, -0.03405936807394028, 0.007197286933660507, 0.051052119582891464, -0.019767826423048973, 0.05728355422616005, -0.003991295117884874, 0.0038180393166840076, -0.03681062534451485, -0.01357999350875616, 0.007171084638684988, -0.0016330038197338581, -0.05181096866726875, -0.04279020056128502, 0.005628945771604776, 0.025201091542840004, -0.0034225459676235914, 0.003639996750280261, 0.03975827246904373, -0.015001586638391018, 0.007863820530474186, 0.02073698863387108, -0.042376674711704254, -0.013050742447376251, -0.022964315488934517, -0.023577352985739708, -0.03096230886876583, 0.0474180243909359, 0.0022430643439292908, 0.004463449586182833, 0.0057198223657906055, -0.012339944951236248, -0.008615001104772091, 0.008277836255729198, 0.020491797477006912, 0.036202989518642426, -0.009874326176941395, 0.030679384246468544, -0.027303678914904594, 0.03491862118244171, -0.007718626409769058, -0.013178599998354912, 0.06820322573184967, -0.04548818990588188, 0.0024199082981795073, 0.03621642664074898, 0.0014032626058906317, -0.026159025728702545, 0.028957579284906387, 0.016751637682318687, -0.04616253077983856, -0.01888367161154747, 0.030531756579875946, 0.05683393031358719, -0.001567250001244247, 0.03465088829398155, 0.02804047241806984, -0.029639406129717827, -0.026745660230517387, -0.018869582563638687, 0.05692955479025841, 0.02024194411933422, -0.015754129737615585, -0.002864112611860037, 0.006612500175833702, 0.022247932851314545, 0.03769088536500931, 0.025159159675240517, 0.010034136474132538, 0.0404144786298275, -0.013100690208375454, -1.0219611795037054e-05, 0.020128443837165833, -0.03791998326778412, 8.515875379089266e-05, 0.02616223134100437, 0.00025749331689439714, 0.015556243248283863, 0.043554987758398056, 0.003013643203303218, -0.0059970105066895485, -0.033856816589832306, -0.010510432533919811, -0.01302467379719019, 0.009002120234072208, 0.03342932462692261, 0.0096267806366086, -0.0027552195824682713, 0.007287342566996813, 0.026376904919743538, -0.03212275356054306, -0.013208997435867786, 0.0190708227455616, 0.00929064117372036, -0.022374071180820465, -0.05587461590766907, 0.023064153268933296, -0.007365119643509388, 0.012186698615550995, -0.02046894282102585, -0.0002607586793601513, -0.002523939125239849, -0.02887449972331524, -0.049146369099617004, 0.04027383401989937, 0.007059447467327118, -0.013590097427368164, 0.011720129288733006, -0.025722568854689598, 0.0014069096650928259, -0.02171042375266552, -0.0002121982688549906, 0.00018276358605362475, -0.0074051362462341785, 0.022653330117464066, -0.03059108555316925, -0.029492422938346863, -0.039193663746118546, -0.0348653644323349, -0.004980762023478746, 0.04738903418183327, 0.05155982822179794, 0.016249189153313637, -0.0032697031274437904, 0.007801542058587074, -0.02087673917412758, -0.13404597342014313, -0.014655445702373981, -0.03467747941613197, 0.005433289334177971, 0.04082018509507179, -0.025518961250782013, -0.07676469534635544, -0.009677261114120483, -0.04085254669189453, -0.0457330159842968, 0.011073027737438679, -0.038199204951524734, -0.05230405926704407, -0.007121826056391001, -0.014371948316693306, 0.004820127505809069, -0.06184376776218414, -0.029181543737649918, 0.0043059708550572395, -0.06530597805976868, 0.0036993580870330334, -0.013977879658341408, 0.047944094985723495, -0.04093664139509201, -0.009633082896471024, 0.003332989290356636, -0.001962407259270549, -0.05778205022215843, -0.0353090837597847, 0.002599485917016864, 0.0024187592789530754, 0.0037304579745978117, -0.006597309838980436, 0.056312430649995804, -0.012808003462851048, 0.011116205714643002, 0.0034909318201243877, -0.01586742512881756, 0.018829593434929848, -0.027565909549593925, -0.028771543875336647, 0.009872756898403168, -0.013586340472102165, 0.015676258131861687, -0.010626431554555893, -0.00874041486531496, -0.01663379557430744, 0.013626831583678722, -0.025952793657779694, -0.021547148004174232, -0.002517682034522295, -0.01342316996306181, 0.0035372672136873007, -0.045427221804857254, -0.029136961326003075, -0.025599684566259384, -0.015459821559488773, 0.010797959752380848, -0.007408625446259975, -0.00876503437757492, -0.012144277803599834, 0.02780953235924244, 0.016531143337488174, 0.04336419329047203, 0.0032853675074875355, 0.022914502769708633, 0.005917628761380911, 0.011356941424310207, 0.004680432379245758, 0.008458729833364487, 0.00880408100783825, 0.03343240171670914, 0.005455892067402601, -0.0014782202197238803, 0.06481695920228958, 0.009259352460503578, -0.01522863656282425, 0.016159046441316605, -0.010441753081977367, -0.1348087638616562, 0.027122514322400093, -0.028254050761461258, -0.010723480023443699, 0.021442443132400513, -0.0058081489987671375, -0.04901883751153946, 0.008428824134171009, -0.015460827387869358, 0.006342770531773567, 0.23531264066696167, 0.021919595077633858, 0.011972963809967041, -0.033776815980672836, 0.02666555717587471, -0.014249111525714397, -0.01078436616808176, -0.020076552405953407, -0.021059351041913033, -0.015966754406690598, -0.008898202329874039, -0.023065701127052307, 0.03064417652785778, -0.013601257465779781, -0.01881917007267475, 0.04779612272977829, -0.00911882147192955, -0.0006855010869912803, 0.07514362037181854, 0.00012357176456134766, -0.038405608385801315, -0.0033344838302582502, 0.044551216065883636, 0.0066436841152608395, -0.001799555728211999, -0.031882625073194504, -0.04604495316743851, 0.03311839699745178, -0.01272396370768547, 0.07167833298444748, -0.024607880041003227, -0.013481001369655132, 0.01880180649459362, -0.0145505266264081, 0.0008807476842775941, -0.007818903774023056, -0.028103142976760864, -0.020552586764097214, -0.07362625747919083, 0.025065787136554718, -0.003185165813192725, -0.05720887705683708, 0.008270230144262314, -0.01701664738357067, 0.02966965362429619, -0.0406377837061882, -0.008537710644304752, -0.050000470131635666, -0.06769038736820221, 0.017885537818074226, -0.021961897611618042, 0.05025319755077362, -0.025251084938645363, 0.04163101688027382, 0.01209337543696165, -0.02085479535162449, -0.03168420121073723, -0.012529199942946434, 0.02421203814446926, 0.06210288405418396, 0.009611048735678196, 0.021112147718667984, -0.06910333037376404, -0.0016555101610720158, -0.04000706225633621, 0.04778818041086197, 0.01073506474494934, -0.03017168492078781, -0.09123137593269348, -0.02764568105340004, 0.007376629859209061, -0.028309032320976257, -0.013953164219856262, -0.0024078888818621635, 0.03396878391504288, 0.0011273302370682359, -0.00316491536796093, 0.06116044148802757, 0.01710594817996025, 0.055796101689338684, 0.0039003740530461073, -0.04059236869215965, -0.00717313913628459, 0.005321905016899109, -0.017626844346523285, -0.01606054976582527, 0.0316653773188591, -0.03315790742635727, 0.042185164988040924, -0.034732334315776825, -0.022359080612659454, 0.03810013458132744, -0.04572958126664162, 0.02365671657025814, 0.019090687856078148, -0.04154324531555176, 0.04608767479658127, -0.0025085171218961477, 0.005686227232217789, -0.02276865765452385, -0.02565298043191433, -0.010015097446739674, 0.003823886625468731, -0.044743821024894714, 0.06666486710309982, 0.010929800570011139, -0.004016214516013861, 0.0026117083616554737, -0.02870320715010166, -0.006402831058949232, 0.032788489013910294, 0.025574812665581703, 0.030388524755835533, -0.010152807459235191, -0.0145769277587533, 0.018140580505132675, 0.004010126926004887, 0.048767924308776855, -0.002786691766232252, 0.04467979446053505, 0.00165282201487571, -0.004087416455149651, 0.035836610943078995, -0.017057327553629875, -0.01287907361984253, -0.006836255080997944, -0.025527475401759148, -0.02414713241159916, 0.007516968529671431, 0.02460198849439621, -0.006854725535959005, -0.014015870168805122, 0.004693273920565844, 0.034999508410692215, 0.07255546748638153, -0.020316343754529953, 0.06168925389647484, 0.01873801276087761, -3.8446993130492046e-05, 0.03495774418115616, -0.02216147445142269, 0.013871824368834496, 0.014336430467665195, 0.005178695544600487, -0.01849476806819439, 0.0007564562256447971, -0.04492107778787613, -0.021268239244818687, -0.004508867394179106, 0.05490512028336525, 0.0022747800685465336, -0.01767084002494812, -0.008625133894383907, -0.033115558326244354, -0.02521573007106781, -0.01488516852259636, -0.008335812017321587, -0.0066842492669820786, 0.012680519372224808, -0.010092927142977715, 0.012862811796367168, 0.030661121010780334, -0.018878575414419174, 0.06220502033829689, 0.00551237165927887, 0.022969292476773262, -0.012424270622432232, 0.020152423530817032, 0.0214252807199955, -0.025295892730355263, 0.01872851885855198, 0.05206579342484474, -0.05625251680612564, 0.024054720997810364, 5.352322318685765e-07, 0.04053674638271332, -0.023449504747986794, 0.019490450620651245, -0.017566513270139694, -0.041204556822776794, 0.021967358887195587, -0.034934062510728836, 0.03556150943040848, -0.013750145211815834, 0.055660903453826904, 0.025941161438822746, -0.031022924929857254, -0.032752662897109985, 0.009326229803264141, 0.021213168278336525, -0.02365192398428917, 0.03401646390557289, 0.014864416792988777, -0.01501147635281086, 0.007791948039084673, 0.006334992591291666, -0.013913577422499657, -0.025218963623046875, 0.06110268086194992, -0.021650072187185287, 0.008937060832977295, -0.06509660929441452, -0.03361627086997032, -0.03478787839412689, -0.006180532276630402, 0.03181663900613785, -0.03920983523130417, 0.025501802563667297, -0.01831763982772827, 0.008155248127877712, -0.025504326447844505, -0.03782440349459648, -0.006585831753909588, -0.006925330962985754, -0.022550422698259354, -0.008717339485883713, 0.026833707466721535, 0.038924895226955414, 0.0008922301349230111, -0.028636693954467773, 0.014708708971738815, 0.028332607820630074, 0.002702185185626149, -0.018925106152892113, 0.010801302269101143, 0.01365453377366066, 0.00809174682945013, -0.006462630350142717, 0.027570324018597603, 0.0001543916150694713, 0.012419674545526505, -0.026723681017756462, -0.049647074192762375, 0.008237875066697598, -0.0038375731091946363, -0.011184626258909702, 0.028012165799736977, 0.008089791983366013, -0.0425729975104332, 0.009168637916445732, -0.006333014462143183, -0.0002548354386817664, -0.0332811176776886, 0.061490315943956375, -0.020689669996500015, -0.005841921083629131, 0.0038318196311593056, 0.003295174101367593, 0.013678968884050846, -0.016242746263742447, -0.021119147539138794, 0.01108667440712452, -0.013125243596732616, 0.010481219738721848, -0.008192794397473335, -0.010939788073301315, 0.03317045047879219, -0.01247495785355568, -0.09033317863941193, -0.009856319054961205, 0.01166920829564333, 0.05831962823867798, 0.024063924327492714, -0.026041541248559952, 0.016077982261776924, 0.028048476204276085, 0.09003138542175293, -0.00046971882693469524, 0.0016332772793248296, -0.04910074546933174, 0.0016674501821398735, 0.007147548720240593, -0.004700483754277229, -0.005742167588323355, 0.054506558924913406, 0.027564752846956253, -0.01369737833738327, 0.046924855560064316, -0.009856191463768482, 0.006705710664391518, -0.018252331763505936, 0.01700606755912304, -0.019089343026280403, 0.012155932374298573, -0.03174678981304169, 0.025126835331320763, -0.007936856709420681, 0.019579611718654633, 0.016604911535978317, -0.041826002299785614, -0.037245552986860275, -0.03142205998301506, -0.056789007037878036, 0.010535052977502346, -0.031139012426137924, 0.049830012023448944, -0.01890219748020172, 0.04531102254986763, -0.005473736673593521, 0.005313531029969454, -0.000783574883826077, 0.050122104585170746, -0.034931425005197525, 0.05657406523823738, 0.01283299457281828, 0.041366610676050186, 0.0214864332228899, -0.06663811206817627, -0.009362749755382538, 0.007531837560236454, 0.02373463474214077, 0.02508939988911152, 0.008540879003703594, -0.03494696319103241, 0.047445181757211685, -0.011277512647211552, 0.02641066163778305, -0.036677222698926926, 0.011868000961840153, 0.006368919275701046, 0.006846181116998196, 0.00022094887390267104, 0.005140059161931276, 0.0029829801060259342, 0.018153922632336617, 0.002584467874839902, 0.005249322392046452, 0.005334512330591679, -0.012342551723122597, 0.002888565883040428, -0.027848057448863983, -0.0460021086037159, -0.04932643845677376, -0.009121901355683804, 0.025319747626781464, 0.04666473716497421, 0.06922820210456848, -0.010656971484422684, -0.01888386905193329, -0.010159911587834358, -0.01001525204628706, 0.08580666780471802, 0.06301968544721603, -0.0040442864410579205, 0.02972344122827053, -0.04660547524690628, -0.02046033926308155, 0.00349422381259501, 0.0036527537740767, 5.4841915698489174e-05, 0.04164649918675423, 0.01816735602915287, -0.032169513404369354, -0.0018514160765334964, 0.012525677680969238, 0.012265690602362156, -0.03671598061919212, 0.01080097071826458, 0.017936058342456818, 0.022144049406051636, -0.04372192919254303, 0.07078570127487183, -0.04749272018671036, 0.014235258102416992, -0.0014005164848640561, -0.0020785306114703417, 0.06391733139753342, -0.018479283899068832, -0.04375557228922844, 0.03306664153933525, -0.034251850098371506, -0.0008601167937740684, 0.003652873681858182, 0.03368740528821945, -0.020534878596663475, 0.03592602536082268, 0.010119191370904446, -0.013843327760696411, 0.015447663143277168, -0.03433794900774956, 0.022406378760933876, 0.04093615338206291, -0.03855639696121216, -0.04160645231604576, 0.0030774788465350866, -0.04730697721242905, -0.00237975362688303, 0.04570794478058815, 0.041284434497356415, 0.01864510029554367, -0.025131816044449806, -0.015178331173956394, -0.03334357589483261, -0.007390177343040705, -0.12208829075098038, 0.03831981495022774, -0.009751924313604832, 0.02343369647860527, -0.01706961914896965, -0.012609926052391529, -0.018658963963389397, -0.005752387922257185, 0.0075536128133535385, -0.0355038158595562, -0.04109247028827667, 0.020793292671442032, 0.009247060865163803, -0.018014317378401756, -0.060101669281721115, 0.013196627609431744, -0.003063577227294445, 0.0011390737490728498, 0.042740289121866226, 0.02564874105155468, 0.005602980498224497, -0.013494862243533134, -0.029866354539990425, 0.035839080810546875, 0.013928094878792763, 0.012280941940844059, -0.009697932749986649, 0.03625855967402458, -0.04589136317372322, -0.03456289321184158, 0.03349746763706207, 0.002736551919952035, 0.014916440472006798, -0.0121486596763134, 0.031075064092874527, 0.006918766535818577, -0.023543814197182655, -0.004623583052307367, -0.004994443617761135, -0.04153190925717354, 0.06418037414550781, 0.008951293304562569, -0.018197501078248024, -0.00573869189247489, -0.006823066156357527, -0.01485439483076334, -0.011795654892921448, 0.021747197955846786, -0.04867631569504738, -0.020410193130373955, 0.01353527419269085, -0.005466132890433073, 0.04891997203230858, 0.03540419414639473, 0.01223609410226345, 0.011156987398862839, -0.020583342760801315, 0.033497244119644165, 0.013606571592390537, 0.007738044019788504, -0.04103894159197807, -0.006643536034971476, -0.008478539995849133, -0.05637418478727341, 0.0032160261180251837, -0.02409466914832592, -0.055675022304058075, 0.0121341273188591, -0.026980262249708176, 0.04379453510046005, -0.01094930712133646, 0.008027062751352787, 0.04106063395738602, -0.04641610383987427, -0.006869674194604158, -0.005204247776418924, 0.025333547964692116, -0.0032910758163779974, -0.03619527816772461, -0.0366097055375576, -0.01764008030295372, -0.031102506443858147, -0.01197152677923441, -0.024681253358721733, -0.017815692350268364, 0.02545761689543724, -0.04256263002753258, 0.03655922785401344, -0.051439810544252396, -0.015480500645935535, -0.04707103595137596, -0.02454175241291523, -0.035392552614212036, -0.01804848574101925, -0.02458379790186882, -0.014716899022459984, 0.00762305548414588, -0.06611505895853043, -0.04111408814787865, 0.003959564957767725, -0.009842289611697197, -0.02745232917368412, 0.02702707052230835, -0.006782224401831627, -0.04256707429885864, 0.05059780180454254, 0.015478473156690598, -0.02510029450058937, -0.0021831628400832415, 0.006866103038191795, -0.055832330137491226, 0.015919813886284828, -0.016954034566879272, -0.005851407535374165, -0.005967859178781509, -0.011005053296685219, 0.052106961607933044, 0.057376667857170105, 0.02950068563222885, 0.005665231496095657, -0.007070082239806652, -0.0028946215752512217, 0.07701364904642105, -0.04471541568636894, 0.010315804742276669, 0.009685884229838848, 0.05057137832045555, 0.005421550944447517, -0.016008904203772545, -0.011043854989111423, 0.02657661959528923, -0.060021087527275085, 0.0562126450240612, -0.0028463909402489662, 0.005263583268970251, -0.04010005667805672, -0.00937570445239544, 0.03413945809006691, -0.00854294653981924, -0.03503035753965378, -0.017026904970407486, 0.014796217903494835, -0.06911967694759369, -0.029118197038769722, -0.04110976308584213, 0.007578403688967228, 0.0522371269762516, -0.016622819006443024, -0.011502799578011036, 0.016533248126506805, 0.004314180929213762, -0.004161186516284943, 0.011121188290417194, -0.0052748010493814945, -0.0021935084369033575, -0.0042790318839251995, 0.01112784631550312, -0.006898790597915649, 0.011109269224107265, 0.03867156431078911, 0.016900554299354553, -0.02072836086153984, -0.00849666353315115, 0.009820018894970417, -0.03550123795866966, -0.00907148513942957, 0.015267206355929375, -0.013773529790341854, 0.015124362893402576, 0.018389645963907242, -0.07122667878866196, 0.03411194682121277, -0.027103731408715248, 0.00803616177290678, 0.017497949302196503, -0.018168943002820015, 0.02783794514834881, -0.03860205039381981, 0.0018261594232171774, -0.014067420735955238, 0.015241446904838085, 0.010022449307143688, -0.011643403209745884, 0.05957411229610443, 0.05052423104643822, 0.07876338064670563, -0.0035090188030153513, 0.03384239226579666, -0.028264522552490234, 0.0014342673821374774, 0.04366085305809975, 0.01478184200823307, 0.0141261275857687, -0.034314461052417755, 0.05237950012087822, 0.05015350878238678, 0.013529673218727112, 0.03156733140349388, -0.005177229642868042, 0.0039163269102573395, 0.0316118560731411, -0.03612818196415901, -0.00743730366230011, 0.01312097068876028, -0.02942083217203617, -0.02243647910654545, -0.03963325172662735, -0.002692262874916196, 0.022268496453762054, 0.02612854167819023, -0.016117190942168236, -0.028585797175765038, -0.039779603481292725, 0.01583310030400753, 0.017018960788846016, -0.006090404465794563, -0.03949030116200447, -0.027754055336117744, 0.005077137146145105, 0.04868939891457558, -0.001982764806598425, 0.02908087521791458, -0.004301435314118862, 0.008102117106318474, -0.0009157605818472803, -0.029816478490829468, -0.015159296803176403, 0.002784191397950053, 0.042257022112607956, -0.0488920658826828, 0.015059282071888447, 0.0006341813132166862, 0.01396649144589901, -0.028897074982523918, -0.024191267788410187, 0.015041966922581196, 0.014725079759955406, 0.03214285895228386, 0.017906567081809044, 0.01756415143609047, -0.02008446492254734, 0.017964309081435204, -0.06092481687664986, 0.03852691501379013]}}, {'m': {'name': 'apricot', 'content_embedding': [0.012315867468714714, -0.003839888609945774, -0.004684080835431814, 0.007150780875235796, -0.024342762306332588, -0.08325625211000443, 0.002601977903395891, -0.029324796050786972, 0.018128402531147003, -0.005929437931627035, 0.01826561987400055, -0.008620139211416245, -0.021500013768672943, -0.009582139551639557, 0.06908523291349411, 0.020142406225204468, 0.017721915617585182, 0.030082564800977707, 0.02797769196331501, -0.036521121859550476, -0.05050840973854065, 0.0012211272260174155, -0.028526348993182182, 0.03865571692585945, -0.05573369935154915, 0.027721790596842766, 0.014439091086387634, -0.018125543370842934, -0.02897617779672146, -0.02168000489473343, 0.0012761366087943316, 0.026019569486379623, 0.010459251701831818, -0.04092472419142723, -0.006192730739712715, -0.012669011019170284, 0.0016973031451925635, -0.020222725346684456, -0.06313057988882065, 0.020007161423563957, 0.002109617693349719, -0.03744196519255638, -0.012898193672299385, -0.0017457056092098355, 0.02105104550719261, -0.039962831884622574, -0.008557465858757496, -0.04585658013820648, -0.009936160407960415, 0.004707975313067436, 0.009974493645131588, 0.01089616771787405, 0.03241867572069168, -0.02261495217680931, 0.03162233158946037, 0.04257097467780113, 0.036208946257829666, -0.014779174700379372, -0.1115100160241127, 0.0116152698174119, -0.019733132794499397, -0.045562706887722015, -0.03674347698688507, -0.007295406423509121, -0.0577801838517189, 0.09453209489583969, -0.00027076987316831946, -0.03292408213019371, 0.009298711083829403, -0.026829956099390984, -0.03787143528461456, 0.04652916640043259, -0.020220410078763962, -0.023930668830871582, -0.053581684827804565, -0.01983579806983471, 0.08581540733575821, 0.07141141593456268, 0.045204613357782364, -0.006693988107144833, 0.08963807672262192, -0.05132965371012688, 0.01514347456395626, 0.02709260769188404, 0.05588967353105545, 0.06383482366800308, -0.05004650726914406, 0.022215748205780983, -0.01148216426372528, 0.0330011285841465, -0.019268745556473732, -0.01619657129049301, 0.02465958520770073, -0.02541642263531685, -0.02494424767792225, -0.015554500743746758, -0.008764815516769886, 0.011935407295823097, 0.03270076587796211, 0.03654918074607849, -0.0024289428256452084, 0.01538902148604393, -0.021357323974370956, -0.06260248273611069, 0.03216177225112915, -0.004878980107605457, 0.02010723203420639, 0.040701571851968765, 0.037758760154247284, -0.014411593787372112, 0.037300366908311844, 0.021013708785176277, 0.005857618525624275, 0.0031473012641072273, -0.01514946948736906, 0.013934963382780552, -0.008016454055905342, 0.0031834410037845373, 0.029148736968636513, 0.01530037447810173, 0.00296145211905241, 0.04422684386372566, 0.01632949337363243, -0.010287025012075901, -0.03132139891386032, 0.024040549993515015, 0.05607928708195686, 0.010137870907783508, -0.036817509680986404, 0.027968602254986763, 0.06251941621303558, -0.03123217076063156, -0.07528051733970642, -0.008373475633561611, 0.012179412879049778, -0.053317274898290634, 0.004472865257412195, -0.02517016977071762, 0.04026222974061966, -0.04042236879467964, 0.03528501093387604, 0.01875619776546955, -0.024070626124739647, 0.008360372856259346, 0.02122800052165985, -0.007637758273631334, 0.021308930590748787, -0.007912707515060902, 0.03532436862587929, -0.04329529032111168, 0.03331634774804115, -0.01705438643693924, -0.03247635439038277, -0.0343589149415493, -0.010940770618617535, -0.06562132388353348, -0.020281527191400528, 0.006008489988744259, 0.022964784875512123, 0.022630179300904274, -0.020365580916404724, 0.03990062698721886, -0.019712332636117935, -0.04585352540016174, -0.019330894574522972, -0.02044936828315258, 0.08338100463151932, 0.006331467069685459, -0.026361623778939247, -0.001031880034133792, -0.005552444141358137, 0.01729278825223446, -0.04303734004497528, -0.009875177405774593, 0.0006328551680780947, -0.024910973384976387, 0.024206260219216347, -0.02382001467049122, -0.00484928535297513, -0.04497186467051506, -0.011746099218726158, 0.04595315456390381, -0.0008132625953294337, 0.06055259332060814, -0.018345650285482407, -0.018052082508802414, 0.005275791510939598, 0.03172680735588074, 0.013862394727766514, 0.03411899134516716, -0.04361679032444954, -0.004769677761942148, -0.005610746797174215, -0.006832208950072527, 0.042045991867780685, 0.01566828414797783, -0.024118226021528244, -0.027467206120491028, 0.018877895548939705, 0.01030482817441225, -0.030847376212477684, 0.01944059133529663, -0.01354273222386837, -0.025758467614650726, -0.024878202006220818, 0.024379102513194084, -0.038629211485385895, 0.0012944104382768273, 0.04331584274768829, -0.031456030905246735, -0.03374607488512993, -0.00027679355116561055, 0.04751047119498253, 0.03584517166018486, -0.018344776704907417, 0.0005991353536956012, -0.0010697593679651618, -0.014962619170546532, 0.020658068358898163, 0.03375641256570816, -0.017912540584802628, -0.005036633461713791, -0.0017411659937351942, 0.002280972432345152, 0.025475438684225082, 0.028373556211590767, -0.007083830889314413, 0.05703015252947807, -0.02508700266480446, -0.025294044986367226, -0.03406708315014839, 0.0050981356762349606, -0.02054183930158615, 0.005660968367010355, 0.012204496189951897, -0.016247058287262917, 0.018238632008433342, 0.012931449338793755, -0.04037691652774811, -0.0004924870445393026, 0.019093958660960197, -0.013001730665564537, 0.013222442008554935, 0.01582157239317894, 0.023922614753246307, -0.018007932230830193, -0.0420650914311409, 0.008796587586402893, 0.02150430902838707, -0.025188880041241646, 0.02009023353457451, 0.008682474493980408, -0.08663450181484222, 0.012037086300551891, 0.02124149166047573, 0.052671197801828384, 0.016372080892324448, 0.01375528983771801, 0.04462887719273567, 0.01400679536163807, -0.005484969355165958, 0.009960805997252464, 0.017218779772520065, 0.05548778548836708, -0.03785795345902443, 0.004527495242655277, 0.014421898871660233, 0.0014209782239049673, -0.02937139756977558, 0.027496298775076866, -0.016841718927025795, -0.041765980422496796, -0.009060227312147617, -0.04065120592713356, 0.013430386781692505, 0.015070111490786076, 0.005242899060249329, -0.04398907721042633, 0.05786335468292236, 0.009387350641191006, 0.005576527211815119, -0.041499122977256775, -0.0020428390707820654, -0.010558141395449638, -0.010402163490653038, 0.006241916213184595, -0.012954880483448505, 0.023643681779503822, -0.027433834969997406, 0.003166316309943795, 0.02162284590303898, -0.016201090067625046, 0.059060849249362946, 0.01174058485776186, -0.01905343309044838, 0.0005785917164757848, -0.023242728784680367, -0.17535215616226196, 0.029464419931173325, -0.00635240925475955, -0.03002217784523964, 0.03363341838121414, -0.004583247471600771, -0.0495031364262104, -0.028003739193081856, -0.008928685449063778, -0.02329505980014801, 0.0017295011784881353, -0.05596689507365227, -0.0074929301626980305, -0.02017948403954506, 0.003493088996037841, 0.008668726310133934, -0.03948358818888664, -0.021499959751963615, -0.04577655345201492, -0.009544460102915764, -0.018812773749232292, -0.05837021395564079, 0.01358109898865223, 0.018085969612002373, 0.022656744346022606, 0.021884404122829437, 0.04540174454450607, -0.022082239389419556, -0.020385297015309334, -0.01977194845676422, -0.01696348749101162, -0.021652158349752426, -0.009393694810569286, 0.02787631005048752, 0.015819236636161804, 0.015061699785292149, 0.0008652337128296494, -0.02600068785250187, 0.019859174266457558, -0.00871699396520853, 0.005493908654898405, 0.005740075837820768, 0.01439499482512474, 0.02126658707857132, -0.016847727820277214, -0.01230834424495697, -0.02748890034854412, 0.045282237231731415, -0.032956305891275406, 0.023734379559755325, -0.017133917659521103, 0.033246226608753204, 0.018381765112280846, -0.037987299263477325, -0.025493908673524857, -0.00778783205896616, 0.02173667401075363, 0.0185504462569952, -0.021473409608006477, 0.02114073373377323, -0.0014665955677628517, -0.056862592697143555, 0.02194063365459442, 0.034852299839258194, 0.036278534680604935, 0.015389559790492058, -0.005684736650437117, -0.004736337345093489, 0.0037023494951426983, 0.01073702797293663, 0.008792687207460403, 0.022735493257641792, 0.03395238518714905, -0.016040394082665443, 0.017671555280685425, 0.011331941932439804, 0.011832150630652905, -0.0014460367383435369, 0.010240525007247925, -0.11646635085344315, 0.006037704646587372, 0.004541889298707247, -0.007692267186939716, 0.00024308133288286626, -0.012706379406154156, -0.08252160996198654, 0.04747001454234123, 0.032284215092659, 0.037641119211912155, 0.27020561695098877, -0.026246100664138794, 0.028489964082837105, -0.041622843593358994, -0.0028277996461838484, -0.003359392052516341, -0.023301877081394196, -0.040020689368247986, 0.00806727446615696, -0.01683385856449604, 0.00010017809108830988, 0.019838130101561546, 0.03388185054063797, -0.00814937986433506, -0.03124072216451168, 0.03669305145740509, -0.01661733351647854, -0.014234783127903938, 0.044361766427755356, 0.007524868939071894, -0.00040551251731812954, -0.015139749273657799, -0.0026290679816156626, 0.004151739180088043, -0.03368425741791725, -0.010406821966171265, -0.010768156498670578, 0.066807821393013, 0.017115330323576927, 0.01766909286379814, -0.009758410975337029, 0.017776329070329666, 0.01910720206797123, 0.009427187032997608, -0.03237510845065117, 0.020361872389912605, -0.02798181213438511, 0.001065924996510148, -0.00598450331017375, 0.0010912183206528425, -0.00947641022503376, -0.044306762516498566, -0.04237009584903717, -0.00816816370934248, 0.019414661452174187, 0.0019158234354108572, 0.03589438274502754, -0.02234889194369316, 0.03158998489379883, -0.0011406950652599335, 0.014583726413547993, -0.03023216500878334, -0.033868737518787384, -0.020226124674081802, 0.0016302686417475343, -0.01180195715278387, -0.026754634454846382, 0.006086807698011398, -0.030228005722165108, 0.06802763044834137, 0.014235265552997589, 0.010938300751149654, -0.0057774679735302925, 0.008006985299289227, -0.016349973157048225, -0.018137672916054726, 0.05998978391289711, 0.001891442807391286, -0.027756517753005028, -0.009529062546789646, 0.023634223267436028, 0.03353152051568031, -0.020331256091594696, -0.042881086468696594, 0.003476720070466399, -0.03272662311792374, 0.0040924581699073315, 0.036286287009716034, -0.029337702319025993, 0.0305789764970541, -0.02255771867930889, -0.011298527009785175, -0.04107345640659332, 0.008456962183117867, 0.02152959257364273, -0.02565787173807621, -0.012467225082218647, -0.020022237673401833, 0.023419290781021118, -0.010274424217641354, 0.001601122785359621, -0.0027137205470353365, 0.006444838363677263, -0.010210725478827953, 0.0036902325227856636, -0.04222658649086952, 0.03760615736246109, -0.035859737545251846, 0.00539911724627018, 0.008889663964509964, -0.021099580451846123, 0.014475062489509583, -0.04312261939048767, -0.017290079966187477, 0.03498876839876175, -0.030720330774784088, 0.0036434554494917393, 0.010153270326554775, -0.0282142274081707, 0.0517343208193779, 0.0328422449529171, 0.0038075661286711693, -0.011080312542617321, -0.010932081378996372, 0.003701932029798627, -2.5106653993134387e-05, 0.03929455205798149, 0.007598184980452061, 0.03022066131234169, 0.013069754466414452, -0.005239204037934542, 0.006131465081125498, 0.03497842326760292, 0.0059747942723333836, -0.01374443992972374, -0.007290607318282127, -0.022934814915060997, 0.009810748510062695, -0.04639308527112007, 0.07480897009372711, -0.03160112351179123, -0.014250379055738449, -0.016815651208162308, 0.051679618656635284, 0.017824187874794006, -0.020184801891446114, -0.006971077527850866, 0.03468203544616699, 0.00023560901172459126, -0.013711810111999512, 0.013339294120669365, 0.04347984492778778, 0.021429404616355896, 0.034049324691295624, 0.004779079928994179, 0.005922995507717133, 0.02028796821832657, 0.02567889541387558, -0.030597029253840446, -0.052122198045253754, 0.03893284499645233, -0.0025757942348718643, -0.0009020782308652997, -0.05248050391674042, -0.022990208119153976, -0.04444287717342377, 0.013341398909687996, -0.03370999917387962, -0.008980059064924717, -0.015676500275731087, 0.019713059067726135, 0.03677838295698166, 0.07884621620178223, 0.07663875818252563, 0.009678426198661327, 0.03315361216664314, -0.026274412870407104, 0.05053422972559929, 0.014125690795481205, -0.036331962794065475, 0.023100191727280617, -0.015447492711246014, -0.03131011128425598, -0.007627858780324459, 0.003346956567838788, -0.0073838443495333195, 0.0020621130242943764, -0.0205834973603487, -0.035824526101350784, -0.026133917272090912, -0.007608107756823301, 0.004366524983197451, -0.0006886725313961506, 0.027420777827501297, 0.010401326231658459, 0.03893512487411499, -0.012973092496395111, -0.006144557148218155, 0.022033708170056343, -0.03274836763739586, 0.026999613270163536, 0.03729712963104248, -0.016408175230026245, -0.015300095081329346, -0.008956922218203545, -0.006809290498495102, -0.004876415245234966, 0.00836312398314476, 0.007971796207129955, -0.03671697527170181, -0.0006694634212180972, -0.020970867946743965, -0.006354054901748896, -0.0006692054448649287, 0.010331634432077408, -0.005659949500113726, -0.0823507234454155, -0.009425593540072441, -0.0022963581141084433, -0.0032957287039607763, 0.03278705105185509, 0.026608727872371674, 0.04705467075109482, -0.009155903942883015, -0.05104609951376915, 0.07077334821224213, 0.010503347031772137, 0.013747069053351879, -0.04480249434709549, -0.022052662447094917, -0.0015396636445075274, 0.01865983009338379, 0.02333977445960045, -0.0974699854850769, -0.028933096677064896, 0.014386775903403759, -0.008722622878849506, -0.016716791316866875, 0.014169879257678986, -0.0033897540997713804, 0.012832739390432835, 0.031160714104771614, -0.02542293630540371, 0.04621754586696625, 0.03424008935689926, -0.018444247543811798, -0.04897647723555565, 0.02431471273303032, 0.04153398051857948, 0.002758448012173176, 0.032254111021757126, 0.009430455975234509, 0.020604636520147324, 0.10000868141651154, 0.009701485745608807, -0.010268360376358032, 0.006694764830172062, 0.04639739915728569, 0.03574089705944061, 0.030216146260499954, -0.030387969687581062, -0.014226512983441353, 0.05075223743915558, 0.01742946356534958, -0.002817887347191572, 0.003311787499114871, 0.00765114976093173, -0.011010819114744663, -0.07173651456832886, 0.030339429154992104, 0.010640847496688366, 0.0750267282128334, -0.022157082334160805, 0.025270698592066765, 0.025762412697076797, -0.0015560660976916552, 0.038492508232593536, -0.023730548098683357, -0.014159525744616985, -0.03262098878622055, 0.0029627105686813593, 0.02531646564602852, 0.01092484686523676, 0.0171679500490427, 0.053379449993371964, -0.0028189083095639944, -0.022341465577483177, 0.04691798985004425, 0.05534797161817551, 0.04924440383911133, 0.00293182791210711, 0.03602372109889984, -0.005569065921008587, 0.048112839460372925, 0.007079227827489376, 0.037322916090488434, -0.01721225120127201, 0.037761442363262177, 0.0003204049717169255, -0.0015616039745509624, -0.04632560908794403, -0.02333199605345726, -0.02085418999195099, -0.006883274298161268, -0.019291318953037262, 0.054891906678676605, 0.004099369514733553, 0.02867608331143856, -0.0380234532058239, 0.027372922748327255, -0.02696157805621624, 0.01573270559310913, -0.025363678112626076, -0.020232437178492546, -0.01993989199399948, 0.02017117850482464, 0.0187054630368948, -0.07096037268638611, 0.009178857319056988, -0.028755351901054382, 0.023439882323145866, 0.007532038260251284, 0.007355383597314358, -0.014095368795096874, 0.02426803670823574, -0.01798723079264164, -0.03595738112926483, -0.026710575446486473, 0.016505347564816475, 0.017431296408176422, -0.008083865977823734, -0.023581774905323982, -0.022961121052503586, -0.011321572586894035, 0.01024585124105215, 0.04254170507192612, -0.06764145940542221, -0.01019233837723732, 0.002479061484336853, -0.030255969613790512, -0.01819639466702938, -0.0097329281270504, -0.02107015810906887, -0.046140775084495544, 0.03785610944032669, 0.03612489625811577, 0.04739657789468765, -0.037371329963207245, -0.015068483538925648, 0.0019682743586599827, -0.034300465136766434, 0.0461324118077755, 0.045507464557886124, -0.009092794731259346, -0.01695938967168331, 0.006977135315537453, 0.004604725167155266, -0.022289574146270752, 0.0504474900662899, 0.003495283890515566, 0.005680383648723364, 0.027072232216596603, -0.041391771286726, -0.060439907014369965, 0.04937049373984337, -0.015426739118993282, -0.03570559620857239, 0.0025970758870244026, -0.005107357632368803, -0.03000921756029129, -0.06610107421875, 0.026093726977705956, -0.0367862768471241, 0.02365267649292946, 0.02281966619193554, -0.004504031036049128, -0.018154891207814217, -0.041663702577352524, -0.03815680369734764, -0.03035721741616726, 0.0049493880942463875, -0.014706593938171864, 0.014083324931561947, 0.021120388060808182, -0.04399038106203079, 0.0011847754940390587, 0.028753165155649185, -0.008592228405177593, 0.06005609408020973, -0.05405109375715256, -0.041720785200595856, 0.0008640762534923851, -0.042358022183179855, -0.033776212483644485, 0.02886628732085228, -0.028362208977341652, -0.012273303233087063, 0.015510420314967632, 0.04065961763262749, 0.0384451299905777, -0.043888285756111145, -0.006343120709061623, 0.02184630185365677, -0.008784371428191662, -0.14884166419506073, 0.0224241241812706, -0.0015207509277388453, -0.007538919802755117, -0.03833094239234924, -0.014180961064994335, -0.012136534787714481, -0.024136627092957497, 0.00035477918572723866, 0.008596982806921005, 0.010496209375560284, -0.0029190676286816597, -0.05443611368536949, 0.0023273553233593702, -0.011856826022267342, 0.04849313944578171, 0.014515547081828117, 0.007636334281414747, 0.0430888906121254, 0.04865506663918495, -0.012420468963682652, -0.024051712825894356, 0.003411263693124056, -0.004989664535969496, 0.011190167628228664, 0.0018222309881821275, -0.012551464140415192, -0.030454114079475403, -0.0357326902449131, -0.02368081547319889, 0.0250437892973423, -0.030963363125920296, 0.02847045101225376, 0.03233795985579491, -0.0022068459074944258, 0.030434418469667435, 0.007552622351795435, 0.01718480885028839, -0.014982041902840137, -0.012338383123278618, 0.05673660710453987, 0.014588970690965652, -0.014266827143728733, -0.02086092345416546, 0.02198147401213646, -0.005746561102569103, 0.00674971891567111, 0.04233415424823761, -0.04193010553717613, -0.008573481813073158, 0.013422699645161629, -0.014629504643380642, 0.01927581988275051, 0.010100954212248325, 0.042483534663915634, 0.003345967037603259, -0.011613222770392895, 0.01770040951669216, 0.004465435165911913, 0.05384965240955353, -0.005272669717669487, 0.016386261209845543, -0.03210980072617531, -0.0825965404510498, -0.04506835341453552, -0.011043675243854523, -0.06209782883524895, -0.001472127391025424, 0.02552933618426323, -0.013876442797482014, 0.0055272323079407215, 0.0017948595341295004, 0.02132977917790413, 0.01226473692804575, -0.013361726887524128, 0.01808292418718338, 0.015582315623760223, -0.06761625409126282, 0.004469059407711029, -0.0029305568896234035, -0.01388897281140089, -0.009137528017163277, -0.0016179977683350444, -0.01902225986123085, -0.02557191252708435, 0.022554738447070122, -0.07020232081413269, 0.0029479924123734236, -0.05205492675304413, -0.02124869078397751, -0.06019594892859459, -0.018204545602202415, -0.016036642715334892, -0.007396853528916836, 0.016472185030579567, -0.017229098826646805, -0.01065403688699007, -0.012862524017691612, -0.018213845789432526, -0.0005481948028318584, -0.0018272707238793373, -0.03621984273195267, 0.052655674517154694, -0.014145778492093086, -0.018315976485610008, 0.048538245260715485, -0.02063215710222721, -0.034116048365831375, 0.016687795519828796, -0.013991156592965126, 0.010802704840898514, 0.0029025860130786896, -0.017361020669341087, 0.006454960908740759, 0.013759220018982887, -0.015640340745449066, 0.009401584044098854, 0.021998533979058266, -0.002144988626241684, 0.022058283910155296, 0.014044181443750858, 0.017538269981741905, -0.011462544091045856, -0.044025223702192307, 0.008639294654130936, -0.005452587269246578, 0.03255472704768181, 0.021753832697868347, -0.010035318322479725, 0.023131895810365677, 0.0672152191400528, -0.03189368173480034, 0.005669062025845051, -0.007219560444355011, -0.005900481715798378, 0.007348005194216967, -0.01439223624765873, 0.036131881177425385, -0.030835174024105072, -0.03677273914217949, -0.00913296639919281, 0.007210698910057545, -0.04387156665325165, -0.002158449962735176, -0.03868028521537781, -0.0012664304813370109, 0.015232041478157043, -0.012866956181824207, -0.00926232896745205, -0.0521547831594944, 0.031788475811481476, -0.009504878893494606, 0.014914782717823982, -0.02287575602531433, -0.03104500286281109, -0.01109082717448473, -0.02656502276659012, -0.02199474535882473, 0.04681630805134773, -0.0257346760481596, -0.0022412382531911135, -0.028140438720583916, 0.018414048478007317, 0.00869924295693636, -0.025815336033701897, -0.043077949434518814, 0.008100767619907856, -0.010618502274155617, -0.003155030310153961, 0.014668844640254974, -0.056822750717401505, 0.046680793166160583, -0.042631641030311584, 0.009015221148729324, 0.02604326605796814, -0.024218104779720306, 0.04628964141011238, 0.006742804776877165, -0.026935089379549026, -0.06100543960928917, 0.012789439409971237, -0.011087614111602306, 0.0019663525745272636, 0.05262508615851402, 0.011196725070476532, -0.00237951404415071, 0.006516479887068272, 0.017950650304555893, 0.019198695197701454, -0.014464524574577808, -0.00638935761526227, -0.04260702431201935, 0.05180925130844116, -0.029496151953935623, 0.0163790974766016, -0.00043304459541104734, -0.010680054314434528, 0.020772231742739677, 0.014850754290819168, 0.007939609698951244, -0.03566319867968559, 0.013486628420650959, 0.01880369521677494, -0.010496528819203377, -0.011689328588545322, 0.017495302483439445, -0.03694911673665047, -0.03944607079029083, -0.04967985302209854, 0.017309976741671562, -0.0247361958026886, -0.01670054905116558, 0.026006396859884262, -0.010953245684504509, 0.014896146953105927, -0.011927447281777859, 0.01647167280316353, 0.0018747532740235329, -0.026771007105708122, 0.07798204571008682, -0.01729438453912735, 0.015318268910050392, -0.031024059280753136, 0.008737613447010517, 0.04116266220808029, -0.01361957285553217, -0.021554451435804367, 0.04707955941557884, 0.01762133464217186, 0.03313393145799637, -0.031524911522865295, -0.026129623875021935, -0.014565765857696533, 0.02872462198138237, 0.033605001866817474, 0.01378091610968113, -0.0328662171959877, -0.004422257654368877, 0.006848206277936697, -0.018701443448662758, -0.026915879920125008, -0.002207899931818247, -0.05553683266043663, 0.03709353134036064]}}, {'m': {'name': 'apricot jam', 'content_embedding': [0.03410951420664787, -0.016566261649131775, 0.000705721031408757, 0.03353383392095566, -0.015861568972468376, -0.06480050086975098, 0.008635555393993855, -0.036020487546920776, -0.0028162761591374874, -0.009837213903665543, 0.012994601391255856, -0.018995363265275955, -0.04501853510737419, -0.006111950147897005, 0.05595224350690842, 0.009517929516732693, 0.011763278394937515, 0.03536864370107651, 0.0059311650693416595, -0.02743372693657875, -0.010828915052115917, 0.01234265323728323, -0.032460540533065796, 0.02165517583489418, -0.02300562523305416, 0.05088285356760025, -0.007174497004598379, -0.03252120316028595, 0.017825286835432053, -0.035026807337999344, 0.01992829144001007, 0.022807897999882698, 0.012543999589979649, -0.036058634519577026, -0.0245567224919796, 0.008111933246254921, 0.016221458092331886, -0.007604443933814764, -0.04847925901412964, 0.01601245440542698, -0.026913505047559738, -0.02772984839975834, -0.0064993686974048615, 0.00023810820130165666, 0.03942565619945526, -0.012014190666377544, 0.0013042566133663058, -0.02153993397951126, 0.01248753722757101, 0.014490121975541115, 0.007601199205964804, 0.019191568717360497, 0.03672574833035469, 0.0015305017586797476, 0.04990687966346741, 0.04931449145078659, 0.05504503846168518, -0.022212853655219078, -0.08241923898458481, -0.005124013405293226, 0.02131311036646366, -0.01104927808046341, -0.014448234811425209, -0.017387403175234795, -0.01899685524404049, 0.10840762406587601, -0.016957547515630722, -0.013158107176423073, -0.01699824072420597, -0.0049376217648386955, -0.06286737322807312, 0.055657751858234406, -0.03047078289091587, -0.022336801514029503, -0.026717210188508034, 0.01895047351717949, 0.04506716877222061, 0.044353943318128586, 0.04524592310190201, 0.004479484166949987, 0.09143228828907013, -0.035278040915727615, 0.015772204846143723, 0.030594371259212494, 0.02436315082013607, 0.06885208189487457, -0.019449053332209587, 0.043655481189489365, -0.009826352819800377, -0.014539728872478008, 0.007442007306963205, -0.0377696268260479, 0.030695557594299316, -0.03909258171916008, -0.03389033302664757, -0.017994921654462814, -0.01041630282998085, -0.01093929074704647, 0.05681492015719414, 0.028159039095044136, -0.023586956784129143, -0.027534086257219315, -0.03694608062505722, -0.032329011708498, 0.021987352520227432, -0.007069861050695181, 0.04374689981341362, 0.024761836975812912, 0.050292015075683594, -0.023823216557502747, 0.042410969734191895, 0.01460507046431303, 0.0035541614051908255, -0.0001643002760829404, -0.012284242548048496, 0.013158360496163368, -0.026683242991566658, -0.01450298074632883, 0.025858387351036072, 0.021899735555052757, -0.027964212000370026, 0.020465120673179626, -7.267713226610795e-05, -0.010261200368404388, 0.00850662961602211, 0.019927266985177994, 0.04481608793139458, 0.012711850926280022, -0.029856594279408455, -0.004259505309164524, 0.02594706602394581, -0.019864974543452263, -0.0715775191783905, -0.02032303623855114, -0.0033279149793088436, -0.04176691919565201, 0.0136021189391613, -0.01889048144221306, 0.023775393143296242, -0.024054016917943954, -0.0023560102563351393, 0.017547059804201126, -0.04217313975095749, -0.024673106148838997, 0.025362716987729073, 0.011844436638057232, 0.0033950400538742542, -0.011290027759969234, 0.028570473194122314, -0.06896878778934479, 0.019407890737056732, -0.004101516678929329, -0.01138992514461279, -0.045051999390125275, -0.05001397058367729, -0.03952612355351448, -0.018383797258138657, 0.029242120683193207, -0.0012562749907374382, 0.033508989959955215, -0.019614990800619125, 0.03564278036355972, -0.029036933556199074, -0.02437458373606205, -0.0026483472902327776, -0.021861761808395386, 0.08930180966854095, -0.006283013615757227, -0.01751234009861946, 0.006778236012905836, 0.01582995057106018, -0.003634892636910081, -0.03399579972028732, -0.0018639193149283528, 0.010113364085555077, -0.01600692979991436, -0.016317717730998993, -0.012501658871769905, -0.055051252245903015, -0.04031096771359444, -0.003973871469497681, 0.03964470699429512, -0.004734222311526537, 0.05368494242429733, -0.009974677115678787, -0.011969445273280144, -0.01390527468174696, 0.0669391006231308, 0.015375182963907719, 0.03384803980588913, -0.04898853227496147, -0.017386136576533318, 0.021275527775287628, 0.02359611541032791, 0.05831512436270714, -0.01958354376256466, -0.01276618242263794, -0.030321627855300903, 0.018182525411248207, 0.011229820549488068, -0.022981373593211174, 0.03010626882314682, -0.006658067926764488, 0.0054012867622077465, -0.02280554361641407, 0.010289997793734074, -0.028366724029183388, -0.024875793606042862, 0.025301659479737282, -0.025175044313073158, -0.0180410984903574, 0.0016907602548599243, 0.032578662037849426, 0.01657833904027939, -0.024309519678354263, 0.009733496233820915, 0.04661449417471886, 0.007571535184979439, 0.010255306027829647, 0.06453853845596313, -0.013646292500197887, 0.02176411636173725, 0.026358073577284813, -0.0016628800658509135, 0.022757774218916893, 0.017943650484085083, -0.01126833725720644, 0.06695292145013809, -0.004207557998597622, -0.02723819948732853, -0.06494256854057312, 0.009076986461877823, -0.03227657079696655, 0.002431006170809269, -0.0007651952910237014, 0.0036152773536741734, -0.02066277153789997, 0.01950015500187874, -0.022622523829340935, 0.006844189949333668, -0.010748657397925854, 0.009379880502820015, 0.013385769911110401, 0.032978080213069916, 0.0036820804234594107, -0.004959511570632458, -0.01961505599319935, 0.015763351693749428, 0.00692036421969533, -0.023255163803696632, 0.004994881339371204, 0.010960668325424194, -0.11387187242507935, 0.0006673452444374561, 0.01851148158311844, 0.050901200622320175, 0.019363990053534508, 0.01115338783711195, 0.07155991345643997, 0.03290748968720436, 0.01618802733719349, 0.006894868798553944, 0.03684302046895027, 0.04017364978790283, -0.03070475533604622, -0.018976708874106407, -0.003688482567667961, -0.036885522305965424, 0.003922730218619108, 0.023262618109583855, -0.04496477544307709, -0.037606094032526016, -0.014015008695423603, -0.044493962079286575, -0.02315220795571804, 0.044899165630340576, -0.008766809478402138, -0.02754075825214386, 0.022352492436766624, 0.030923791229724884, 0.014281471259891987, -0.023731449618935585, 0.010475880466401577, 0.01383399497717619, 0.004256851971149445, -0.01491709053516388, -0.025109788402915, 0.027025023475289345, -0.018742475658655167, 0.008763972669839859, 0.044198207557201385, -0.030620666220784187, 0.054371364414691925, -0.03927001729607582, 0.014470774680376053, 0.019074631854891777, -0.03148761764168739, -0.17891034483909607, 0.01516079343855381, -0.019168075174093246, -0.06225619837641716, 0.03554064780473709, -0.0026836327742785215, -0.04692426696419716, -0.014555838890373707, -0.01151552889496088, 0.013577389530837536, 0.04510211572051048, -0.060367412865161896, 0.0053709871135652065, -0.019776271656155586, -0.010108595713973045, 0.02402600273489952, -0.02757556363940239, -0.04385403171181679, -0.010779770091176033, -0.029274679720401764, -0.007534472271800041, -0.029350493103265762, 0.002316160360351205, -0.012760150246322155, 0.0038507983554154634, 0.008211708627641201, 0.010851370170712471, -0.01247789803892374, 0.011645263060927391, -0.027237750589847565, 0.016043396666646004, -0.031539030373096466, -0.016099371016025543, 0.03675027936697006, 0.026842735707759857, 0.017376774922013283, 0.007771857548505068, -0.056618835777044296, 0.008184627629816532, 0.007727423682808876, 0.02758616954088211, 0.01482228934764862, -0.03222629800438881, 0.03380008041858673, -0.004211026709526777, 0.00298662343993783, -0.03001907654106617, 0.04785727337002754, -0.020999450236558914, 0.050291724503040314, 0.0126247089356184, 0.01933770813047886, 0.04234553501009941, -0.042457204312086105, -0.033640265464782715, -0.013226454146206379, -0.03588392958045006, 0.01298942044377327, -0.012275141663849354, 0.0023953747004270554, -0.04710998013615608, -0.03219282627105713, 0.021266208961606026, 0.007773099932819605, 0.032490991055965424, -0.012477491050958633, -0.01153269037604332, -0.008055092766880989, 0.008732753805816174, -0.0046605984680354595, 0.048105333000421524, 0.02101673185825348, 0.0005491844494827092, -0.010099980048835278, 0.03145802021026611, 0.011680745519697666, 0.015775319188833237, -0.022314591333270073, 0.01445093099027872, -0.11825916171073914, -0.012280507944524288, -0.011064054444432259, 0.0222227293998003, 0.024020766839385033, -0.028612567111849785, -0.038842298090457916, 0.03059893660247326, 0.04219084605574608, 0.017265256494283676, 0.2547133266925812, -0.030919663608074188, 0.02270248718559742, -0.047994375228881836, 0.03696179389953613, -0.02933327853679657, 0.0017066049622371793, -0.0491466261446476, 0.004433660767972469, -0.016551658511161804, -0.03556736558675766, 0.006490139290690422, 0.02270558662712574, -0.02971247397363186, -0.0440865233540535, 0.06482603400945663, -0.020131217315793037, -0.01237653847783804, 0.04118882492184639, -0.010802562348544598, 0.022172287106513977, -0.023604385554790497, -0.030633529648184776, -0.017715994268655777, 0.001956764841452241, -0.01816719025373459, 0.0017053914489224553, 0.06807955354452133, 0.0213369969278574, -0.004509247839450836, -0.003652645042166114, 0.006453413050621748, 0.03960069268941879, -0.00017703871708363295, -0.025442641228437424, 0.027078796178102493, -0.02567979134619236, -0.027835959568619728, 0.002544168382883072, 0.018242008984088898, 0.01225803792476654, -0.035641610622406006, -0.0038071994204074144, -0.003958560060709715, 0.01648855209350586, -0.022000685334205627, 0.018321402370929718, -0.030825695022940636, 0.009404693730175495, 0.009476222097873688, 0.02001790516078472, -0.009437320753932, 0.0022593822795897722, -0.024983767420053482, 0.005524673033505678, -0.011975199915468693, -0.0174082163721323, -0.015623421408236027, -0.022023580968379974, 0.05428008362650871, -0.010968671180307865, 0.004780668765306473, -0.0008956497185863554, 0.021596316248178482, -0.02641165442764759, 0.010470965877175331, 0.038692593574523926, -0.004076788667589426, -0.02352800965309143, -0.007538516074419022, 0.012086955830454826, 0.02452673390507698, 0.01889258809387684, -0.02942783571779728, -0.00014696642756462097, -0.009276284836232662, -0.03009137138724327, 0.05084247514605522, 0.0017050018068403006, 0.007526992820203304, -0.012835212051868439, 0.021093344315886497, -0.028350569307804108, -0.008702075108885765, 0.028191758319735527, 0.0016229716129601002, 0.011889002285897732, -0.024076204746961594, 0.01237910520285368, 0.0016260057454928756, 0.0039921412244439125, -0.02339036948978901, -0.023942261934280396, -0.003556743962690234, 0.01500921230763197, -0.03966670110821724, 0.038719817996025085, -0.045682791620492935, -0.008403669111430645, 0.03431432694196701, -0.026778986677527428, -0.014569184742867947, -0.024455899372696877, -0.022355057299137115, 0.037791647017002106, 0.013401477597653866, 0.02044391818344593, -0.005704978480935097, -0.01714254729449749, 0.024762490764260292, -0.010267884470522404, 0.014927849173545837, -0.01888592541217804, -0.02217557653784752, 0.0003232884337194264, 0.00781855545938015, 0.009596848860383034, 0.041360221803188324, 0.035337015986442566, 0.010388027876615524, 0.006996659561991692, 0.02742719277739525, 0.016348687931895256, 0.01245964877307415, 0.03548309952020645, -0.009679390117526054, -0.006844258867204189, -0.02326647751033306, -0.04631524533033371, 0.08726239949464798, -0.0218601543456316, -0.013381718657910824, 0.0059554376639425755, 0.044328849762678146, 0.0037998321931809187, -0.009890851564705372, 0.04188184812664986, 0.04401717334985733, 0.01247419323772192, -0.0022537813056260347, 0.0111677385866642, 0.04457460716366768, 0.034617479890584946, 0.02602127008140087, 0.007787266746163368, 0.004786010831594467, 0.014973368495702744, -0.0011684196069836617, -0.014262338168919086, -0.026558753103017807, 0.04893007129430771, 0.04009269177913666, -0.028376379981637, -0.05382320657372475, -0.04089238867163658, -0.06420114636421204, 5.5566761147929356e-05, -0.041812196373939514, 0.006195592228323221, -0.010279146954417229, 0.02605820819735527, -0.005260931793600321, 0.059255536645650864, 0.04704154655337334, 0.018629619851708412, 0.038798738270998, -0.010525946505367756, 0.07015077024698257, 0.005850937217473984, -0.03976775333285332, 0.020211754366755486, -0.01191521342843771, -0.009207498282194138, -0.003536732168868184, -0.014315654523670673, -0.020450789481401443, -0.015823841094970703, 0.011924050748348236, -0.004525308031588793, -0.03732695057988167, 0.024383563548326492, 0.01801709644496441, 0.01709565706551075, 0.04838564619421959, 0.02076946385204792, 0.05211716517806053, -0.02339133620262146, -0.02227306365966797, 0.026237405836582184, -0.028006626293063164, -0.010294308885931969, 0.04605647176504135, -0.02341829426586628, -0.01632109098136425, 0.0016322851879522204, -0.024572664871811867, 0.0211030300706625, 0.013386823236942291, 0.004224756266921759, -0.034713372588157654, -0.0005163652822375298, -0.009179851040244102, -0.014422794803977013, -0.017323225736618042, 0.013909912668168545, -0.007610348053276539, -0.06936484575271606, -0.01300697959959507, -0.004959049168974161, 0.0013326032785698771, 0.03839968889951706, 0.03140624612569809, 0.046754706650972366, -0.025133667513728142, -0.012938389554619789, 0.010296083055436611, 0.037622589617967606, 0.019896049052476883, -0.015093461610376835, -0.004708960186690092, 0.013657310046255589, 0.01145446952432394, 0.028076518326997757, -0.07053964585065842, -0.007420319132506847, 0.05656856298446655, -0.03389197960495949, -0.01621191017329693, 0.012574090622365475, 0.002957188291475177, 0.004956258460879326, 0.043760690838098526, -0.004252084065228701, 0.03411849960684776, 0.013584847562015057, -0.011996695771813393, -0.009424792602658272, 0.015682782977819443, 0.023069126531481743, -0.006088297348469496, 0.006618580315262079, -0.032885581254959106, -0.016929488629102707, 0.08697374165058136, -0.001792663591913879, 0.016716768965125084, 0.0012864959426224232, 0.0855778306722641, 0.06056251376867294, 0.0162674468010664, 0.020740147680044174, 0.005692764651030302, 0.036221761256456375, -0.008410941809415817, 0.009221915155649185, 0.0198284350335598, 0.011635597795248032, -0.011139829643070698, -0.0644446611404419, 0.008272252045571804, -0.019358336925506592, 0.052267007529735565, -0.0262016449123621, 0.0013606743887066841, -0.0014748816611245275, -0.01470034196972847, 0.04511154815554619, -0.0017505157738924026, -0.02620118297636509, -0.01234054658561945, -0.02810753509402275, 0.010499328374862671, -0.014837290160357952, -0.02321472577750683, 0.05776115134358406, 0.008135464042425156, -0.03868234530091286, 0.07862239331007004, 0.029671350494027138, 0.046531207859516144, 0.018941596150398254, 0.049698613584041595, 0.012308805249631405, 0.04034876450896263, -0.001820806530304253, 0.01390237919986248, -0.028518471866846085, 0.05274002626538277, -0.01876116544008255, -0.002930186688899994, -0.062063783407211304, -0.019622012972831726, -0.024067532271146774, 0.01410587877035141, -0.0603385865688324, 0.027117926627397537, -0.00409975228831172, 0.013385089114308357, -0.0261237770318985, 0.03659457340836525, -0.022324062883853912, 0.01200807187706232, -0.0010229639010503888, -0.024359025061130524, -0.03176656365394592, 0.02675250545144081, 0.033395104110240936, -0.07908248901367188, 0.0060686455108225346, -0.01927313581109047, 0.04015738517045975, 0.014685745351016521, 0.0003569214604794979, 0.007391316816210747, 0.03241640701889992, -0.030631519854068756, -0.04007619619369507, -0.03574349358677864, 0.032753124833106995, 0.017701098695397377, -0.02190396375954151, -0.007479517720639706, -0.04711829498410225, -0.027623366564512253, 0.021134132519364357, 0.04165000095963478, -0.0671086236834526, -0.027384920045733452, 0.006308124400675297, -0.03426089882850647, -0.02246488630771637, -0.0030072578229010105, -0.021320004016160965, -0.055313583463430405, 0.032733164727687836, 0.002049380913376808, 0.04511900618672371, -0.028509844094514847, 0.012393075041472912, -0.027038758620619774, -0.04160366579890251, 0.06553497910499573, 0.04384492710232735, -0.0342724546790123, -0.013498283922672272, 0.029296571388840675, 0.03084697760641575, -0.030348805710673332, 0.02858835645020008, -0.0314893014729023, 0.03230775520205498, 0.06182083114981651, -0.043211836367845535, -0.043132372200489044, 0.043656498193740845, -0.03021055832505226, -0.03992341831326485, 0.018961744382977486, 0.022130277007818222, -0.01465632300823927, -0.034915491938591, 0.020324278622865677, -0.026470819488167763, 0.013728603720664978, 0.016474148258566856, -0.0063285198993980885, -0.020903533324599266, -0.01647312380373478, -0.042279865592718124, -0.022878378629684448, -0.0017039728118106723, 0.0012261061929166317, 0.014976990409195423, 0.041750840842723846, -0.02584639936685562, 0.018832001835107803, 0.03635922446846962, -0.010634919628500938, 0.018915461376309395, -0.03842778131365776, -0.044855210930109024, -0.03172607719898224, -0.028519650921225548, -0.021628934890031815, 0.0016797203570604324, -0.032509829849004745, -0.03250396251678467, -0.018267879262566566, 0.034146081656217575, 0.02673179656267166, -0.05018152296543121, 0.009531354531645775, 0.006924045737832785, 0.013628006912767887, -0.13424332439899445, 0.012846940197050571, -0.008043031208217144, 0.014495855197310448, -0.008929695002734661, 0.005046412348747253, -0.022971294820308685, -0.053747691214084625, 0.009871569462120533, -0.004959335085004568, 0.04964878037571907, -0.005208417307585478, -0.037107713520526886, 0.005417287815362215, -0.02659671939909458, 0.012734787538647652, 0.02286686562001705, -0.00801862496882677, 0.039510369300842285, 0.008520134724676609, -0.007347262464463711, -0.004940343089401722, -0.010282088071107864, 0.014886920340359211, -0.033880699425935745, 0.02296193316578865, -0.0033418673556298018, -0.011234300211071968, -0.02436916157603264, 0.02737683802843094, 0.0020973130594938993, -0.01916094683110714, 0.017629608511924744, 0.043082691729068756, 0.018178757280111313, 0.042463093996047974, -0.010081440210342407, 0.02716968208551407, -0.012667587026953697, -0.019770819693803787, 0.03435622528195381, 0.027228372171521187, -0.03981785848736763, -0.039025940001010895, -0.003065026132389903, -0.018074071034789085, -0.007160733919590712, 0.04908790811896324, -0.05273083597421646, -0.0008487869636155665, 0.02197716198861599, 0.006906906608492136, -0.0013904193183407187, -0.014661828987300396, 0.024287354201078415, 0.0006949685048311949, -0.015636693686246872, -0.014583408832550049, 0.003628943581134081, 0.06201069802045822, 0.011861800216138363, 0.0319339893758297, -0.03950208052992821, -0.07321323454380035, -0.0314575619995594, -0.007384780794382095, -0.06041092425584793, -0.020269149914383888, 0.037632837891578674, -0.0021072698291391134, -0.01484642457216978, 0.007137843873351812, 0.03538452833890915, -0.008386526256799698, -0.009052653796970844, 0.0008274184656329453, 0.012342851608991623, -0.03301858529448509, 0.005412828177213669, -0.019477684050798416, -0.010346058756113052, 0.0065056816674768925, -0.0018310651648789644, -0.050498589873313904, -0.029971318319439888, 0.02533102221786976, -0.0641854926943779, 0.001411832170560956, -0.07721903920173645, -0.011712716892361641, -0.05988720431923866, -0.018770290538668633, 0.008923077955842018, -0.008094304241240025, 0.0032162517309188843, -0.0033286339603364468, -0.012013609521090984, -0.019425224512815475, -0.019382406026124954, 0.014896413311362267, -0.026537777855992317, -0.032819803804159164, 0.06585077196359634, -0.040217358618974686, -0.020361153408885002, 0.02795099839568138, -0.024237055331468582, -0.05713944882154465, 0.013028454035520554, 0.026844358071684837, -0.01821233332157135, -0.00029911487945355475, -0.025729194283485413, -0.024800822138786316, -0.03050869330763817, -0.010404625907540321, 0.023946302011609077, 0.02796420454978943, -0.03104604221880436, 0.0057838656939566135, -0.012884837575256824, -0.014142937026917934, -0.011672078631818295, -0.037492092698812485, 0.0060316212475299835, -0.011992020532488823, 0.03053084947168827, 0.032973986119031906, 0.008049278520047665, 0.03132997453212738, 0.03602324798703194, -0.030916711315512657, -0.0007707003387622535, 0.029564756900072098, -0.0022541950456798077, -0.004156891722232103, -0.05111967399716377, 0.04692767933011055, -0.04234333336353302, -0.03034317120909691, -0.02103373222053051, 0.030976969748735428, -0.0288224034011364, -0.00033789133885875344, -0.036706600338220596, -0.010023150593042374, 0.027734028175473213, -0.047150276601314545, -0.045893773436546326, -0.06378090381622314, 0.01971065066754818, -0.0047798240557312965, 0.017508402466773987, -0.04202474281191826, 0.002163052326068282, -0.014878234826028347, -0.0045793307945132256, 0.004614020697772503, 0.04781230911612511, 0.0023547185119241476, 0.0008099884144030511, -0.025044279173016548, 0.027707314118742943, 0.016786711290478706, -0.008530125953257084, -0.015349851921200752, -0.0011680038878694177, -0.021880241110920906, -0.02006455883383751, 0.012921405956149101, -0.022433502599596977, 0.021939802914857864, -0.027296749874949455, -0.008051359094679356, 0.004260019399225712, -0.0334763303399086, 0.004209406673908234, -0.035211723297834396, -0.043314531445503235, -0.013914680108428001, 0.0066458904184401035, -0.015580900013446808, 0.027151381596922874, 0.04173531383275986, 0.0411982499063015, -0.020906444638967514, 0.019527068361639977, 0.002680843695998192, -0.0033914120867848396, -0.011356282979249954, -0.04051590710878372, -0.03434431552886963, 0.05386169254779816, -0.019589992240071297, -0.002734149107709527, -0.01913747563958168, -0.009414231404662132, 0.024364285171031952, 0.007571681868284941, 0.0054462202824652195, -0.04529748857021332, 0.005161060020327568, -0.007705251686275005, -0.021170785650610924, -0.030290480703115463, 0.03416546434164047, -0.019703175872564316, -0.03049512207508087, -0.060172129422426224, 0.02990436740219593, -0.04177999496459961, 0.02346719801425934, -0.0046271816827356815, 0.007993091829121113, 0.0127648850902915, 0.0061088744550943375, -0.011246983893215656, 0.023774730041623116, -0.025910023599863052, 0.049642883241176605, -0.054711394011974335, -0.019982673227787018, -0.01208959985524416, 0.01958375796675682, 0.03535131365060806, -0.012071910314261913, -0.054477956146001816, 0.05706249922513962, -0.0028783713933080435, 0.03475666791200638, -0.046542614698410034, -0.04568671062588692, -0.02645425871014595, 0.05557260289788246, 0.016441093757748604, 0.013511103577911854, 0.0159760769456625, 0.0022627718281000853, 0.0363866463303566, -0.02351212501525879, -0.044078074395656586, 0.0008765001548454165, -0.05638335272669792, 0.055992044508457184]}}, {'m': {'name': 'peach tea', 'content_embedding': [-0.015225676819682121, -0.0036919929552823305, -0.041900310665369034, -0.008475147187709808, 0.004125638399273157, -0.014410153962671757, 0.029360616579651833, -0.013273360207676888, 0.006140982266515493, 0.009057552553713322, 0.00012061672168783844, -0.021965499967336655, -0.006735291797667742, -0.01562875509262085, 0.026075558736920357, -0.049281373620033264, -0.03636014088988304, 0.007669308688491583, 0.01526185404509306, -0.02868916466832161, 0.024480625987052917, -0.0015538414008915424, -0.016526952385902405, 0.00691275205463171, 0.0196202602237463, 0.03129659220576286, -0.03095364011824131, -0.02371964417397976, -0.0035705261398106813, 4.852926213061437e-05, 0.030882837250828743, -0.004546050447970629, 0.02139454521238804, -0.06782851368188858, -0.02843860536813736, -0.03297041729092598, 0.01119781844317913, -0.050581615418195724, -0.03754846006631851, -0.0015885046450421214, 0.03128805011510849, -0.005060172639787197, -0.011821907013654709, 0.0008288801182061434, -0.02247227542102337, -0.0437161959707737, 0.01969803124666214, 0.003251927439123392, 0.008732830174267292, -0.010789290070533752, -0.004602992441505194, 0.003619040595367551, 0.06774257868528366, -0.006244380958378315, -0.006792633328586817, 0.016069982200860977, 0.006591626908630133, 0.014840163290500641, -0.08903579413890839, -0.008199254050850868, -0.05917034298181534, -0.009809036739170551, 0.031177543103694916, -0.008759832940995693, -0.006491182371973991, 0.10832131654024124, -0.020926376804709435, 0.009363998658955097, 0.013514429330825806, -0.019230060279369354, -0.0035847334656864405, 0.034204114228487015, -0.013676133006811142, -0.029392465949058533, -0.06544920057058334, 0.05685340613126755, 0.013492364436388016, 0.025376509875059128, 0.026220619678497314, -0.008076504804193974, 0.0754246786236763, 0.005276761949062347, -0.0024749492295086384, 0.024606570601463318, -0.022854814305901527, 0.013093553483486176, -0.03587939217686653, 0.05311429873108864, 0.016180746257305145, -0.016095489263534546, -0.0018585012294352055, -0.042640410363674164, 0.012990579940378666, -0.09822976589202881, -0.030381375923752785, -0.019647523760795593, -0.01904340088367462, 0.0029930449090898037, 0.048428602516651154, 0.010209653526544571, 0.01374930888414383, 0.00807925220578909, -0.08314554393291473, -0.029295295476913452, 0.08317630738019943, -0.018834885209798813, 0.037737831473350525, 0.01991802267730236, 0.0278315469622612, 0.0201229490339756, 0.05544346198439598, -0.033943578600883484, -0.02327851392328739, 0.051979221403598785, 0.0015524858608841896, 0.022684363648295403, 0.015985282137989998, -0.013576382771134377, 0.029950430616736412, -0.011210871860384941, -0.017595907673239708, 0.031175969168543816, 0.0036965261679142714, -0.015316209755837917, -0.002505803480744362, 0.0006591861601918936, -0.0017269211821258068, -0.008039997890591621, 0.00801937934011221, 0.011706965044140816, -0.006293382029980421, -0.01615958660840988, -0.04134971648454666, -0.03306560963392258, 0.024030379951000214, -0.007854010909795761, -0.029187681153416634, -0.052406080067157745, -0.03487370163202286, -0.029749002307653427, 0.01822991482913494, 0.047940317541360855, 0.002119340468198061, -0.05292055010795593, 0.012986641377210617, -0.08182200789451599, 0.03134306147694588, -0.03007327951490879, -0.02212747186422348, 0.0032566245645284653, 0.042297251522541046, -0.00040126655949279666, 0.03685709834098816, 0.039430078119039536, 0.009099903516471386, -0.019977306947112083, 0.03962392359972, 0.061353422701358795, 0.013663294725120068, -0.025766856968402863, -0.009040972217917442, 0.0056278943084180355, 0.023714009672403336, -0.014402193948626518, 0.02303124964237213, -0.02607566863298416, 0.011627841740846634, 0.0005143707385286689, -0.0230808574706316, 0.012603644281625748, -0.010078523308038712, -0.002416442846879363, -0.038257431238889694, 0.0010656635276973248, 0.05017474666237831, -0.009004510007798672, 1.0899772860284429e-05, -0.009771564975380898, -0.018143557012081146, -0.011686863377690315, -0.007820037193596363, -0.0011929948814213276, -0.012861640192568302, -0.04786034673452377, -0.021612873300909996, -0.014901927672326565, 0.026845021173357964, 0.033235952258110046, 0.0030396594665944576, 0.04072686284780502, -0.03286712244153023, -0.0010049475822597742, 0.0028612916357815266, 0.018902523443102837, 0.02794402465224266, -0.025216246023774147, -0.0673074945807457, -0.046414561569690704, 0.012930317781865597, -0.021827414631843567, -0.011853324249386787, 0.050832320004701614, -0.01061889436095953, 0.0029325613286346197, 0.02891201712191105, 0.01305061299353838, -0.0066013336181640625, -0.012497936375439167, 0.021271398290991783, 0.0021969741210341454, 0.03387019783258438, -0.03998815640807152, 0.0029985238797962666, 0.012003691866993904, -0.01731862686574459, 0.036759406328201294, 0.03607193008065224, 0.009221723303198814, 0.030912837013602257, 0.017807824537158012, 0.025020593777298927, 0.0019243989372625947, 0.009767098352313042, 0.0247606560587883, 0.052755650132894516, 0.005725982133299112, 0.03404317423701286, 0.05768265575170517, -0.05034501105546951, -0.031674567610025406, -0.006796219851821661, 0.04507950693368912, -0.014484276995062828, -0.001640046015381813, -0.004280113149434328, 0.04683414474129677, 0.023074187338352203, 0.010137566365301609, 0.0319862887263298, 0.0006667716661468148, 0.026964396238327026, 0.00201153801754117, 0.017725327983498573, 0.04104368016123772, 0.007897526025772095, -0.024888858199119568, 0.04306406527757645, 0.029315117746591568, 0.015725329518318176, 0.018475711345672607, 0.03689899668097496, -0.0071145216934382915, -0.042140521109104156, -0.006501202471554279, -0.0034541324712336063, 0.005899668205529451, 0.04040994122624397, -0.0020599551498889923, 0.02337205410003662, 0.010092145763337612, 0.041603412479162216, -0.007524565327912569, 0.01609204150736332, 0.02222934179008007, -0.042466964572668076, -0.014602710492908955, -0.040692538022994995, 0.022620461881160736, 0.019530555233359337, 0.0238936860114336, -0.03244882449507713, 0.005101082846522331, -0.016915781423449516, -0.009646611288189888, -0.06469974666833878, 0.02065550722181797, -0.017686694860458374, -0.006927568931132555, 0.005658543668687344, 0.0038374848663806915, 0.020853469148278236, -0.03901757299900055, 0.013058005832135677, -0.013197614811360836, -0.011383364908397198, 0.012392323464155197, -0.0006378169637173414, -0.0034343928564339876, -0.052649859338998795, -0.015442613512277603, -0.03503105789422989, 0.018749047070741653, 0.06126825511455536, 0.017152830958366394, -0.01068007294088602, 0.031822189688682556, -0.00998728722333908, -0.13323025405406952, -0.02985544316470623, -0.026069749146699905, 0.005028647370636463, 0.03385237976908684, -0.00612111110240221, -0.0846080332994461, 0.007889832369983196, -0.03184223547577858, -0.014087713323533535, 0.014866852201521397, -0.04904370754957199, -0.03859568387269974, -0.0019069320987910032, -0.015152481384575367, 0.0039380560629069805, -0.024991894140839577, -0.02010384574532509, 0.023149747401475906, -0.06618422269821167, 0.003302641212940216, -0.0038768171798437834, 0.08528394252061844, -0.009421912021934986, -0.00908126961439848, 0.009765208698809147, 0.02704307995736599, -0.052019670605659485, -0.03818217292428017, -0.04285401850938797, 0.008913069032132626, -0.013321726582944393, 0.0056319753639400005, 0.03871040791273117, 0.016308441758155823, -0.010374730452895164, 0.028508229181170464, -0.018606478348374367, 0.013824720866978168, 0.0025151714216917753, -0.00639331853017211, 0.03417143598198891, -0.03642428293824196, -0.009137620218098164, 0.008853756822645664, 0.018358081579208374, -0.01465727761387825, 0.04635709151625633, -0.03180119767785072, 0.003909014165401459, 0.03335846588015556, 0.001093178754672408, -0.0060949428007006645, -0.008394474163651466, -0.025923140347003937, -0.009035222232341766, -0.0039639463648200035, 0.018161829560995102, -0.007550838869065046, -0.013253399170935154, -0.015919458121061325, 0.0033585000783205032, 0.02539839781820774, 0.02014346420764923, 0.014151055365800858, 0.01708638295531273, -0.01544192899018526, 0.008612231351435184, -0.0013683756114915013, -0.03731289133429527, 0.02083834633231163, 0.008445280604064465, -0.01610681228339672, -0.040393583476543427, -0.0006173254805617034, 0.030404413118958473, 0.006274858023971319, -0.0036659135948866606, -0.005173131357878447, -0.13457489013671875, -0.0014670878881588578, 0.006191063206642866, 0.001547686173580587, -0.004745530430227518, -0.013031946495175362, -0.05642309784889221, 0.0007034236332401633, 0.0006709924782626331, 0.03203063830733299, 0.2569921314716339, 0.029913267120718956, 0.012532198801636696, -0.014591108076274395, 0.005828243214637041, 0.007252234499901533, -0.0442996509373188, -0.015385028906166553, -0.02214908041059971, -0.012003950774669647, -0.02244955115020275, 0.001093512517400086, 0.023563457652926445, -0.022446542978286743, -0.03137344866991043, 0.038825616240501404, -0.008187786675989628, -0.03497711569070816, 0.039309628307819366, -0.00487104058265686, -0.03882044926285744, 0.007163100875914097, -0.007690636441111565, -0.006941486150026321, -0.027037518098950386, -0.018313731998205185, 0.016975300386548042, 0.060515329241752625, 0.006983407773077488, 0.03570425882935524, 0.0034826009068638086, -0.009192116558551788, 0.022747443988919258, 0.026288194581866264, 0.011461695656180382, -0.030300844460725784, -0.011511275544762611, -0.03417696803808212, 0.0012044188333675265, -0.017298690974712372, 0.010178501717746258, -0.034760504961013794, 0.029509395360946655, -0.014333827421069145, -0.01663847826421261, -0.05222056806087494, -0.03469965606927872, -0.02007107250392437, -0.044074058532714844, -0.020519860088825226, 0.011157221160829067, 0.014583995565772057, -0.012080810964107513, 0.006746313534677029, 0.027600547298789024, -0.03887011110782623, -0.047485191375017166, -0.038234926760196686, 0.026452813297510147, 0.03444803133606911, -0.017668982967734337, 0.014347433112561703, -0.04174588993191719, 0.0032127590384334326, -0.01359565369784832, 0.049733176827430725, -0.0031068329699337482, 0.025422576814889908, -0.06016454100608826, 0.012854357250034809, 0.010039967484772205, -0.002209510887041688, -0.030682094395160675, -0.021530717611312866, 0.04318350926041603, -0.001455252175219357, -0.02441834844648838, 0.057428933680057526, 0.021049078553915024, 0.06982272118330002, -0.001988509437069297, -0.035873595625162125, -0.03995360806584358, -0.022330278530716896, -0.007171908859163523, 0.027963677421212196, 0.05785959213972092, -0.03009415976703167, -0.016768692061305046, -0.02669397182762623, -0.004405077546834946, 0.03989536687731743, -0.017573021352291107, 0.0241091288626194, -0.00772889144718647, -0.04611831158399582, 0.04557659104466438, 0.0029610521160066128, 0.005250857211649418, -0.013866848312318325, -0.03319260850548744, -0.0004310630611144006, 0.015539144165813923, -0.01702340692281723, 0.08264723420143127, 0.005301597062498331, -0.013413751497864723, -0.023939069360494614, -0.05814892053604126, 0.02357744611799717, 0.007746176794171333, -0.001141838263720274, 0.030971037223935127, -0.010206189937889576, 0.010308001190423965, 0.00631844624876976, 0.0055500720627605915, 0.05374683439731598, 0.029172217473387718, 0.05228487402200699, 0.03418875113129616, 0.03145476430654526, 0.017097339034080505, -0.024734804406762123, 0.013905167579650879, -0.019244082272052765, -0.048975855112075806, -0.037917621433734894, -0.01893875002861023, 0.047832753509283066, 2.5805647965171374e-05, -0.009893867187201977, 0.010509426705539227, 0.006804592441767454, 0.062021881341934204, -0.04197443649172783, 0.050312865525484085, -0.01719338819384575, -0.004302105400711298, 0.03547406569123268, -0.0313454233109951, -0.006873060017824173, -0.017411231994628906, -0.009186260402202606, 0.020980525761842728, 0.03154450282454491, -0.07604873925447464, 0.011989353224635124, 0.005022946745157242, 0.0064104897901415825, 0.015002395957708359, 0.04772932454943657, -0.03367607668042183, -0.03650732338428497, -0.016794532537460327, -0.034780483692884445, -0.00989898294210434, -0.06147026643157005, 0.007216520607471466, 0.0025595519691705704, -0.0079946955665946, 0.022301869466900826, -0.005670652724802494, 0.07667207717895508, 0.026248421519994736, 0.04579076170921326, -0.02862117812037468, 0.01959427073597908, 0.038746319711208344, -0.0384347178041935, 0.005353859625756741, 0.04410412162542343, -0.03317805752158165, 0.05214261636137962, -0.039769548922777176, -0.008426099084317684, 0.017485737800598145, 0.011858061887323856, 0.018828757107257843, -0.060042690485715866, 0.02750784531235695, -0.013770774938166142, 0.06415341049432755, 0.01181913074105978, 0.07852047681808472, 0.03669855371117592, -0.0024298091884702444, -0.028805091977119446, 0.031984925270080566, -0.020566923543810844, -0.019666723906993866, 0.028945697471499443, 0.013596887700259686, 0.004009251017123461, -0.005707703530788422, 0.034680429846048355, 0.04486464709043503, 0.012139731086790562, 0.022505933418869972, -0.02374172955751419, 0.008641108870506287, -0.03248811885714531, -0.036076586693525314, 0.021784799173474312, -0.005839233752340078, 0.010772550478577614, -0.057040736079216, 0.014523063786327839, -0.044438477605581284, 0.006971662864089012, -0.04641703888773918, -0.013332605361938477, -0.01857415959239006, -0.03995676711201668, -0.03862521052360535, -0.049208495765924454, 0.007622349075973034, 0.05792747810482979, -0.004518987610936165, -0.007144419010728598, 0.04302448406815529, -0.00040591679862700403, -0.003518134355545044, -0.020565366372466087, 0.028694523498415947, 0.0198099035769701, -0.00012959219748154283, -0.0029588777106255293, 0.039682164788246155, 0.0041115316562354565, 0.006669244263321161, -0.02233792096376419, -0.017671631649136543, 0.017985209822654724, 0.0011338688200339675, 0.0026774569414556026, -0.005075625143945217, 0.01577181927859783, -0.036501411348581314, -0.022697653621435165, -0.0015490263467654586, 0.032525356858968735, -0.012553127482533455, 0.05012545734643936, -0.01423439010977745, -0.010620196349918842, -0.016375970095396042, 0.0021945880725979805, 0.01040138490498066, 0.014790027402341366, 0.024558430537581444, -0.0013911537826061249, -0.001575264148414135, -0.004558208864182234, 0.03540954366326332, 0.003699524560943246, 0.018525613471865654, -0.024294916540384293, -0.05508072301745415, 0.018637442961335182, 0.004885053727775812, 0.0487680621445179, 0.02575140818953514, -0.03152332827448845, 0.024409277364611626, 0.04342041164636612, 0.0743708610534668, -0.018926599994301796, -0.01997077651321888, -0.03804423287510872, -0.020313283428549767, -0.02279007062315941, 0.014445114880800247, 0.007798560429364443, 0.06090269237756729, 0.016272302716970444, -0.025087960064411163, 0.042696982622146606, -0.027902521193027496, 0.0392460897564888, -0.013002154417335987, 0.05164460465312004, -0.0009141835616901517, 0.04521370306611061, -0.06814205646514893, 0.02588365226984024, -0.03176351636648178, 0.05724357068538666, 0.008520170114934444, -0.027568161487579346, -0.052875179797410965, -0.03143806383013725, -0.052238911390304565, -0.017443904653191566, -0.029075130820274353, -0.0027613372076302767, -0.015020404011011124, 0.030816229060292244, -0.020297475159168243, -0.005609101615846157, -0.0316876545548439, 0.04868224635720253, -0.031907983124256134, 0.028049351647496223, 0.013631714507937431, 0.035163965076208115, 0.020890867337584496, -0.05472803860902786, 0.02482578344643116, -0.007813235744833946, 0.04377856105566025, 0.013217520900070667, -0.0037509691901504993, -1.4216917406884022e-05, 0.024805134162306786, 0.03578018397092819, 0.03647855669260025, -0.03168671578168869, 0.039359234273433685, -0.02037721686065197, 0.0032914725597947836, -0.006200718693435192, 0.029708564281463623, -0.03174524009227753, -0.006217082031071186, -0.02238968387246132, 0.026722488924860954, 0.017784560099244118, -0.018197309225797653, 0.012554839253425598, -0.0357244610786438, -0.03868890553712845, -0.025561656802892685, -0.050729647278785706, 0.042747221887111664, 0.043933942914009094, 0.06809310615062714, -0.032847411930561066, -0.006533548701554537, -0.05242662876844406, -0.0471000112593174, 0.05083351582288742, 0.044046856462955475, -0.012298262678086758, 0.02320927567780018, 0.0006678841891698539, -0.033158957958221436, 0.002442520810291171, 0.004573693498969078, -0.002508017234504223, 0.02002756856381893, 0.02090291865170002, -0.03236255794763565, -0.016563011333346367, 0.03538771718740463, -0.0029516827780753374, -0.039000943303108215, 0.01198866218328476, 0.0026268442161381245, 0.041567567735910416, -0.026305660605430603, 0.09932667762041092, -0.06499695777893066, -0.01863781549036503, 0.019281690940260887, 0.0012162425555288792, 0.049592599272727966, 0.005107271950691938, 0.010725266300141811, 0.010868924669921398, -0.05446893349289894, 0.012726848013699055, -0.0010718352859839797, 0.039856333285570145, -0.024685412645339966, 0.016067882999777794, 0.00037044400232844055, -0.026671679690480232, 0.01839533820748329, -0.04833677411079407, 0.01977456361055374, 0.02073395624756813, -0.03285769745707512, -0.019602801650762558, 0.013606412336230278, -0.07461556047201157, -0.01875326782464981, -0.009698782116174698, 0.03987015783786774, -0.029180753976106644, -0.039843685925006866, -0.006859899964183569, -0.05142409726977348, 0.0014146780595183372, -0.11784479767084122, 0.06325358152389526, 0.01160260010510683, -0.023343052715063095, 0.009252694435417652, -0.01987523026764393, -0.05417963117361069, 0.0018407779280096292, -0.003762816311791539, -0.03632933273911476, -0.0060926624573767185, -0.007945363409817219, 0.01276656985282898, -0.025858063250780106, -0.023892231285572052, 0.019204862415790558, 0.013914840295910835, -0.003543040482327342, 0.020607277750968933, 0.02453077957034111, 0.008768203668296337, 0.015397829934954643, -0.021597206592559814, -0.010632113553583622, -0.0008636777638457716, -0.03598346188664436, 0.012610124424099922, 0.021650584414601326, -0.02653615176677704, -0.013254641555249691, 0.026205753907561302, -0.023121323436498642, 0.03527507930994034, -0.0066528539173305035, 0.04941028729081154, -0.021983861923217773, -0.01798984222114086, 0.004488775972276926, 0.0026722338516265154, -0.06882967799901962, 0.0399361327290535, 0.03142411261796951, -0.053908899426460266, -0.01980232447385788, 0.02952982857823372, 0.03921406343579292, -0.012665587477385998, 0.032061927020549774, -0.05793386697769165, -0.013345074839890003, -0.013510453514754772, 0.007587258238345385, 0.030513795092701912, 0.003843593178316951, -0.006444405764341354, 0.025812897831201553, -0.07763790339231491, 0.023686910048127174, -0.003755932906642556, 0.016243094578385353, -0.011740313842892647, 0.028670508414506912, -0.0004661800339818001, -0.027543488889932632, 0.02459934540092945, -0.009705178439617157, -0.04258944094181061, 0.027909211814403534, 0.019293809309601784, 0.01650805026292801, 0.0031338296830654144, -0.0036552257370203733, 0.0021098593715578318, -0.02903817407786846, -0.02063542604446411, 0.00719684362411499, 0.013405135832726955, -0.013152780011296272, -0.006620492786169052, -0.009597208350896835, 0.019326772540807724, -0.00034698608214966953, -0.0115229906514287, -0.03882964327931404, -0.029353823512792587, -0.0001357387227471918, -0.022766705602407455, 0.02873590774834156, -0.04775130748748779, -0.030902674421668053, -0.028459368273615837, -0.0493306890130043, -0.01680701971054077, -0.013181539252400398, -0.014200703240931034, -0.005269595887511969, 0.010178341530263424, -0.04246114566922188, -0.01145500224083662, 0.019379300996661186, -0.02552611753344536, -0.030651362612843513, -0.00999197643250227, -0.02384779043495655, -0.06216934695839882, 0.027271050959825516, 0.02811441943049431, -0.027060357853770256, -0.005647534504532814, 0.01071201078593731, -0.04953699931502342, 0.014704449102282524, -0.0654846802353859, 0.018489399924874306, -0.09395432472229004, -0.024480042979121208, 0.008332694880664349, 0.01255303155630827, 0.030316222459077835, -0.0009094393462873995, -0.0340971015393734, 0.0035497259814292192, 0.05729927867650986, -0.04935460910201073, 0.023902293294668198, 0.019645212218165398, 0.05819125846028328, 0.0009173043072223663, -0.030534537509083748, 0.023665474727749825, 0.01439932081848383, -0.02297847345471382, 0.03558574989438057, 0.038178157061338425, -0.00777489272877574, 0.0035750765819102526, -0.020307719707489014, 0.04248509183526039, 0.0030135614797472954, -0.05303562059998512, -0.0361752025783062, 0.00030068535124883056, -0.031003111973404884, -0.0038861888460814953, -0.0590674951672554, 0.03263901174068451, 0.038715481758117676, -0.021393759176135063, -0.0005096260574646294, -0.026135308668017387, 0.012948273681104183, -0.02426372654736042, 0.019882086664438248, -0.0038011532742530107, -0.010546745732426643, 0.005688550882041454, 0.03480853885412216, 2.58212039625505e-05, 0.02567179873585701, 0.028238022699952126, 0.018365396186709404, -0.020486004650592804, 0.004230223596096039, 0.01683085970580578, -0.01534310169517994, 0.005181135144084692, 0.001815286697819829, -0.0325031653046608, -0.002409279579296708, 0.006651044823229313, -0.04541199281811714, 0.01620912179350853, -0.003646428929641843, 0.014975224621593952, 0.03089519776403904, -0.010765742510557175, 0.029885247349739075, -0.014227010309696198, -0.00966271385550499, -0.021847501397132874, 0.03242899850010872, 0.01320283766835928, -0.014875104650855064, 0.03588298708200455, 0.03747009485960007, 0.051833126693964005, -0.012084349989891052, -0.012978904880583286, -0.03978166729211807, -0.02267548255622387, 0.02613586187362671, 0.01688719168305397, 0.0041257948614656925, -0.03607162460684776, 0.04514195770025253, 0.009643756784498692, 0.017101505771279335, 0.015555761754512787, -0.021471593528985977, 0.0034350641071796417, -0.01649773120880127, 0.002187564969062805, -0.0017501185648143291, -0.038671884685754776, -0.03721616789698601, -0.043077632784843445, -0.04071928560733795, -0.033778414130210876, -0.01288514118641615, 0.023201221600174904, -0.0236971415579319, -0.03038794919848442, -0.032355520874261856, -0.01808238960802555, 0.004516819026321173, -0.02835003286600113, -0.008282805792987347, -0.04877621680498123, 0.0004293454112485051, 0.024737978354096413, 0.01169542782008648, 0.060998350381851196, 0.008032736368477345, 0.022446351125836372, -0.004468168597668409, -0.020049085840582848, -0.024152979254722595, 0.033935900777578354, 0.027885770425200462, -0.012197200208902359, 0.020032403990626335, -0.03120914101600647, -0.0065090227872133255, -0.005871342960745096, -0.006158745381981134, -0.032373715192079544, 0.04330787435173988, 0.04243745282292366, 0.03516719490289688, 0.046671874821186066, -0.02513982355594635, -0.0076910159550607204, -0.07800789922475815, 0.03319496661424637]}}, {'m': {'name': 'yellow peach', 'content_embedding': [-0.05617440119385719, 0.01140554528683424, -0.05458570644259453, -0.03501017764210701, -0.033149443566799164, 0.022271443158388138, 0.026151038706302643, 0.007960961200296879, -0.013252096250653267, -0.013325558975338936, -0.012993911281228065, 0.03367761895060539, 0.020080825313925743, -0.005785059183835983, 0.035568006336688995, -0.05047036334872246, -0.021551134064793587, 0.051108334213495255, -0.005652009509503841, 0.018992362543940544, 0.0005567357293330133, -0.026462605223059654, -0.04068444296717644, 0.02024965174496174, 0.016687946394085884, 0.015123162418603897, 0.01163511723279953, -0.033661991357803345, -0.05505969747900963, -0.013932268135249615, 0.052922919392585754, 0.0036279885098338127, 0.020099801942706108, -0.048288725316524506, -0.006417519878596067, -0.04230286553502083, -0.006693562027066946, -0.00190096499864012, -0.0574619397521019, -0.004526934120804071, 0.02642109990119934, -0.018404705449938774, -0.025819338858127594, 0.0050206915475428104, -0.029828598722815514, -0.06240106374025345, 0.03724255412817001, -0.0020694471895694733, -0.03201787546277046, -0.03299596160650253, -0.012740155681967735, 0.034854739904403687, 0.08861245214939117, -0.030190911144018173, 0.005153277423232794, -0.002697909250855446, 0.02740621566772461, 0.007718972396105528, -0.07335753738880157, -0.011555631645023823, -0.02521628327667713, 0.0212425347417593, 0.02364952303469181, 0.02312631532549858, -0.01717272773385048, 0.115435391664505, -0.02861085534095764, 0.02476200833916664, 0.010046430863440037, -0.013786884024739265, -0.02487458847463131, 0.01571342721581459, 0.001994249876588583, -0.006858346052467823, -0.044558580964803696, 0.011744095012545586, 0.022492146119475365, -0.0007812581025063992, 0.04042017087340355, -0.0059149181470274925, 0.08877550810575485, -0.013843175023794174, 0.02043667621910572, 0.011715763248503208, 0.0008618857827968895, 0.06826338917016983, -0.0823870524764061, 0.023976068943738937, -0.019793199375271797, -0.024964788928627968, 0.008619382046163082, -0.021077560260891914, 0.03526834398508072, -0.058982156217098236, -0.03055191971361637, 0.030653590336441994, -0.015824628993868828, -0.00978751853108406, 0.06219783052802086, 0.026802418753504753, -0.0033720615319907665, 0.019878122955560684, -0.047990236431360245, -0.009603433310985565, 0.08533306419849396, 0.005776166915893555, 0.022158043459057808, 0.01015540398657322, 0.03150225803256035, 0.010806690901517868, 0.0815608948469162, -0.042048729956150055, 0.02379665896296501, 0.05335695669054985, -0.002821965841576457, -0.012382055632770061, -0.0033097215928137302, 0.007131498772650957, 0.012250768952071667, 0.003112617414444685, -0.026172054931521416, 0.025031181052327156, 0.0032750326208770275, -0.017117928713560104, 0.002404544036835432, -0.023927001282572746, -0.010104375891387463, 0.023053666576743126, -0.04101290926337242, 0.019985513761639595, -0.007324143312871456, 0.044839438050985336, -0.033525753766298294, -0.02011929266154766, -0.0033292805310338736, -0.015172120183706284, -0.044300373643636703, -0.0413859486579895, -0.025692149996757507, -0.04159186780452728, 0.03269317373633385, 0.0292414128780365, 0.002649172442033887, -0.017227571457624435, 0.01330198161303997, -0.054275430738925934, 0.0111224465072155, -0.0524517185986042, 0.04945037141442299, -0.014090064913034439, 0.02826950140297413, -0.03426411375403404, 0.050213757902383804, 0.01760546676814556, 0.017670176923274994, -0.05206884816288948, 0.001351377577520907, 0.05453464388847351, 0.03387002274394035, -0.021776093170046806, -0.023023709654808044, -0.028317589312791824, 0.00047693829401396215, -0.03198758512735367, -0.01256239227950573, -0.033600177615880966, 0.08021031320095062, 0.02278815768659115, -0.014943535439670086, 0.01975419744849205, -0.00869804248213768, -0.05528434365987778, 0.015170940198004246, -0.018650170415639877, 0.03974404186010361, -0.00769072538241744, 0.029888341203331947, -0.019437294453382492, 0.0059380424208939075, -0.03380029276013374, 0.007498066406697035, 0.011351660825312138, 0.007694681640714407, -0.07840249687433243, -0.03040708228945732, -0.026297083124518394, 0.046378616243600845, 0.006677193567156792, 0.023415138944983482, 0.005933015141636133, -0.047194238752126694, -0.023060161620378494, 0.0479610376060009, -0.02180088497698307, 0.03629858419299126, -0.004990995395928621, -0.017476970329880714, -0.023748042061924934, 0.030560676008462906, -0.01794595457613468, 0.007542744278907776, 0.049552883952856064, -0.0015288430731743574, 0.0018328360747545958, 0.00520832696929574, 0.021829433739185333, 0.003349606180563569, -0.014189813286066055, 0.0240830909460783, -0.024116985499858856, 0.0002653537376318127, -0.020542113110423088, -0.007336199749261141, 0.017987295985221863, -0.02008754387497902, -0.030965309590101242, 0.031890690326690674, 0.014387083239853382, -0.016270240768790245, 0.045068029314279556, 0.017920030280947685, -0.04376616328954697, -0.028136789798736572, -0.0008756060851737857, 0.03021428734064102, -0.01225107628852129, 0.020180117338895798, 0.051410239189863205, -0.018837980926036835, -0.044051121920347214, -0.0008754970622248948, 0.04098358377814293, -0.012091239914298058, 0.01416826993227005, -0.006229836028069258, 0.01605892740190029, 0.020234324038028717, 0.014427444897592068, 0.008793891407549381, 0.0251685231924057, 0.04672310873866081, -0.009957365691661835, -0.006489765830338001, 0.024236580356955528, -0.00923986081033945, -0.007051785942167044, 0.05167580023407936, 0.027694817632436752, 0.03301244601607323, 0.018660323694348335, 0.01054475735872984, -0.00821889378130436, -0.0602065846323967, -0.028637072071433067, 0.022416967898607254, -0.0008885288261808455, 0.06247702240943909, 0.009499434381723404, 0.02818826027214527, -0.009419390931725502, 0.04467877373099327, 0.0016550568398088217, -0.011239892803132534, 0.015110872685909271, -0.024259008467197418, -0.016939787194132805, -0.04116440191864967, 0.02094826102256775, -0.022820964455604553, 0.01699138432741165, -0.03990114852786064, -0.0032263414468616247, 0.0021895028185099363, -0.04650033637881279, -0.05156991630792618, 0.05377925559878349, 0.009974310174584389, -0.0498025082051754, 0.02810542844235897, 0.003659138921648264, 0.021517938002943993, -0.028313692659139633, 0.031246399506926537, -0.03189372271299362, -0.0006515007116831839, -0.010393227450549603, -0.010195599868893623, 0.006405689287930727, -0.03919823095202446, -0.022850748151540756, 0.010262494906783104, 0.016355525702238083, 0.06262479722499847, 0.03704193979501724, -0.018837058916687965, 0.03501364216208458, -0.01415086630731821, -0.1459593027830124, -0.027082175016403198, -0.04540007561445236, -0.00847325287759304, 0.05088431388139725, -0.0027816423680633307, -0.06238663196563721, 0.003966653719544411, -0.01851717382669449, 0.006284801755100489, -0.005832607392221689, -0.03612101078033447, -0.042263463139534, 0.001907844329252839, -0.03158820793032646, 0.0129234055057168, -0.022733086720108986, -0.046942975372076035, 0.04379277676343918, -0.07737712562084198, 0.010105235502123833, -0.03723796829581261, 0.0281278807669878, -0.06787091493606567, -0.0235958993434906, 0.023205403238534927, 0.0055811419151723385, -0.04415879398584366, -0.037395935505628586, -0.046664759516716, 0.017868125811219215, 0.00972482655197382, -0.0022015010472387075, 0.06745340675115585, 0.0033671066630631685, -0.013542791828513145, 0.02383788488805294, -0.01693422719836235, 0.013708382844924927, -0.051197927445173264, -0.019237447530031204, 0.017500462010502815, -0.03506970405578613, 0.008254965767264366, 0.014765853062272072, 0.019194860011339188, -0.04354744404554367, 0.05689236894249916, 0.0007139012450352311, -0.015159311704337597, 0.03835855424404144, -0.02676507830619812, 0.031331174075603485, -0.020080959424376488, -0.02759872004389763, -0.015167445875704288, -0.014893938787281513, -0.0015216462779790163, -0.00037588775740005076, -0.010487881489098072, -0.027192160487174988, -0.016897590830922127, 0.03632715344429016, 0.069117471575737, -0.005943664349615574, 0.03216608613729477, 0.0008024125709198415, -0.011800679378211498, 0.02302512153983116, -0.023786630481481552, 0.0023108019959181547, 0.007688141893595457, -0.01737378165125847, -0.012137232348322868, 0.0625305026769638, 0.008788792416453362, -0.012021624483168125, 0.043609894812107086, 0.004156628157943487, -0.12645864486694336, -0.009490878321230412, 0.0010801779571920633, 0.012545752339065075, 0.023460054770112038, -0.006879346910864115, -0.07022707909345627, 0.034094683825969696, 0.009418316185474396, 0.0186625886708498, 0.2353624850511551, 0.037445686757564545, 0.025156192481517792, 0.00010775891860248521, 0.02971932850778103, -0.03196006268262863, -0.03884100914001465, -0.032599352300167084, -0.017395298928022385, -0.012395369820296764, 0.0072874645702540874, 0.003992934245616198, 0.00024217240570578724, -0.04603718966245651, -0.015105342492461205, 0.07639601826667786, -0.02321101538836956, 0.0033190331887453794, 0.04582729563117027, -0.026212217286229134, -0.002819622168317437, -0.01390350703150034, 0.043186139315366745, 0.013949237763881683, 0.006679841782897711, -0.013849973678588867, -0.008139519020915031, 0.06739921867847443, 0.0018735761987045407, 0.0024544820189476013, -0.030023280531167984, -0.015820220112800598, 0.037358302623033524, -0.023314228281378746, -0.01302666962146759, -0.015408944338560104, -0.027882564812898636, -0.012396201491355896, -0.011112650856375694, 0.006556250154972076, 0.008872110396623611, -0.05819278210401535, 0.02057763561606407, 0.015544179826974869, 0.022969767451286316, -0.05341115966439247, -0.010140718892216682, -0.061757300049066544, -0.01930927112698555, -0.003265027655288577, -0.00235265726223588, 0.026952499523758888, -0.005447715986520052, 0.02651960588991642, 0.005694444291293621, 0.009595361538231373, -0.044942084699869156, -0.012274287641048431, 0.030101366341114044, 0.053901299834251404, -0.0038126634899526834, 0.023646345362067223, -0.041253719478845596, -0.012521750293672085, -0.0315740630030632, 0.03290199488401413, 0.05903678387403488, -0.002649398520588875, -0.03330954536795616, -0.008733096532523632, 0.027210436761379242, -0.010645439848303795, -0.007758732419461012, -0.01800699159502983, 0.027968687936663628, -0.029814284294843674, -0.018798623234033585, 0.04170200601220131, 0.00966416671872139, 0.0593552328646183, 0.008180713281035423, -0.02848580665886402, -0.035878777503967285, 0.005333926994353533, -0.004261764232069254, -0.010718771256506443, 0.02312222309410572, -0.03444693237543106, -0.008457086980342865, -0.05407954752445221, -0.0013724984601140022, 0.04089614376425743, -0.03663427755236626, 0.037263382226228714, -0.022564206272363663, -0.043157611042261124, 0.03352293372154236, -0.003668076591566205, -0.012242288328707218, -0.0328465960919857, -0.020792584866285324, -0.009564454667270184, -0.018826600164175034, -0.01958056539297104, 0.020875686779618263, -0.012501396238803864, -0.01645699143409729, 0.00505091343075037, -0.056198958307504654, 0.009213143028318882, 0.04982181265950203, 6.795853551011533e-05, 0.0199603084474802, -0.005342263262718916, -0.01541647594422102, 0.02568102441728115, 0.0031809224747121334, 0.060691170394420624, 0.011917329393327236, 0.04896869510412216, 0.03112340345978737, -0.011498713865876198, 0.008130224421620369, -0.020406002178788185, 0.015683017671108246, -0.03798128291964531, -0.015511049889028072, -0.019193463027477264, -0.05182650685310364, 0.05040750280022621, -0.02677961438894272, -0.015407818369567394, 0.017807485535740852, 0.012755205854773521, 0.044683828949928284, -0.03223767876625061, 0.0705278292298317, -0.02082902379333973, -0.015390915796160698, 0.027045872062444687, -0.011734774336218834, -0.008559905923902988, -0.007718352600932121, -0.017022965475916862, 0.0023007297422736883, 0.04772841930389404, -0.03982318565249443, 0.045157913118600845, 0.022906264290213585, 0.04181471839547157, 0.021893348544836044, 0.05641298368573189, -0.03496139869093895, -0.033771928399801254, -0.011722678318619728, -0.010426740162074566, 0.01265406422317028, -0.025446444749832153, -0.025879671797156334, 0.003941118251532316, 0.002206662902608514, 0.0057850489392876625, 0.008642224594950676, 0.0314013697206974, 0.004110800568014383, 0.03895147144794464, 0.019814137369394302, 0.02325165644288063, 0.03938359394669533, -0.021433943882584572, 0.012639340944588184, 0.016897354274988174, -0.041329484432935715, 0.04735342413187027, -0.003580175805836916, -0.0028732826467603445, -0.034936774522066116, 0.00970880500972271, -0.012422584928572178, -0.022990597411990166, 0.018836695700883865, -0.030826976522803307, 0.04035215452313423, -0.019752059131860733, 0.04667743667960167, 0.024232003837823868, -0.03285834193229675, -0.02525538019835949, 0.03526284545660019, -0.008182658813893795, -0.022912178188562393, 0.036568235605955124, 0.017091484740376472, -0.006404707673937082, 0.024771040305495262, -0.004913621582090855, -0.011851214803755283, -0.011526307091116905, 0.01464236993342638, -0.03997925668954849, -0.011868276633322239, -0.07022169977426529, -0.026763051748275757, -0.020584043115377426, 0.0033317450433969498, 0.02393474243581295, -0.04590972512960434, 0.0023502286057919264, -0.06468602269887924, 0.024392329156398773, -0.011165471747517586, -0.022272365167737007, 0.0028253209311515093, -0.015105180442333221, -0.0319245271384716, -0.02004854567348957, 0.016209369525313377, 0.0839809849858284, -0.02070462331175804, -0.014330767095088959, 0.015105714090168476, 0.017904158681631088, 0.036876238882541656, -0.0007626857259310782, -0.016555825248360634, 0.010825494304299355, 0.013532173819839954, -0.02123986929655075, 0.060065705329179764, 0.01393808051943779, 0.0076417941600084305, 0.019423043355345726, -0.04359671473503113, 0.011523234657943249, -0.0005876204231753945, 0.014455053955316544, -0.0025299026165157557, 0.028193263337016106, -0.01814120262861252, -0.009354133158922195, 0.005696459673345089, -0.011161774396896362, -0.028925837948918343, 0.078739233314991, -0.016653863713145256, 0.012758426368236542, 0.02143777534365654, 0.005847882945090532, 0.002085879910737276, -0.009052390232682228, -0.004173304419964552, 0.01936260610818863, 0.0064345779828727245, -0.015949832275509834, 0.004114027600735426, 0.018969079479575157, 0.023762289434671402, 0.027698958292603493, -0.1040605902671814, 0.016009056940674782, 0.009996799752116203, 0.05633220821619034, 0.016086958348751068, -0.00815608724951744, 0.0027933877427130938, -0.0006210345891304314, 0.0851236879825592, -0.0036945368628948927, -0.007339495699852705, -0.043065834790468216, -0.008728322573006153, -0.004315623547881842, 0.010184476152062416, 0.023533334955573082, 0.047077763825654984, -0.001253854832611978, -0.03930431231856346, 0.007725766394287348, -0.008033170364797115, 0.024117881432175636, -0.029095210134983063, 0.01423725113272667, -0.04240894690155983, 0.01730942726135254, -0.037739723920822144, 0.026300283148884773, -0.00376078300178051, 0.044310569763183594, 0.0033623555209487677, -0.01389368437230587, -0.015648791566491127, -0.01777614653110504, -0.06177385523915291, -0.030627131462097168, -0.018423378467559814, 0.014027810655534267, -0.018806355074048042, -0.010760384611785412, -0.023759208619594574, 0.012151243165135384, -0.015340376645326614, 0.020500993356108665, -0.020297234877943993, 0.036301735788583755, 0.01672147400677204, 0.022464267909526825, 0.025806304067373276, -0.05254681780934334, 0.016467293724417686, -3.101093170698732e-05, 0.044970106333494186, -0.03425794839859009, 0.05170828476548195, -0.037875495851039886, 0.03742792829871178, 0.008694475516676903, 0.04859214276075363, -0.03331300616264343, 0.0189833901822567, -0.012161760590970516, 0.021207313984632492, -0.0005991769139654934, -0.0064168632961809635, 0.0019388577202335, 0.0093978988006711, -0.006648378912359476, 0.025554880499839783, -0.010869421996176243, -0.020329631865024567, 0.013048636727035046, -0.00568927638232708, -0.04117472097277641, -0.03269410505890846, -0.03475778177380562, 0.02180754393339157, 0.01592210680246353, 0.07148470729589462, -0.012261287309229374, -0.025918127968907356, -0.03621147200465202, -0.008142182603478432, 0.07541859149932861, 0.06896485388278961, -0.014491231180727482, 0.009151965379714966, -0.03324618563055992, 0.0007039558258838952, 0.004775560460984707, 0.031081948429346085, -0.011526050977408886, 0.03676946833729744, 0.010385384783148766, -0.04317508637905121, -0.0324227511882782, 0.012461408972740173, 0.01848530024290085, -0.03254573047161102, 0.016582651063799858, -0.00477895000949502, 0.04650351032614708, -0.03604106232523918, 0.06926363706588745, -0.06605468690395355, 0.006508208811283112, -0.015563816763460636, 0.0051537929102778435, 0.03633737191557884, -0.005511223338544369, -0.016388405114412308, -0.018872911110520363, -0.03509154170751572, 0.004481293261051178, 0.011883368715643883, 0.04500154033303261, -0.037937287241220474, 0.022806458175182343, -0.003950880840420723, -0.024953743442893028, 0.017274802550673485, 0.0036291060969233513, 0.014454182237386703, 0.03789452463388443, -0.009205038659274578, -0.027660196647047997, -0.015345614403486252, -0.05027693882584572, -0.02306618168950081, 0.006836148910224438, 0.024267476052045822, -0.011419948190450668, -0.042268987745046616, -0.025621220469474792, -0.05155870318412781, -0.025293998420238495, -0.129171222448349, 0.05635787546634674, 0.01123266015201807, 0.0016468948451802135, -0.029111679643392563, -0.026238249614834785, 0.0004118210054002702, -0.0009870409267023206, -0.005727384705096483, -0.02425478771328926, -0.031408194452524185, 0.016462011262774467, -0.024182330816984177, -0.030936291441321373, -0.011444385163486004, 0.023454541340470314, 0.029104044660925865, -0.00217842566780746, 0.03189173340797424, 0.04114484414458275, 0.01039094664156437, 0.00826803594827652, -0.007181517779827118, 0.03991115093231201, -0.001216437784023583, -0.04217329993844032, -0.008261348120868206, 0.0069716861471533775, -0.03866963088512421, 0.005739618092775345, 0.00533774308860302, 0.0008600030560046434, 0.030095430091023445, 0.015670204535126686, 0.0777440220117569, -0.008595728315412998, -0.01773569919168949, -0.01022065244615078, 0.003693700535222888, -0.04022923856973648, 0.044797591865062714, 0.01642804779112339, -0.046049363911151886, -0.01861622743308544, -0.004397603217512369, 0.013956144452095032, -0.005635905545204878, 0.029626134783029556, -0.030433068051934242, 0.016165798529982567, -0.0044150385074317455, -0.002577141858637333, 0.07749809324741364, 0.02354906126856804, 0.02428647130727768, 0.022402910515666008, -0.0019906817469745874, 0.0016945903189480305, 0.014020130038261414, 0.02550545521080494, -0.03578505292534828, -0.00477723078802228, -1.7456626665079966e-05, -0.028352519497275352, 0.012571515515446663, -0.009132709354162216, -0.05571219325065613, 0.013406749814748764, -0.006402205675840378, 0.04395342245697975, -0.034714385867118835, -0.007302994839847088, -0.001958583714440465, -0.043548304587602615, -0.019743625074625015, 0.037156544625759125, 0.0065405904315412045, -0.02067214623093605, -0.017320387065410614, -0.006446042563766241, -0.005077715497463942, -0.006776388268917799, -0.022226717323064804, -0.02720297873020172, -0.01709400676190853, -0.0034125722013413906, -0.028242236003279686, 0.016720592975616455, -0.06585242599248886, -0.04405229538679123, -0.03638014569878578, -0.03031095303595066, -0.02974935621023178, -0.014040407724678516, -0.01636796072125435, 0.01823318377137184, 0.024730173870921135, -0.006137292366474867, -0.03458525612950325, -0.003909355960786343, 0.0004359869344625622, -0.03147570416331291, 0.04462512582540512, -0.006078806705772877, -0.06162497401237488, 0.046403538435697556, 0.0001278571435250342, -0.0028569193091243505, -0.0012368728639557958, 0.028993597254157066, -0.019150063395500183, -0.014154262840747833, -0.02997465990483761, 0.02680305950343609, -0.011489960364997387, -0.00748447934165597, 0.033604513853788376, 0.032883282750844955, 0.010375728830695152, 0.016997957602143288, -0.01280263438820839, 0.005553483497351408, 0.09240586310625076, -0.04623158648610115, -0.000689743144903332, 0.01848423108458519, 0.03660397604107857, -0.011571690440177917, -0.03443017601966858, 0.00030000126571394503, 0.011627009138464928, -0.034137044101953506, 0.04328154772520065, 0.02365722320973873, -0.004008633084595203, 0.024441728368401527, -0.043377142399549484, 0.023573540151119232, -0.035927820950746536, -0.019826430827379227, -0.02109530195593834, -0.00158058968372643, -0.04708719253540039, -0.038302939385175705, -0.03268401324748993, 0.014185873791575432, 0.024592865258455276, -0.03993525728583336, -0.02719585970044136, -0.015211226418614388, 0.0026283198967576027, -0.006926783360540867, 0.0379914753139019, -0.01855388842523098, -0.036649834364652634, 0.020760273560881615, -0.007870209403336048, -0.003603410441428423, -0.002442966913804412, 0.029963260516524315, 0.014153913594782352, -0.01114888209849596, -0.010113651864230633, 0.02530776709318161, -0.014253417029976845, -0.035973403602838516, 0.01675855927169323, -0.03409819304943085, -0.019082868471741676, -0.013842725194990635, -0.0659986063838005, 0.06152097135782242, -0.013724698685109615, -0.0009806999005377293, 0.029167523607611656, -0.02311643585562706, 0.023025749251246452, -0.03311382979154587, 0.007314091548323631, 0.0018522344762459397, -0.011144209653139114, 0.016195235773921013, -0.02272488735616207, 0.004027112852782011, 0.030926696956157684, 0.05018619820475578, -0.006668647285550833, 0.017277274280786514, -0.02394266426563263, 0.024511367082595825, -0.010095622390508652, 0.007658539805561304, 0.006805074401199818, -0.022719793021678925, 0.03700141981244087, 0.01485235895961523, 0.005953057203441858, 0.0048806024715304375, 0.021695367991924286, -0.026211773976683617, 0.002635060576722026, -0.02599726989865303, 0.01029354427009821, 0.009352723136544228, -0.030173368752002716, -0.027985762804746628, -0.04580867663025856, -0.020081838592886925, -0.0008680690079927444, 0.024917036294937134, 0.013790637254714966, -0.01637166552245617, -0.05315491184592247, 0.023657897487282753, -0.01202335674315691, -0.01208887342363596, -0.023727132007479668, -0.012043983675539494, 0.017901306971907616, 0.07500368356704712, 0.0009801116539165378, 0.018967997282743454, -0.023901356384158134, 0.007262486964464188, 0.004514514468610287, -0.030722497031092644, -0.03334537521004677, 0.028094815090298653, 0.021341461688280106, -0.03309669345617294, -0.004829715471714735, 0.02342131920158863, -0.019197840243577957, 0.012770989909768105, -0.017444564029574394, 0.014470197260379791, 0.027027003467082977, 0.011219501495361328, 0.024487897753715515, -0.011119673028588295, 0.00895713735371828, -0.009000031277537346, -0.062639020383358, 0.02111823484301567]}}, {'m': {'name': 'peach jam', 'content_embedding': [-0.004746715072542429, -0.011550125665962696, -0.047103431075811386, 0.017378872260451317, -0.011625598184764385, 0.012513287365436554, 0.0032774661667644978, -2.2874981368659064e-05, -0.01773563213646412, 0.014246613718569279, -0.020817946642637253, 0.01031725574284792, -0.010194326750934124, -0.008508873172104359, 0.035124268382787704, -0.033225905150175095, -0.008103813976049423, 0.0206911638379097, 0.008214417845010757, -0.01773640513420105, 0.04322764277458191, -0.011439567431807518, -0.012189880944788456, 0.028048278763890266, 0.027576690539717674, 0.03796578571200371, -0.03480931371450424, -0.034012529999017715, -0.023102307692170143, -0.023268315941095352, 0.024236658588051796, 0.008286671712994576, 0.046190597116947174, -0.07671339064836502, -0.05882372707128525, -0.01137383934110403, -0.004818090237677097, 0.0014215908013284206, -0.04493660107254982, -0.021882761269807816, 0.013169212266802788, 0.008373646065592766, -0.008459347300231457, -0.005212678574025631, -0.006065736524760723, -0.03227905184030533, 0.022017618641257286, 0.004984716884791851, -0.008255795575678349, -0.02942625992000103, -0.0083484947681427, 0.012847586534917355, 0.06801047176122665, -0.0018772865878418088, 0.034750670194625854, 0.04427819326519966, 0.03042363002896309, -0.006276322063058615, -0.0655951276421547, -0.03326714038848877, 0.004831452388316393, 0.00849857646971941, 0.025258729234337807, -0.014962354674935341, 0.018678849563002586, 0.1157715767621994, -0.015409311279654503, -0.0020701002795249224, -0.001868617138825357, -0.008865341544151306, -0.023790152743458748, 0.0015507658245041966, -0.015520069748163223, -0.021450579166412354, -0.047781649976968765, 0.03862203657627106, 0.016534218564629555, 0.013187450356781483, 0.015559973195195198, -0.006083350628614426, 0.08488702028989792, -0.031980302184820175, 0.027889832854270935, 0.024132972583174706, -0.023830724880099297, 0.04945585876703262, 0.0022763952147215605, 0.04989950731396675, 0.010813242755830288, -0.035810165107250214, 0.02457032911479473, -0.026775989681482315, 0.03900260478258133, -0.08081602305173874, -0.05987193435430527, -0.006529282778501511, -0.0031822326127439737, -0.03649687021970749, 0.06568850576877594, 0.026548881083726883, -0.04124465957283974, -0.001999958883970976, -0.05812325328588486, -0.01653308980166912, 0.06023778021335602, -0.0025097292382270098, 0.044215861707925797, 0.01977255381643772, 0.017306920140981674, -0.0010874031577259302, 0.07051444798707962, -0.03331303223967552, 0.01331908255815506, 0.03365557640790939, -0.008984060026705265, 0.004519585054367781, -0.01762085221707821, -0.02508377470076084, 0.023726411163806915, -0.017929231747984886, -0.06025180220603943, -0.0027663095388561487, 0.0049848612397909164, 0.00170981977134943, 0.00454853055998683, -0.005777699872851372, 0.012464982457458973, 0.03442733734846115, -0.019634751603007317, -0.01987648382782936, 0.0030870577320456505, 0.019429177045822144, -0.046934664249420166, -0.01200435496866703, -0.003584895981475711, -0.008408410474658012, -0.014724296517670155, -0.03276554495096207, -0.027538668364286423, -0.0116333132609725, 0.001692080870270729, 0.02486330457031727, -0.020291559398174286, -0.044056568294763565, 0.01749241165816784, -0.03499783203005791, 0.024991214275360107, -0.01596425659954548, 0.007599659264087677, -0.02009611949324608, 0.03254196047782898, 0.002228616503998637, 0.025900892913341522, -0.013766809366643429, -0.04728209227323532, -0.0064780330285429955, 0.008740712888538837, 0.04741664603352547, 0.003973514307290316, -0.007551700342446566, -0.003606804646551609, -0.0020667794160544872, -0.012630785815417767, -0.01197038684040308, -0.007367466576397419, -0.012951469980180264, 0.05675927922129631, 0.007684613578021526, -0.019496982917189598, 0.024923227727413177, -0.013683580793440342, -0.03307176008820534, -0.008318614214658737, 0.01619560830295086, 0.04879863187670708, -0.005451745353639126, -0.021079428493976593, -0.008492689579725266, -0.06683006882667542, -0.0256032831966877, 0.012480143457651138, 0.008469657972455025, -0.014106824062764645, -0.04877690225839615, -0.02714225836098194, 0.011796767823398113, 0.028170302510261536, 0.02419644221663475, 0.011555933393537998, 0.02997823804616928, -0.04852602630853653, -0.018615327775478363, 0.023182973265647888, 0.004124328959733248, 0.058981332927942276, -0.027664853259921074, -0.019690299406647682, -0.0350908599793911, 0.027365610003471375, 0.0018225490348413587, 0.016183819621801376, 0.044901154935359955, -0.012891790829598904, 0.015993960201740265, -0.012924053706228733, 0.003464748617261648, -0.001273689209483564, -0.029069242998957634, 0.016457078978419304, -0.008482773788273335, 0.019835535436868668, -0.03824857622385025, -0.013578486628830433, 0.022973695769906044, -0.00561698479577899, -0.0009248734568245709, 0.025385651737451553, 0.04525088518857956, -0.002801726572215557, 0.06049678474664688, 0.05321251228451729, 0.006472193170338869, 0.013209190219640732, 0.016203798353672028, 0.023964116349816322, -0.0024458281695842743, 0.04235883802175522, 0.06358509510755539, -0.0489962063729763, -0.05810683220624924, -0.028711356222629547, 0.036607757210731506, -0.016574863344430923, -0.011465039104223251, -0.02109776809811592, 0.017850037664175034, -0.026938576251268387, 0.003321209689602256, 0.005224834196269512, 0.020077185705304146, 0.014175817370414734, -0.007757908198982477, 0.023054197430610657, 0.040711794048547745, -0.02704331837594509, -0.005770132411271334, 0.03830379247665405, 0.006830685772001743, 0.02175396867096424, -0.015225641429424286, 0.017926638945937157, -0.004534414503723383, -0.0690041035413742, -0.02820032462477684, 0.0042052059434354305, 0.022565383464097977, 0.03396504372358322, -0.0011263415217399597, 0.06310510635375977, 0.017545025795698166, 0.039127182215452194, -0.012040459550917149, 0.037650641053915024, 0.00908287800848484, -0.016962848603725433, -0.027619410306215286, -0.06382474303245544, 0.007082872558385134, 0.007752507459372282, 0.023967424407601357, -0.04702594503760338, -0.016956135630607605, 0.007954873144626617, -0.04430563002824783, -0.06879536062479019, 0.037520039826631546, 0.0067824977450072765, -0.024250084534287453, -0.002967067528516054, 0.008702863939106464, 0.009999613277614117, -0.010762054473161697, 0.0257651899009943, -0.00024100755399558693, 0.02316289395093918, -0.010148565284907818, -0.010669582523405552, 0.01865486055612564, -0.03337748348712921, -0.009448333643376827, 0.008077980019152164, 0.007681155577301979, 0.05249118432402611, -0.035241276025772095, 0.034656476229429245, 0.0382276251912117, -0.006281228270381689, -0.16286399960517883, -0.02738575078547001, -0.0448543019592762, -0.03131456673145294, 0.033848945051431656, -0.0075337206944823265, -0.06842688471078873, 0.022141464054584503, -0.02720988728106022, 0.03765286132693291, 0.029376555234193802, -0.04534492269158363, -0.011718290857970715, 0.0024296408519148827, -0.033977922052145004, 0.022111326456069946, -0.04410595819354057, -0.04846743866801262, 0.043301936239004135, -0.07505690306425095, 0.017749622464179993, -0.01861513778567314, 0.00487117562443018, -0.035014428198337555, -0.019483657553792, -0.015514503233134747, -0.007724000606685877, -0.021587643772363663, -0.02806112915277481, -0.018099557608366013, 0.030327623710036278, 0.0040529933758080006, -0.00026510230964049697, 0.05672004818916321, 0.02435312233865261, -0.002686056774109602, 0.00510705541819334, -0.039002981036901474, 0.004036099649965763, 0.004403920844197273, 0.01729700155556202, 0.03133639320731163, -0.07372668385505676, 0.012729973532259464, 0.018551673740148544, -0.014886629767715931, -0.025952210649847984, 0.06051196902990341, -0.012029052712023258, 0.028332581743597984, 0.012619474902749062, 0.003154779551550746, 0.03507612273097038, -0.011030037887394428, -0.02438429743051529, -0.01686113327741623, -0.05280807614326477, -0.011501213535666466, 0.003095769789069891, -0.019515974447131157, -0.05637932941317558, 0.015116658061742783, 0.013104069046676159, -0.009438117034733295, 0.016208568587899208, -0.011169016361236572, -0.02484860084950924, -0.017476417124271393, 0.018696796149015427, -0.04292561858892441, 0.019269850105047226, 0.007153136655688286, -0.06697968393564224, 0.010089932940900326, 0.023993903771042824, 0.023287879303097725, 0.033076997846364975, 0.00538686104118824, -0.009371766820549965, -0.11893869936466217, 0.01423353236168623, -0.013810419477522373, 0.043383579701185226, 0.025301530957221985, -0.021687300875782967, -0.02690214104950428, 0.02826235070824623, 0.008614390157163143, 0.01087542437016964, 0.25858020782470703, -0.006199801806360483, 0.01598653942346573, -0.044053755700588226, 0.06091676652431488, -0.03964763507246971, -0.00646861270070076, -0.024510182440280914, -0.014495023526251316, -0.016662688925862312, -0.02657274529337883, 0.02038360945880413, 0.005318480543792248, -0.043051786720752716, -0.00564546836540103, 0.07294555753469467, -0.04220345616340637, -0.033563338220119476, 0.033860933035612106, -0.020588621497154236, -0.008655166253447533, 0.007635187357664108, -0.0031684436835348606, -0.020754121243953705, 0.021450167521834373, -0.026128483936190605, -0.005414350889623165, 0.056589096784591675, -0.0024814046919345856, 0.012280280701816082, -0.012357136234641075, 0.002611252712085843, 0.057901252061128616, 0.004402579739689827, 0.00686298031359911, 0.015948675572872162, -0.002675766823813319, -0.03402337804436684, -0.020077738910913467, 0.0037089718971401453, 0.017152920365333557, -0.03315241262316704, 0.026548435911536217, -0.013632014393806458, -0.017017345875501633, -0.06799588352441788, -0.031580742448568344, -0.06350746750831604, -0.03786657750606537, 0.000598059210460633, 0.006512083578854799, 0.032875239849090576, -0.0056839510798454285, -0.0031853399705141783, 0.020077724009752274, -0.02770855277776718, -0.018714366480708122, -0.03361330181360245, 0.02099374122917652, 0.012006706558167934, -0.004963651765137911, 0.010191680863499641, -0.040891602635383606, 0.019540345296263695, -0.03263087198138237, 0.049160655587911606, 0.010178548283874989, 0.0008977240067906678, -0.06674795597791672, -0.01380561850965023, 0.016631582751870155, 0.00034101417986676097, 0.01637551747262478, -0.03879567235708237, -0.0028399804141372442, -0.0023523264098912477, -0.026894770562648773, 0.04573685675859451, 0.02811206877231598, 0.02655777335166931, -0.0030451249331235886, 0.0047867693938314915, -0.044357508420944214, -0.006525096949189901, -0.0025392151437699795, 0.016604457050561905, 0.04728340357542038, -0.03785640746355057, -0.003652949118986726, -0.0247015543282032, 0.0076526072807610035, 0.001248025568202138, -0.04036759212613106, 0.020681016147136688, -0.004842466674745083, -0.023574164137244225, 0.0415247417986393, -0.026620952412486076, 0.0038296987768262625, 0.021549485623836517, -0.03634251654148102, -0.012222614139318466, -0.0012441773433238268, -0.019570838660001755, 0.04919971153140068, 0.012901552021503448, -0.003615699941292405, -0.02548816055059433, -0.04642287269234657, 0.001962771639227867, 0.00028634117916226387, 0.009206186980009079, 0.01846320927143097, -0.012931786477565765, -0.012637542560696602, 0.012557337060570717, 0.0001886380196083337, 0.07470246404409409, 0.02142293006181717, 0.04127807170152664, 0.0014277736190706491, 0.03318672254681587, 0.002443229779601097, 0.01742914691567421, 0.05019001662731171, -0.020197074860334396, -0.03583228215575218, -0.03988325595855713, -0.014310965314507484, 0.07523345947265625, -0.00808209739625454, 0.0007432463462464511, 0.02455778978765011, 0.03829358145594597, 0.0453665554523468, -0.04193786159157753, 0.09109961241483688, -0.003061825642362237, -0.002743351738899946, 0.00851057842373848, -0.007945944555103779, -0.013873709365725517, 0.009921341203153133, -0.006121198181062937, 0.0036469667684286833, 0.028403237462043762, -0.0437651090323925, -0.0077783092856407166, 0.0038225275930017233, 0.03942615166306496, 0.025320524349808693, 0.0700574517250061, -0.03364527225494385, -0.025394853204488754, -0.04396289587020874, -0.01725439727306366, 0.003066924400627613, -0.027655037119984627, -0.010012826882302761, 0.0028870876412838697, -0.010201126337051392, -0.01913025975227356, 0.009825970977544785, 0.04412475600838661, 0.011469141580164433, 0.035677649080753326, -0.010370557196438313, 0.032820671796798706, 0.02550579607486725, -0.030725022777915, 0.022504277527332306, 0.006209623999893665, -0.024987323209643364, 0.027276193723082542, -0.023558927699923515, -0.0016266473103314638, -0.012569556944072247, 0.027771025896072388, 0.0024426523596048355, -0.023086166009306908, 0.07429590076208115, -0.010447864420711994, 0.059688955545425415, -4.218883259454742e-05, 0.04853580892086029, 0.03147457167506218, -0.007523867767304182, -0.025036385282874107, 0.031254060566425323, 0.00159728794824332, -0.05112850293517113, 0.04494423791766167, -0.00876736268401146, -0.007020032964646816, 0.03399254009127617, -0.028191858902573586, 0.015110726468265057, -0.01255373377352953, 0.04008197784423828, -0.04589412733912468, 0.0012363526038825512, -0.04596927389502525, -0.03603897988796234, -0.04638154059648514, 0.0012601783964782953, 0.028475558385252953, -0.031552936881780624, 0.006822678260505199, -0.04650960490107536, 0.020136188715696335, -0.001035540597513318, -0.006712635513395071, 0.021874070167541504, -0.021949652582406998, -0.012232724577188492, -0.05005364865064621, 0.05150400474667549, 0.05491405725479126, 0.004651517141610384, -0.006674014497548342, 0.018301868811249733, 0.0004282553563825786, 0.04318435862660408, 0.0034897341392934322, 0.015382861718535423, 0.05414173752069473, 0.00953733455389738, -0.004684649873524904, 0.04433499276638031, -0.019405188038945198, 0.00756107410416007, -2.0437040802789852e-05, -0.03632849454879761, 0.0020492481999099255, -0.02621491812169552, 0.014018124900758266, 0.01809530146420002, 0.032363422214984894, -0.021056167781352997, 0.004617488943040371, 0.006344801280647516, -0.02977852337062359, -0.008482669480144978, 0.03777169808745384, 0.017631255090236664, 0.013480358757078648, 0.017496010288596153, 0.039441462606191635, 0.02472701668739319, -0.004093194846063852, 0.033985283225774765, 0.015664689242839813, -0.003105699084699154, -0.0138822877779603, 0.024445345625281334, 0.026823490858078003, 0.012322955764830112, -0.012570899911224842, -0.052870552986860275, 0.011434546671807766, -0.004255854990333319, 0.03622044622898102, 0.00441167363896966, -0.030667629092931747, -0.0065447064116597176, -6.739042146364227e-05, 0.035740796476602554, -0.010239984840154648, -0.01976926065981388, -0.03778943046927452, -0.03322431072592735, -0.010437351651489735, -0.004471814725548029, -0.014565840363502502, 0.06579243391752243, 0.005274700000882149, -0.033802419900894165, 0.0790102556347847, -0.011886504478752613, 0.03630857914686203, 0.017683880403637886, 0.038969170302152634, -0.04128265753388405, 0.03145024552941322, -0.027631113305687904, 0.012393325567245483, -0.035060882568359375, 0.04761252924799919, -0.0004381735052447766, -0.005535443313419819, -0.056637559086084366, -0.012014607898890972, -0.0548786036670208, 0.021824900060892105, -0.057180024683475494, 0.019801612943410873, -0.031049475073814392, 0.011595510877668858, -0.0020816726610064507, 0.014131584204733372, -0.029185645282268524, 0.044658362865448, -0.008614391088485718, 0.035542283207178116, -0.017049426212906837, 0.03509145230054855, 0.06012684851884842, -0.05735846608877182, 0.004763373639434576, 0.023015189915895462, 0.03747226297855377, 0.04698210582137108, 0.04453439638018608, -0.021456636488437653, 0.03158288821578026, -0.014729459770023823, 0.01093099731951952, -0.04948940500617027, 0.020557837560772896, 0.009149355813860893, -0.007311378140002489, -0.002062639920040965, -0.01721012592315674, -0.03826376423239708, -0.0017173398518934846, 0.008001652546226978, -0.002555455081164837, -0.009600325487554073, -0.024362381547689438, 0.015653962269425392, -0.010193604975938797, -0.04073788970708847, -0.03047671541571617, -0.05647537484765053, 0.037115082144737244, 0.003588275518268347, 0.051896002143621445, -0.016075216233730316, -0.011621362529695034, -0.03259865194559097, -0.025917164981365204, 0.0764630064368248, 0.04313454404473305, -0.024870220571756363, 0.014034026302397251, -0.011563782580196857, 0.026078805327415466, -0.008966298773884773, -0.018290936946868896, -0.029512623324990273, 0.053817618638277054, 0.0634400025010109, -0.031537946313619614, 0.004731271881610155, 0.029820363968610764, -0.005349396727979183, -0.047854386270046234, -0.0032661447767168283, -0.010669582523405552, 0.026343107223510742, -0.03877018764615059, 0.0708949863910675, -0.03840159624814987, -0.009747244417667389, 0.014575394801795483, 0.002435595728456974, 0.04365522786974907, 0.0031156849581748247, -0.008006325922906399, -0.024122463539242744, -0.051177386194467545, -0.009168745949864388, -0.0003706822753883898, 0.04393714666366577, -0.02393549121916294, 0.04172911122441292, -0.0003369679325260222, -0.020098302513360977, 0.009012394584715366, -0.022621000185608864, -0.008453773334622383, 0.005906012840569019, -0.014235759153962135, -0.0012292842147871852, -0.027909772470593452, -0.020546475425362587, -0.03685342147946358, -0.026177264750003815, 0.026455461978912354, -0.01173316314816475, -0.04633501544594765, -0.029560929164290428, -0.035724394023418427, 0.0003478197322692722, -0.11190661042928696, 0.029909664765000343, -0.0023918976075947285, 0.009961722418665886, -0.005063805263489485, -0.014073125086724758, -0.057347532361745834, -0.013771550729870796, 0.008983732201159, -0.034926868975162506, 0.02413644827902317, -0.003299704985693097, 0.005741131491959095, -0.01793196052312851, -0.04751283675432205, 0.021504977717995644, -0.0008303410722874105, -0.002842463320121169, 0.04196545481681824, -0.025535674765706062, 0.005930044688284397, 0.03397483006119728, -0.026781899854540825, 0.030142422765493393, -0.029482727870345116, 0.006302922964096069, 0.007274966686964035, 0.010046495124697685, -0.01693698950111866, 0.007351755164563656, -0.011619516648352146, -0.023630941286683083, 0.017575858160853386, 0.005157210864126682, 0.05561910942196846, 0.009032354690134525, -0.022839926183223724, -0.005484105087816715, -0.028319252654910088, -0.05770115926861763, 0.05483643710613251, 0.03344685211777687, -0.052359309047460556, -0.02738500013947487, 0.008257233537733555, -0.0023647737689316273, -0.00954483263194561, 0.02404130809009075, -0.06524478644132614, 0.0016502013895660639, -0.0018448097398504615, 0.01399992499500513, 0.011064951308071613, 0.013852170668542385, 0.0005029914900660515, 0.0226465854793787, -0.040326014161109924, -0.002835953375324607, -0.007970960810780525, 0.06163778901100159, -0.01547942403703928, 0.036969058215618134, -0.02210744470357895, -0.03365569934248924, -0.006207265891134739, -0.0014741988852620125, -0.05473070591688156, 0.009284606203436852, 0.04162342846393585, 0.02877490408718586, -0.01636245660483837, 0.0035450623836368322, 0.028487863019108772, -0.049809250980615616, -0.004419502802193165, 0.029396388679742813, -0.001202965620905161, 0.01310464646667242, 0.00842699408531189, -0.007577657699584961, -0.0031880673486739397, 0.001545662758871913, -0.019609732553362846, -0.05799074098467827, 0.003099537920206785, -0.004458622075617313, -0.03360229358077049, 0.022775819525122643, -0.07987581193447113, -0.02282383106648922, -0.035140346735715866, -0.022130515426397324, 0.018241584300994873, 0.001679639215581119, -0.04337494447827339, 0.025927040725946426, -0.009303024969995022, -0.03373397886753082, -0.03468514233827591, 0.02253953367471695, -0.003761530155315995, -0.03157827630639076, 0.041456274688243866, -0.004812267608940601, -0.03378846496343613, 0.005195234902203083, 0.005652108695358038, -0.038366369903087616, -0.011688273400068283, 0.04611329361796379, -0.061016689985990524, 0.012238933704793453, -0.019198095425963402, -0.0036602516192942858, -0.08612436056137085, -0.006358628626912832, 0.04066624119877815, 0.02293526940047741, -0.006885257083922625, -3.8508813304360956e-05, -0.03394392877817154, -0.006028635893017054, 0.04149475693702698, -0.047971244901418686, 0.036691706627607346, -0.019672811031341553, 0.03771573305130005, 0.026995215564966202, -0.010704836808145046, 0.014873577281832695, 0.0010993003379553556, -0.024624262005090714, 0.02814510650932789, 0.04293041676282883, -0.009157908149063587, -0.007877151481807232, -0.060443662106990814, 0.04119133949279785, -0.005748184863477945, -0.016320228576660156, -0.050916094332933426, 0.01364143006503582, -0.01959560252726078, -0.00832956749945879, -0.0374947227537632, 0.010838302783668041, 0.07458444684743881, -0.047611914575099945, -0.03176983445882797, -0.0021709792781621218, 0.017119228839874268, 0.006633276119828224, 0.0144122913479805, -0.03859477862715721, -0.005337799433618784, 0.012733539566397667, 0.007752825040370226, 0.02064475230872631, 0.03355124965310097, 0.029621003195643425, 0.027592066675424576, -0.004650358110666275, 0.009465971030294895, 0.019727764651179314, 0.0015927604399621487, 0.016293983906507492, -0.004852326586842537, -0.046400297433137894, -0.047679826617240906, 0.0007967959390953183, -0.0038313893601298332, 0.05355948209762573, -0.009911119006574154, -0.0028576250188052654, 0.010921490378677845, -0.006865166127681732, -0.0057882629334926605, -0.04071900248527527, -0.027202174067497253, -0.014024677686393261, 0.003404174465686083, -0.0030837981030344963, 0.004876614548265934, 0.022984614595770836, 0.05708899348974228, 0.010295132175087929, -0.002100568264722824, 0.006375125143676996, -0.038370851427316666, -0.01822875253856182, -0.012762595899403095, 0.027741529047489166, 0.01932649128139019, -0.02503928355872631, -0.0034647700376808643, 0.00623162928968668, 0.021395910531282425, 0.013430323451757431, -0.014003072865307331, -0.009901377372443676, -0.016706062480807304, 0.01764279045164585, -0.00818598736077547, -0.020317943766713142, -0.021669892594218254, 0.003878467483446002, -0.023677129298448563, -0.012190915644168854, 0.004068639129400253, 0.03253600373864174, -0.01669197343289852, 0.01154357474297285, -0.04772923141717911, 0.03976644203066826, -0.029093410819768906, 0.0017592256190255284, -0.03370118513703346, -0.0032076374627649784, -0.02606106549501419, 0.026270492002367973, -0.03284894675016403, -0.005730257369577885, -0.012109069153666496, 0.018110103905200958, 0.007501947693526745, -0.009172776713967323, -0.06555718928575516, 0.01899310015141964, 0.012935609556734562, -0.0014668009243905544, -0.0050249285995960236, -0.0319363996386528, 0.001667607924900949, 0.028985321521759033, -0.0014353932347148657, -0.010376316495239735, 0.07072967290878296, 0.04928572103381157, 0.056845229119062424, -0.008913107216358185, -0.01770002767443657, -0.005477081052958965, -0.07817664742469788, 0.0577191598713398]}}]\u001b[0m\n",
      "\n",
      "\u001b[1m> Finished chain.\u001b[0m\n",
      "{'query': \"모든 종류의 노드 중에서 name 속성이 'peach'인 노드를 찾고, 어떤 관계든 상관없이 2단계 이내로 연결된 모든 노드들을 찾아줘\", 'result': \"'peach'라는 name 속성을 가진 노드와 2단계 이내로 연결된 모든 노드들은 다음과 같습니다: 'peach juice', 'peach iced tea', 'peach tea', 'peach jam', 'yellow peach', 'white peach', 'nectarine', 'apricot', 'apricot jam'.\"}\n"
     ]
    }
   ],
   "source": [
    "answer = cypher_chain.invoke({'query': \"모든 종류의 노드 중에서 name 속성이 'peach'인 노드를 찾고, 어떤 관계든 상관없이 2단계 이내로 연결된 모든 노드들을 찾아줘\"})\n",
    "print(answer)"
   ]
  },
  {
   "cell_type": "code",
   "execution_count": 28,
   "metadata": {},
   "outputs": [
    {
     "data": {
      "text/plain": [
       "[{'m.name': 'nectarine'},\n",
       " {'m.name': 'peach juice'},\n",
       " {'m.name': 'peach iced tea'},\n",
       " {'m.name': 'white peach'},\n",
       " {'m.name': 'apricot'},\n",
       " {'m.name': 'apricot jam'},\n",
       " {'m.name': 'peach tea'},\n",
       " {'m.name': 'yellow peach'},\n",
       " {'m.name': 'peach jam'}]"
      ]
     },
     "execution_count": 28,
     "metadata": {},
     "output_type": "execute_result"
    }
   ],
   "source": [
    "search_query = \"MATCH (n {name: 'peach'})-[:INCLUDES*1..2]->(m) RETURN m.name\"\n",
    "\n",
    "graph.query(search_query)"
   ]
  },
  {
   "cell_type": "code",
   "execution_count": 29,
   "metadata": {},
   "outputs": [],
   "source": [
    "from langchain_neo4j import Neo4jVector"
   ]
  },
  {
   "cell_type": "code",
   "execution_count": 32,
   "metadata": {},
   "outputs": [],
   "source": [
    "graph_db = Neo4jVector.from_existing_index(\n",
    "    embeddings,\n",
    "    url=os.getenv(\"NEO4J_URI\"),\n",
    "    username=os.getenv(\"NEO4J_USER\"),\n",
    "    password=os.getenv(\"NEO4J_PASSWORD\"),\n",
    "    index_name=\"all_node_index\",\n",
    "    text_node_property=\"name\"\n",
    ")"
   ]
  },
  {
   "cell_type": "code",
   "execution_count": 34,
   "metadata": {},
   "outputs": [
    {
     "name": "stdout",
     "output_type": "stream",
     "text": [
      "page_content='cocoa' 0.8466353416442871\n",
      "page_content='coconut' 0.8429388999938965\n",
      "page_content='chocolate' 0.8336925506591797\n",
      "page_content='chocolate' 0.8336925506591797\n",
      "page_content='milk chocolate' 0.8275504112243652\n"
     ]
    }
   ],
   "source": [
    "query = \"초콜릿\"\n",
    "\n",
    "similar_docs = graph_db.similarity_search_with_score(\n",
    "    query,\n",
    "    k=5,\n",
    "    return_embeddings=False\n",
    ")\n",
    "\n",
    "for doc, score in similar_docs:\n",
    "    print(doc, score)"
   ]
  },
  {
   "cell_type": "code",
   "execution_count": 35,
   "metadata": {},
   "outputs": [
    {
     "data": {
      "text/plain": [
       "{}"
      ]
     },
     "execution_count": 35,
     "metadata": {},
     "output_type": "execute_result"
    }
   ],
   "source": [
    "doc.metadata"
   ]
  },
  {
   "cell_type": "code",
   "execution_count": null,
   "metadata": {},
   "outputs": [],
   "source": []
  }
 ],
 "metadata": {
  "kernelspec": {
   "display_name": ".venv",
   "language": "python",
   "name": "python3"
  },
  "language_info": {
   "codemirror_mode": {
    "name": "ipython",
    "version": 3
   },
   "file_extension": ".py",
   "mimetype": "text/x-python",
   "name": "python",
   "nbconvert_exporter": "python",
   "pygments_lexer": "ipython3",
   "version": "3.12.7"
  }
 },
 "nbformat": 4,
 "nbformat_minor": 2
}
